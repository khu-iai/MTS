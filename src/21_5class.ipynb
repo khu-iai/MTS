{
 "cells": [
  {
   "cell_type": "markdown",
   "metadata": {},
   "source": [
    "0.021 안에서 고장을 Ball,InnerRace, OuterRace12, OuterRace3, OuterRace6 5가지 경우로 나누고 하나를 정상, 나머지를 고장으로 하여 실험"
   ]
  },
  {
   "cell_type": "code",
   "execution_count": 1,
   "metadata": {},
   "outputs": [],
   "source": [
    "import cwru                      # Case Western Reserve University Bearing Data\n",
    "import pandas as pd              # dataframe\n",
    "import numpy as np               # array\n",
    "from collections import Counter  # Class 갯수 세기\n",
    "import matplotlib.pyplot as plt  # Visualization\n",
    "%matplotlib inline\n",
    "from scipy.fftpack import fft, ifft\n",
    "from acoustics.cepstrum import complex_cepstrum, real_cepstrum\n",
    "from sklearn.preprocessing import scale\n",
    "from scipy.spatial import distance\n",
    "from numpy.linalg import inv"
   ]
  },
  {
   "cell_type": "code",
   "execution_count": 450,
   "metadata": {},
   "outputs": [],
   "source": [
    "cwru_data = cwru.CWRU(\"12DriveEndFault\", \"1750\", 12000)"
   ]
  },
  {
   "cell_type": "code",
   "execution_count": 451,
   "metadata": {},
   "outputs": [],
   "source": [
    "#cwru_data.labels"
   ]
  },
  {
   "cell_type": "code",
   "execution_count": 452,
   "metadata": {},
   "outputs": [],
   "source": [
    "x_train = np.asarray(cwru_data.X_train)\n",
    "x_test = np.asarray(cwru_data.X_test)\n",
    "\n",
    "y_train = np.asarray(cwru_data.y_train)\n",
    "y_test = np.asarray(cwru_data.y_test)"
   ]
  },
  {
   "cell_type": "code",
   "execution_count": 453,
   "metadata": {},
   "outputs": [
    {
     "name": "stdout",
     "output_type": "stream",
     "text": [
      "Counter({15: 30, 0: 7, 1: 7, 2: 7, 3: 7, 4: 7, 5: 7, 6: 7, 7: 7, 8: 7, 9: 7, 10: 7, 11: 7, 12: 7, 13: 7, 14: 7})\n",
      "Counter({15: 10, 0: 3, 1: 3, 2: 3, 3: 3, 4: 3, 5: 3, 6: 3, 7: 3, 8: 3, 9: 3, 10: 3, 11: 3, 12: 3, 13: 3, 14: 3})\n"
     ]
    }
   ],
   "source": [
    "print(Counter(y_train)) # Train 데이터 클래스 분포\n",
    "print(Counter(y_test))  # Test 데이터 클래스 분포"
   ]
  },
  {
   "cell_type": "code",
   "execution_count": 454,
   "metadata": {},
   "outputs": [],
   "source": [
    "mils_21_train_idx, = np.where((y_train == 8) | (y_train == 9) | (y_train == 10) | (y_train == 11) | (y_train == 12))\n",
    "mils_21_test_idx, = np.where((y_test == 8) | (y_test == 9) | (y_test == 10) | (y_test == 11) | (y_test == 12))"
   ]
  },
  {
   "cell_type": "code",
   "execution_count": 455,
   "metadata": {},
   "outputs": [],
   "source": [
    "# remove class 15\n",
    "x_train = x_train[mils_21_train_idx]\n",
    "x_test = x_test[mils_21_test_idx]\n",
    "\n",
    "y_train = y_train[mils_21_train_idx]\n",
    "y_test = y_test[mils_21_test_idx]"
   ]
  },
  {
   "cell_type": "code",
   "execution_count": 456,
   "metadata": {},
   "outputs": [],
   "source": [
    "# k class is abnormal\n",
    "def make_dataset(AbnormalType):\n",
    "    tp = AbnormalType\n",
    "    \n",
    "    if tp == 'Ball':\n",
    "        normal_train_idx, = np.where((y_train != 8))\n",
    "        normal_test_idx, = np.where((y_test != 8))\n",
    "\n",
    "        abnormal_train_idx, = np.where((y_train == 8))\n",
    "        abnormal_test_idx, = np.where((y_test == 8))\n",
    "        \n",
    "    elif tp == 'InnerRace':\n",
    "        normal_train_idx, = np.where((y_train != 9))\n",
    "        normal_test_idx, = np.where((y_test != 9))\n",
    "\n",
    "        abnormal_train_idx, = np.where((y_train == 9))\n",
    "        abnormal_test_idx, = np.where((y_test == 9))\n",
    "        \n",
    "    elif tp == 'OuterRace12':\n",
    "        normal_train_idx, = np.where((y_train != 10))\n",
    "        normal_test_idx, = np.where((y_test != 10))\n",
    "\n",
    "        abnormal_train_idx, = np.where((y_train == 10))\n",
    "        abnormal_test_idx, = np.where((y_test == 10))\n",
    "        \n",
    "    elif tp == 'OuterRace3':\n",
    "        normal_train_idx, = np.where((y_train != 11))\n",
    "        normal_test_idx, = np.where((y_test != 11))\n",
    "\n",
    "        abnormal_train_idx, = np.where((y_train == 11))\n",
    "        abnormal_test_idx, = np.where((y_test == 11))\n",
    "        \n",
    "    elif tp == 'OuterRace6':\n",
    "        normal_train_idx, = np.where((y_train != 12))\n",
    "        normal_test_idx, = np.where((y_test != 12))\n",
    "\n",
    "        abnormal_train_idx, = np.where((y_train == 12))\n",
    "        abnormal_test_idx, = np.where((y_test == 12))\n",
    "        \n",
    "    else:\n",
    "        print('Typing Error')\n",
    "    \n",
    "    return normal_train_idx, normal_test_idx, abnormal_train_idx, abnormal_test_idx\n",
    "    "
   ]
  },
  {
   "cell_type": "code",
   "execution_count": 457,
   "metadata": {},
   "outputs": [],
   "source": [
    "normal_train_idx, normal_test_idx, abnormal_train_idx, abnormal_test_idx = make_dataset('Ball')\n",
    "\n",
    "for i in range(len(y_train)):\n",
    "    if i in normal_train_idx:\n",
    "        y_train[i] = 0 # Normal\n",
    "    else:\n",
    "        y_train[i] = 1 # Abnormal \n",
    "\n",
    "# Test 데이터 클래스 수정\n",
    "for i in range(len(y_test)):\n",
    "    if i in normal_test_idx:\n",
    "        y_test[i] = 0\n",
    "    else:\n",
    "        y_test[i] = 1 \n",
    "            "
   ]
  },
  {
   "cell_type": "code",
   "execution_count": 458,
   "metadata": {},
   "outputs": [],
   "source": [
    "def do_FFT(signal_set):\n",
    "    window = np.hamming(12000)\n",
    "    fft_rlt = np.fft.fft(window * signal_set)\n",
    "    return(fft_rlt)\n",
    "\n",
    "def do_Cepstrum(spectrum):\n",
    "    cep_result = (ifft(np.log(spectrum**2))**2).real\n",
    "    return(cep_result)\n",
    "\n",
    "    #ifft(np.log(np.abs(spectrum)))"
   ]
  },
  {
   "cell_type": "code",
   "execution_count": 459,
   "metadata": {},
   "outputs": [],
   "source": [
    "#Data split\n",
    "normal_x_train = pd.DataFrame(x_train[normal_train_idx])\n",
    "normal_x_test = pd.DataFrame(x_test[normal_test_idx])\n",
    "\n",
    "abnormal_x_train = pd.DataFrame(x_train[abnormal_train_idx])\n",
    "abnormal_x_test = pd.DataFrame(x_test[abnormal_test_idx])"
   ]
  },
  {
   "cell_type": "code",
   "execution_count": 460,
   "metadata": {},
   "outputs": [
    {
     "data": {
      "text/plain": [
       "[<matplotlib.lines.Line2D at 0x7f5686ba73d0>]"
      ]
     },
     "execution_count": 460,
     "metadata": {},
     "output_type": "execute_result"
    },
    {
     "data": {
      "image/png": "[encoded data removed]",
      "text/plain": [
       "<Figure size 432x288 with 1 Axes>"
      ]
     },
     "metadata": {},
     "output_type": "display_data"
    }
   ],
   "source": [
    "plt.plot(normal_x_train.iloc[0,:])"
   ]
  },
  {
   "cell_type": "code",
   "execution_count": 461,
   "metadata": {},
   "outputs": [
    {
     "data": {
      "text/plain": [
       "[<matplotlib.lines.Line2D at 0x7f5686b94ad0>]"
      ]
     },
     "execution_count": 461,
     "metadata": {},
     "output_type": "execute_result"
    },
    {
     "data": {
      "image/png": "[encoded data removed]",
      "text/plain": [
       "<Figure size 432x288 with 1 Axes>"
      ]
     },
     "metadata": {},
     "output_type": "display_data"
    }
   ],
   "source": [
    "plt.plot(normal_x_train.iloc[0,:]*np.hamming(12000))"
   ]
  },
  {
   "cell_type": "code",
   "execution_count": 462,
   "metadata": {},
   "outputs": [
    {
     "data": {
      "text/plain": [
       "'\\n#No-Standardization\\nnormal_x_train_scaled = normal_x_train\\nnormal_x_test_scaled = normal_x_test\\n\\nabnormal_x_train_scaled = abnormal_x_train\\nabnormal_x_test_scaled = abnormal_x_test\\n'"
      ]
     },
     "execution_count": 462,
     "metadata": {},
     "output_type": "execute_result"
    }
   ],
   "source": [
    "#Standardization\n",
    "normal_x_train_scaled = pd.DataFrame(scale(normal_x_train, axis = 1))\n",
    "normal_x_test_scaled = pd.DataFrame(scale(normal_x_test, axis = 1))\n",
    "\n",
    "abnormal_x_train_scaled = pd.DataFrame(scale(abnormal_x_train, axis = 1))\n",
    "abnormal_x_test_scaled = pd.DataFrame(scale(abnormal_x_test, axis = 1))\n",
    "\n",
    "'''\n",
    "#No-Standardization\n",
    "normal_x_train_scaled = normal_x_train\n",
    "normal_x_test_scaled = normal_x_test\n",
    "\n",
    "abnormal_x_train_scaled = abnormal_x_train\n",
    "abnormal_x_test_scaled = abnormal_x_test\n",
    "'''"
   ]
  },
  {
   "cell_type": "code",
   "execution_count": 463,
   "metadata": {},
   "outputs": [],
   "source": [
    "#Hamming and FFT\n",
    "normal_x_train_fft = np.apply_along_axis(do_FFT, 1, normal_x_train_scaled)\n",
    "normal_x_test_fft = np.apply_along_axis(do_FFT, 1, normal_x_test_scaled)\n",
    "\n",
    "abnormal_x_train_fft = np.apply_along_axis(do_FFT, 1, abnormal_x_train_scaled)\n",
    "abnormal_x_test_fft = np.apply_along_axis(do_FFT, 1, abnormal_x_test_scaled)"
   ]
  },
  {
   "cell_type": "code",
   "execution_count": 464,
   "metadata": {},
   "outputs": [
    {
     "data": {
      "text/plain": [
       "Text(0,0.5,'|Y(freq)|')"
      ]
     },
     "execution_count": 464,
     "metadata": {},
     "output_type": "execute_result"
    },
    {
     "data": {
      "image/png": "[encoded data removed]",
      "text/plain": [
       "<Figure size 432x288 with 2 Axes>"
      ]
     },
     "metadata": {},
     "output_type": "display_data"
    }
   ],
   "source": [
    "Fs = 12000.0;  # sampling rate\n",
    "Ts = 1.0/Fs; # sampling interval\n",
    "t = np.arange(0,1,Ts) # time vector\n",
    "\n",
    "y = normal_x_train_scaled.iloc[0,:]\n",
    "\n",
    "n = len(y) # length of the signal\n",
    "k = np.arange(n)\n",
    "T = n/Fs\n",
    "frq = k/T # two sides frequency range\n",
    "frq = frq[range(n/2)] # one side frequency range\n",
    "\n",
    "Y = np.fft.fft(y)/n # fft computing and normalization\n",
    "Y = Y[range(n/2)]\n",
    "\n",
    "fig, ax = plt.subplots(2, 1)\n",
    "ax[0].plot(t,y)\n",
    "ax[0].set_xlabel('Time')\n",
    "ax[0].set_ylabel('Amplitude')\n",
    "ax[1].plot(frq,abs(Y),'r') # plotting the spectrum\n",
    "ax[1].set_xlabel('Freq (Hz)')\n",
    "ax[1].set_ylabel('|Y(freq)|')\n"
   ]
  },
  {
   "cell_type": "code",
   "execution_count": 465,
   "metadata": {},
   "outputs": [
    {
     "data": {
      "text/plain": [
       "[<matplotlib.lines.Line2D at 0x7f5686a4fd90>]"
      ]
     },
     "execution_count": 465,
     "metadata": {},
     "output_type": "execute_result"
    },
    {
     "data": {
      "image/png": "[encoded data removed]",
      "text/plain": [
       "<Figure size 432x288 with 1 Axes>"
      ]
     },
     "metadata": {},
     "output_type": "display_data"
    }
   ],
   "source": [
    "#Cepstrum\n",
    "normal_x_train_cep = np.apply_along_axis(do_Cepstrum, 1, normal_x_train_fft)\n",
    "normal_x_test_cep = np.apply_along_axis(do_Cepstrum, 1, normal_x_test_fft)\n",
    "\n",
    "abnormal_x_train_cep = np.apply_along_axis(do_Cepstrum, 1, abnormal_x_train_fft)\n",
    "abnormal_x_test_cep = np.apply_along_axis(do_Cepstrum, 1, abnormal_x_test_fft)\n",
    "\n",
    "plt.plot(normal_x_train_cep[0])"
   ]
  },
  {
   "cell_type": "code",
   "execution_count": 466,
   "metadata": {},
   "outputs": [],
   "source": [
    "#SI Functions\n",
    "def get_mean(x):\n",
    "    avg = np.mean(x)\n",
    "    return(avg)\n",
    "\n",
    "def get_std(x):\n",
    "    std = np.std(x)\n",
    "    return(std)\n",
    "\n",
    "def get_skewness(x):\n",
    "    skewness = sum((x - np.mean(x))**3) / ((len(x)-1)*(np.std(x)**3))\n",
    "    return(skewness)\n",
    "\n",
    "def get_kurtosis(x):\n",
    "    kurtosis = sum((x - np.mean(x))**4) / ((len(x)-1)*(np.std(x)**4))\n",
    "    return (kurtosis)\n",
    "\n",
    "def get_p2p(x):\n",
    "    p2p = (np.max(x) - np.min(x))\n",
    "    return(p2p)\n",
    "\n",
    "def get_rms(x):\n",
    "    rms = np.sqrt(sum(x**2) / len(x))\n",
    "    return(rms)\n",
    "\n",
    "def get_crestFactor(x):\n",
    "    crestFactor = get_p2p(x) / get_rms(x)\n",
    "    return(crestFactor)\n",
    "\n",
    "def get_shapeFactor(x):\n",
    "    shapeFactor = get_rms(x) / get_mean(x)\n",
    "    return(shapeFactor)\n",
    "    \n",
    "def get_marginFactor(x):\n",
    "    marginFactor = np.max(x) / (np.mean((np.sqrt(abs(x))))**2)\n",
    "    return(marginFactor)\n",
    "\n",
    "def get_impulseFactor(x):\n",
    "    impulseFactor = np.max(x) / np.mean(abs(x))\n",
    "    return(impulseFactor)\n"
   ]
  },
  {
   "cell_type": "code",
   "execution_count": 467,
   "metadata": {},
   "outputs": [],
   "source": [
    "def make_df(x):\n",
    "    mean_value = np.apply_along_axis(get_mean, 1, x)\n",
    "    std_value = np.apply_along_axis(get_std, 1, x)\n",
    "    skewness_value = np.apply_along_axis(get_skewness, 1, x)\n",
    "    kurtosis_value = np.apply_along_axis(get_kurtosis, 1, x)\n",
    "    p2p_value = np.apply_along_axis(get_p2p, 1, x)\n",
    "    rms_value = np.apply_along_axis(get_rms, 1, x)\n",
    "    crestFactor_value = np.apply_along_axis(get_crestFactor, 1, x)\n",
    "    shapeFactor_value = np.apply_along_axis(get_shapeFactor, 1, x)\n",
    "    marginFactor_value = np.apply_along_axis(get_marginFactor, 1, x)\n",
    "    impulseFactor_value = np.apply_along_axis(get_impulseFactor, 1, x)\n",
    "    \n",
    "    df = pd.DataFrame({'mean':mean_value, 'std':std_value, 'skewness':skewness_value, 'kurtosis':kurtosis_value, 'p2p':p2p_value, 'rms':rms_value,\n",
    "                       'crest':crestFactor_value, 'shape':shapeFactor_value, 'margin':marginFactor_value, 'impulse':impulseFactor_value})\n",
    "    \n",
    "    return(df)"
   ]
  },
  {
   "cell_type": "code",
   "execution_count": 468,
   "metadata": {},
   "outputs": [],
   "source": [
    "#make dataframe\n",
    "normal_x_train_SI = make_df(normal_x_train_cep)\n",
    "normal_x_test_SI = make_df(normal_x_test_cep)\n",
    "\n",
    "abnormal_x_train_SI = make_df(abnormal_x_train_cep)\n",
    "abnormal_x_test_SI = make_df(abnormal_x_test_cep)"
   ]
  },
  {
   "cell_type": "code",
   "execution_count": 469,
   "metadata": {},
   "outputs": [],
   "source": [
    "#Standardization in MTS\n",
    "def standardize(x,y):\n",
    "    mean_mean = get_mean(x['mean'])\n",
    "    std_mean = get_mean(x['std'])\n",
    "    skewness_mean = get_mean(x['skewness'])\n",
    "    kurtosis_mean = get_mean(x['kurtosis'])\n",
    "    p2p_mean = get_mean(x['p2p'])\n",
    "    rms_mean = get_mean(x['rms'])\n",
    "    crest_mean = get_mean(x['crest'])\n",
    "    shape_mean = get_mean(x['shape'])\n",
    "    margin_mean = get_mean(x['margin'])\n",
    "    impulse_mean = get_mean(x['impulse'])\n",
    "    \n",
    "    mean_std = get_std(x['mean'])\n",
    "    std_std = get_std(x['std'])\n",
    "    skewness_std = get_std(x['skewness'])\n",
    "    kurtosis_std = get_std(x['kurtosis'])\n",
    "    p2p_std = get_std(x['p2p'])\n",
    "    rms_std = get_std(x['rms'])\n",
    "    crest_std = get_std(x['crest'])\n",
    "    shape_std = get_std(x['shape'])\n",
    "    margin_std = get_std(x['margin'])\n",
    "    impulse_std = get_std(x['impulse'])\n",
    "    \n",
    "    mean_value = (y['mean'] - mean_mean) / mean_std\n",
    "    std_value = (y['std'] - std_mean) / std_std\n",
    "    skewness_value = (y['skewness'] - skewness_mean) / skewness_std\n",
    "    kurtosis_value = (y['kurtosis'] - kurtosis_mean) / kurtosis_std\n",
    "    p2p_value = (y['p2p'] - p2p_mean) / p2p_std\n",
    "    rms_value = (y['rms'] - rms_mean) / rms_std\n",
    "    crest_value = (y['crest'] - crest_mean) / crest_std\n",
    "    shape_value = (y['shape'] - shape_mean) / shape_std\n",
    "    margin_value = (y['margin'] - margin_mean) / margin_std\n",
    "    impulse_value = (y['impulse'] - impulse_mean) / impulse_std\n",
    "    \n",
    "    df = pd.DataFrame({'mean':mean_value, 'std':std_value, 'skewness':skewness_value, 'kurtosis':kurtosis_value, 'p2p':p2p_value, 'rms':rms_value,\n",
    "                       'crest':crest_value, 'shape':shape_value, 'margin':margin_value, 'impulse':impulse_value})\n",
    "    \n",
    "    return(df)"
   ]
  },
  {
   "cell_type": "code",
   "execution_count": 470,
   "metadata": {},
   "outputs": [],
   "source": [
    "normal_x_train_SI_scaled = standardize(normal_x_train_SI, normal_x_train_SI)\n",
    "normal_x_test_SI_scaled = standardize(normal_x_train_SI, normal_x_test_SI)\n",
    "\n",
    "abnormal_x_train_SI_scaled = standardize(normal_x_train_SI, abnormal_x_train_SI)\n",
    "abnormal_x_test_SI_scaled = standardize(normal_x_train_SI, abnormal_x_test_SI)"
   ]
  },
  {
   "cell_type": "code",
   "execution_count": 471,
   "metadata": {},
   "outputs": [],
   "source": [
    "def get_MD_distance(x):\n",
    "    normal_cov_mat = pd.DataFrame(normal_x_train_SI_scaled).corr()\n",
    "    dist = np.matmul(np.matmul(x, inv(normal_cov_mat)), np.transpose(x)) / len(x)\n",
    "    return(dist)"
   ]
  },
  {
   "cell_type": "code",
   "execution_count": 472,
   "metadata": {},
   "outputs": [],
   "source": [
    "normal_train_dist = np.apply_along_axis(get_MD_distance, 1, normal_x_train_SI_scaled)\n",
    "normal_train_dist.sort()\n",
    "normal_test_dist = np.apply_along_axis(get_MD_distance, 1, normal_x_test_SI_scaled)\n",
    "normal_test_dist.sort()\n",
    "\n",
    "abnormal_train_dist = np.apply_along_axis(get_MD_distance, 1, abnormal_x_train_SI_scaled)\n",
    "abnormal_train_dist.sort()\n",
    "abnormal_test_dist = np.apply_along_axis(get_MD_distance, 1, abnormal_x_test_SI_scaled)\n",
    "abnormal_test_dist.sort()\n"
   ]
  },
  {
   "cell_type": "code",
   "execution_count": 473,
   "metadata": {},
   "outputs": [
    {
     "name": "stdout",
     "output_type": "stream",
     "text": [
      "[0.34985764 0.41142422 0.41308614 0.50553867 0.52614473 0.58921663\n",
      " 0.59422189 0.63056945 0.65168277 0.65779813 0.66303691 0.69514418\n",
      " 0.70612995 0.72890632 0.72941761 0.74948428 0.93510448 0.93659565\n",
      " 0.96153174 1.02005849 1.05582308 1.17317272 1.19611021 1.9014812\n",
      " 2.12796618 2.28629807 2.28777368 2.51390952]\n",
      "\n",
      "\n",
      "[0.38000824 0.45006229 0.7231624  0.7337525  0.95649267 1.28550447\n",
      " 1.39746822 1.72695002 1.74893213 1.86123241 2.01301528 3.9917622 ]\n",
      "\n",
      "\n",
      "[12.0710722  16.13114157 16.20274259 19.36037502 20.58021966 21.3511216\n",
      " 23.91859463]\n",
      "\n",
      "\n",
      "[16.21714866 18.63069394 30.30222142]\n"
     ]
    }
   ],
   "source": [
    "print(normal_train_dist)\n",
    "print('\\n')\n",
    "print(normal_test_dist)\n",
    "print('\\n')\n",
    "print(abnormal_train_dist)\n",
    "print('\\n')\n",
    "print(abnormal_test_dist)\n"
   ]
  },
  {
   "cell_type": "code",
   "execution_count": 474,
   "metadata": {},
   "outputs": [],
   "source": [
    "#L_12(2^11) orthogonal array\n",
    "ortho_array = np.matrix([[1, 1, 1, 1, 1, 1, 1, 1, 1, 1, 1],\n",
    "                       [1, 1, 1, 1, 1, 2, 2, 2, 2, 2, 2],\n",
    "                       [1, 1, 2, 2, 2, 1, 1, 1, 2, 2, 2],\n",
    "                       [1, 2, 1, 2, 2, 1, 2, 2, 1, 1, 2],\n",
    "                       [1, 2, 2, 1, 2, 2, 1, 2, 1, 2, 1],\n",
    "                       [1, 2, 2, 2, 1, 2, 2, 1, 2, 1, 1],\n",
    "                       [2, 1, 2, 2, 1, 1, 2, 2, 1, 2, 1],\n",
    "                       [2, 1, 2, 1, 2, 2, 2, 1, 1, 1, 2],\n",
    "                       [2, 1, 1, 2, 2, 2, 1, 2, 2, 1, 1],\n",
    "                       [2, 2, 2, 1, 1, 1, 1, 2, 2, 1, 2],\n",
    "                       [2, 2, 1, 2, 1, 2, 1, 1, 1, 2, 2],\n",
    "                       [2, 2, 1, 1, 2, 1, 2, 1, 2, 2, 1]])"
   ]
  },
  {
   "cell_type": "code",
   "execution_count": 475,
   "metadata": {},
   "outputs": [],
   "source": [
    "otho_df = pd.DataFrame(ortho_array, columns=['mean', 'std', 'skewness', 'kurtosis', 'p2p', 'rms', 'crest', 'shape', 'margin', 'impulse','DUMMY'])"
   ]
  },
  {
   "cell_type": "code",
   "execution_count": 476,
   "metadata": {},
   "outputs": [],
   "source": [
    "def get_exp_col(n):\n",
    "    condition = otho_df.iloc[n,:]==1\n",
    "    col = list(otho_df.loc[n,condition].index)\n",
    "    if('DUMMY' in col):\n",
    "        col.pop()\n",
    "    return(col)"
   ]
  },
  {
   "cell_type": "code",
   "execution_count": 477,
   "metadata": {},
   "outputs": [],
   "source": [
    "def get_MD_distance_exp(x,n):\n",
    "    col = get_exp_col(n)\n",
    "    normal_cov_mat = pd.DataFrame(normal_x_train_SI_scaled[col]).corr()\n",
    "    dist = np.matmul(np.matmul(x, inv(normal_cov_mat)), np.transpose(x)) / len(x)\n",
    "    return(dist)"
   ]
  },
  {
   "cell_type": "code",
   "execution_count": 478,
   "metadata": {},
   "outputs": [],
   "source": [
    "def get_MD_exp(n,df):\n",
    "    col = get_exp_col(n)\n",
    "    target_df = df[col]\n",
    "    dist = np.apply_along_axis(get_MD_distance_exp, 1, target_df, n)\n",
    "    return(dist)"
   ]
  },
  {
   "cell_type": "code",
   "execution_count": 479,
   "metadata": {},
   "outputs": [],
   "source": [
    "def get_MD_matrix(df):\n",
    "    arr = np.empty([12, df.shape[0]])\n",
    "    for i in range(0,12):\n",
    "        arr[i,:] = get_MD_exp(i,df)\n",
    "        \n",
    "    return(arr)"
   ]
  },
  {
   "cell_type": "code",
   "execution_count": 480,
   "metadata": {},
   "outputs": [],
   "source": [
    "normal_x_test_MD_matrix = get_MD_matrix(normal_x_test_SI_scaled)\n",
    "\n",
    "abnormal_x_train_MD_matrix = get_MD_matrix(abnormal_x_train_SI_scaled)\n",
    "abnormal_x_test_MD_matrix = get_MD_matrix(abnormal_x_test_SI_scaled)\n"
   ]
  },
  {
   "cell_type": "code",
   "execution_count": 481,
   "metadata": {},
   "outputs": [],
   "source": [
    "def cal_larger_better_SNRatio(mat):\n",
    "    SNRatio = []\n",
    "    for i in range(0,mat.shape[0]):\n",
    "        dist = mat[i]\n",
    "        SN = -10 * np.log10(np.mean(1/(dist)))\n",
    "        SNRatio.append(SN)\n",
    "        \n",
    "    return(SNRatio)"
   ]
  },
  {
   "cell_type": "code",
   "execution_count": 482,
   "metadata": {},
   "outputs": [],
   "source": [
    "def cal_smaller_better_SNRatio(mat):\n",
    "    SNRatio = []\n",
    "    for i in range(0,mat.shape[0]):\n",
    "        dist = mat[i]\n",
    "        SN = -10 * np.log10(np.mean(dist))\n",
    "        SNRatio.append(SN)\n",
    "        \n",
    "    return(SNRatio)"
   ]
  },
  {
   "cell_type": "code",
   "execution_count": 483,
   "metadata": {},
   "outputs": [],
   "source": [
    "SNRatio_normal_test = cal_smaller_better_SNRatio(normal_x_test_MD_matrix)\n",
    "\n",
    "SNRatio_abnormal_train = cal_larger_better_SNRatio(abnormal_x_train_MD_matrix)\n",
    "SNRatio_abnormal_test = cal_larger_better_SNRatio(abnormal_x_test_MD_matrix)"
   ]
  },
  {
   "cell_type": "code",
   "execution_count": 484,
   "metadata": {},
   "outputs": [],
   "source": [
    "def cal_smaller_better_gain(mat,col_name):\n",
    "    idx_1 = list(otho_df.loc[otho_df[col_name] == 1].index)\n",
    "    idx_2 = list(otho_df.loc[otho_df[col_name] == 2].index)\n",
    "    \n",
    "    SN = np.array(cal_smaller_better_SNRatio(mat))\n",
    "    values_1 = np.mean(SN[idx_1])\n",
    "    values_2 = np.mean(SN[idx_2])\n",
    "    \n",
    "    gain = values_1 - values_2\n",
    "    \n",
    "    return(gain)"
   ]
  },
  {
   "cell_type": "code",
   "execution_count": 485,
   "metadata": {},
   "outputs": [],
   "source": [
    "def cal_larger_better_gain(mat,col_name):\n",
    "    idx_1 = list(otho_df.loc[otho_df[col_name] == 1].index)\n",
    "    idx_2 = list(otho_df.loc[otho_df[col_name] == 2].index)\n",
    "    \n",
    "    SN = np.array(cal_larger_better_SNRatio(mat))\n",
    "    values_1 = np.mean(SN[idx_1])\n",
    "    values_2 = np.mean(SN[idx_2])\n",
    "    \n",
    "    gain = values_1 - values_2\n",
    "    \n",
    "    return(gain)"
   ]
  },
  {
   "cell_type": "code",
   "execution_count": 486,
   "metadata": {},
   "outputs": [],
   "source": [
    "#get gain\n",
    "column_names=['mean', 'std', 'skewness', 'kurtosis', 'p2p', 'rms', 'crest', 'shape', 'margin', 'impulse']\n",
    "\n",
    "def get_normal_test_gain(col):\n",
    "    columns = col\n",
    "    gain_values = []\n",
    "    for i in range(0,len(columns)):\n",
    "        gain_values.append(cal_smaller_better_gain(normal_x_test_MD_matrix, columns[i]))\n",
    "        \n",
    "    return(gain_values)\n",
    " \n",
    "def get_abnormal_train_gain(col):\n",
    "    columns = col\n",
    "    gain_values = []\n",
    "    for i in range(0,len(columns)):\n",
    "        gain_values.append(cal_larger_better_gain(abnormal_x_train_MD_matrix, columns[i]))\n",
    "        \n",
    "    return(gain_values)\n",
    "\n",
    "def get_abnormal_test_gain(col):\n",
    "    columns = col\n",
    "    gain_values = []\n",
    "    for i in range(0,len(columns)):\n",
    "        gain_values.append(cal_larger_better_gain(abnormal_x_test_MD_matrix, columns[i]))\n",
    "        \n",
    "    return(gain_values)"
   ]
  },
  {
   "cell_type": "code",
   "execution_count": 487,
   "metadata": {},
   "outputs": [],
   "source": [
    "normal_test_gain = get_normal_test_gain(column_names)\n",
    "\n",
    "abnormal_train_gain = get_abnormal_train_gain(column_names)\n",
    "abnormal_test_gain = get_abnormal_test_gain(column_names)"
   ]
  },
  {
   "cell_type": "code",
   "execution_count": 488,
   "metadata": {},
   "outputs": [
    {
     "name": "stdout",
     "output_type": "stream",
     "text": [
      "normal_test_gain\n",
      "                 0\n",
      "mean      0.022060\n",
      "std       0.371384\n",
      "skewness -0.390627\n",
      "kurtosis -0.201628\n",
      "p2p      -0.290152\n",
      "rms      -0.065283\n",
      "crest    -0.397694\n",
      "shape     0.070817\n",
      "margin   -0.252237\n",
      "impulse  -0.390656\n",
      "\n",
      "\n",
      "abnormal_train_gain\n",
      "                 0\n",
      "mean     -1.964425\n",
      "std       1.244793\n",
      "skewness  2.411567\n",
      "kurtosis -2.310084\n",
      "p2p       1.806259\n",
      "rms       1.894354\n",
      "crest    -0.887728\n",
      "shape     2.067514\n",
      "margin    9.594781\n",
      "impulse   1.705355\n",
      "\n",
      "\n",
      "abnormal_test_gain\n",
      "                 0\n",
      "mean     -2.133828\n",
      "std       1.655447\n",
      "skewness  2.437137\n",
      "kurtosis -2.496522\n",
      "p2p       2.380708\n",
      "rms       2.206080\n",
      "crest    -0.940672\n",
      "shape     2.428471\n",
      "margin    7.776287\n",
      "impulse   1.801388\n"
     ]
    }
   ],
   "source": [
    "print('normal_test_gain')\n",
    "print(pd.DataFrame(normal_test_gain, index=column_names))\n",
    "print('\\n')\n",
    "\n",
    "print('abnormal_train_gain')\n",
    "print(pd.DataFrame(abnormal_train_gain, index=column_names))\n",
    "print('\\n')\n",
    "\n",
    "print('abnormal_test_gain')\n",
    "print(pd.DataFrame(abnormal_test_gain, index=column_names))"
   ]
  },
  {
   "cell_type": "code",
   "execution_count": 493,
   "metadata": {},
   "outputs": [
    {
     "name": "stdout",
     "output_type": "stream",
     "text": [
      "Normal Train (Mahalanobis Space)\n",
      "[0.07186352 0.13659476 0.21998432 0.25412388 0.3309795  0.34173513\n",
      " 0.53066444 0.56552384 0.60031775 0.60986519 0.61235437 0.63930884\n",
      " 0.69405524 0.79075337 0.87011845 0.94073208 1.03238176 1.08019687\n",
      " 1.25309977 1.2581131  1.374244   1.38333726 1.50982646 1.72840063\n",
      " 1.79712405 1.83880848 2.0888239  3.44666901]\n",
      "\n",
      "\n",
      "Normal Test\n",
      "[0.15316761 0.572778   0.78818135 0.82133428 0.95722124 0.98287272\n",
      " 1.04837272 1.11919944 1.53280792 1.64106161 2.17922068 2.48231698]\n",
      "\n",
      "\n",
      "Abnormal Train\n",
      "[1.11133205 1.38349805 2.06694399 2.07703884 2.37960367 2.62134739\n",
      " 3.68895409]\n",
      "\n",
      "\n",
      "Abnormal Test\n",
      "[1.06753036 1.31828801 2.37933981]\n"
     ]
    }
   ],
   "source": [
    "# Select variables that show positive SN ratio in Normal test\n",
    "\n",
    "variables = ['margin','skewness']\n",
    "\n",
    "normal_train_taguchi = normal_x_train_SI_scaled[variables]\n",
    "normal_test_taguchi = normal_x_test_SI_scaled[variables]\n",
    "\n",
    "abnormal_train_taguchi = abnormal_x_train_SI_scaled[variables]\n",
    "abnormal_test_taguchi = abnormal_x_test_SI_scaled[variables]\n",
    "\n",
    "def get_MD_distance_taguchi(x):\n",
    "    normal_cov_mat = pd.DataFrame(normal_train_taguchi).corr()\n",
    "    dist = np.matmul(np.matmul(x, inv(normal_cov_mat)), np.transpose(x)) / len(x)\n",
    "    return(dist)\n",
    "\n",
    "normal_train_dist_taguchi = np.apply_along_axis(get_MD_distance_taguchi, 1, normal_train_taguchi)\n",
    "normal_train_dist_taguchi.sort()\n",
    "normal_test_dist_taguchi = np.apply_along_axis(get_MD_distance_taguchi, 1, normal_test_taguchi)\n",
    "normal_test_dist_taguchi.sort()\n",
    "\n",
    "abnormal_train_dist_taguchi = np.apply_along_axis(get_MD_distance_taguchi, 1, abnormal_train_taguchi)\n",
    "abnormal_train_dist_taguchi.sort()\n",
    "abnormal_test_dist_taguchi = np.apply_along_axis(get_MD_distance_taguchi, 1, abnormal_test_taguchi)\n",
    "abnormal_test_dist_taguchi.sort()\n",
    "\n",
    "# Results of Feature selection\n",
    "print('Normal Train (Mahalanobis Space)')\n",
    "print(normal_train_dist_taguchi)\n",
    "print('\\n')\n",
    "\n",
    "print('Normal Test')\n",
    "print(normal_test_dist_taguchi)\n",
    "print('\\n')\n",
    "\n",
    "print('Abnormal Train')\n",
    "print(abnormal_train_dist_taguchi)\n",
    "print('\\n')\n",
    "\n",
    "print('Abnormal Test')\n",
    "print(abnormal_test_dist_taguchi)"
   ]
  },
  {
   "cell_type": "code",
   "execution_count": null,
   "metadata": {},
   "outputs": [],
   "source": []
  },
  {
   "cell_type": "code",
   "execution_count": null,
   "metadata": {},
   "outputs": [],
   "source": []
  }
 ],
 "metadata": {
  "kernelspec": {
   "display_name": "Python 2",
   "language": "python",
   "name": "python2"
  },
  "language_info": {
   "codemirror_mode": {
    "name": "ipython",
    "version": 2
   },
   "file_extension": ".py",
   "mimetype": "text/x-python",
   "name": "python",
   "nbconvert_exporter": "python",
   "pygments_lexer": "ipython2",
   "version": "2.7.15"
  }
 },
 "nbformat": 4,
 "nbformat_minor": 2
}
