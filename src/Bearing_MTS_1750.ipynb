{
 "cells": [
  {
   "cell_type": "code",
   "execution_count": 1,
   "metadata": {},
   "outputs": [],
   "source": [
    "import cwru                      # Case Western Reserve University Bearing Data\n",
    "import pandas as pd              # dataframe\n",
    "import numpy as np               # array\n",
    "from collections import Counter  # Class 갯수 세기\n",
    "import matplotlib.pyplot as plt  # Visualization\n",
    "%matplotlib inline\n",
    "from scipy.fftpack import fft, ifft\n",
    "from acoustics.cepstrum import complex_cepstrum, real_cepstrum\n",
    "from sklearn.preprocessing import scale\n",
    "from scipy.spatial import distance\n",
    "from numpy.linalg import inv"
   ]
  },
  {
   "cell_type": "code",
   "execution_count": 2,
   "metadata": {},
   "outputs": [],
   "source": [
    "cwru_data = cwru.CWRU(\"12DriveEndFault\", \"1750\", 12000)"
   ]
  },
  {
   "cell_type": "code",
   "execution_count": 3,
   "metadata": {},
   "outputs": [],
   "source": [
    "x_train = np.asarray(cwru_data.X_train)\n",
    "x_test = np.asarray(cwru_data.X_test)\n",
    "\n",
    "y_train = np.asarray(cwru_data.y_train)\n",
    "y_test = np.asarray(cwru_data.y_test)"
   ]
  },
  {
   "cell_type": "code",
   "execution_count": 4,
   "metadata": {},
   "outputs": [
    {
     "name": "stdout",
     "output_type": "stream",
     "text": [
      "Counter({15: 30, 0: 7, 1: 7, 2: 7, 3: 7, 4: 7, 5: 7, 6: 7, 7: 7, 8: 7, 9: 7, 10: 7, 11: 7, 12: 7, 13: 7, 14: 7})\n",
      "Counter({15: 10, 0: 3, 1: 3, 2: 3, 3: 3, 4: 3, 5: 3, 6: 3, 7: 3, 8: 3, 9: 3, 10: 3, 11: 3, 12: 3, 13: 3, 14: 3})\n"
     ]
    }
   ],
   "source": [
    "print(Counter(y_train)) # Train 데이터 클래스 분포\n",
    "print(Counter(y_test))  # Test 데이터 클래스 분포"
   ]
  },
  {
   "cell_type": "code",
   "execution_count": 5,
   "metadata": {},
   "outputs": [],
   "source": [
    "# Normal 클래스\n",
    "normal_train_idx, = np.where(y_train == 15)   \n",
    "normal_test_idx, = np.where(y_test == 15)     \n",
    "\n",
    "# Abnormal 클래스\n",
    "abnormal_train_idx, = np.where(y_train != 15)\n",
    "abnormal_test_idx, = np.where(y_test != 15)"
   ]
  },
  {
   "cell_type": "code",
   "execution_count": 6,
   "metadata": {},
   "outputs": [],
   "source": [
    "# Train 데이터 클래스 수정\n",
    "for i in range(len(y_train)):\n",
    "    if i in normal_train_idx:\n",
    "        y_train[i] = 0 # Normal 클래스\n",
    "    else:\n",
    "        y_train[i] = 1 # Abnormal 클래스    \n",
    "        \n",
    "# Test 데이터 클래스 수정\n",
    "for i in range(len(y_test)):\n",
    "    if i in normal_test_idx:\n",
    "        y_test[i] = 0 # Normal 클래스\n",
    "    else:\n",
    "        y_test[i] = 1 # Abnormal 클래스  "
   ]
  },
  {
   "cell_type": "code",
   "execution_count": 7,
   "metadata": {},
   "outputs": [],
   "source": [
    "def do_FFT(signal_set):\n",
    "    window = np.hamming(12000)\n",
    "    fft_rlt = np.fft.fft(window * signal_set)\n",
    "    return(fft_rlt)\n",
    "\n",
    "def do_Cepstrum(spectrum):\n",
    "    cep_result = (ifft(np.log(spectrum**2))**2).real\n",
    "    return(cep_result)\n",
    "\n",
    "    #ifft(np.log(np.abs(spectrum)))"
   ]
  },
  {
   "cell_type": "code",
   "execution_count": 8,
   "metadata": {},
   "outputs": [],
   "source": [
    "#Data split\n",
    "normal_x_train = pd.DataFrame(x_train[normal_train_idx])\n",
    "normal_x_test = pd.DataFrame(x_test[normal_test_idx])\n",
    "\n",
    "abnormal_x_train = pd.DataFrame(x_train[abnormal_train_idx])\n",
    "abnormal_x_test = pd.DataFrame(x_test[abnormal_test_idx])"
   ]
  },
  {
   "cell_type": "code",
   "execution_count": 9,
   "metadata": {},
   "outputs": [
    {
     "data": {
      "text/html": [
       "<div>\n",
       "<style scoped>\n",
       "    .dataframe tbody tr th:only-of-type {\n",
       "        vertical-align: middle;\n",
       "    }\n",
       "\n",
       "    .dataframe tbody tr th {\n",
       "        vertical-align: top;\n",
       "    }\n",
       "\n",
       "    .dataframe thead th {\n",
       "        text-align: right;\n",
       "    }\n",
       "</style>\n",
       "<table border=\"1\" class=\"dataframe\">\n",
       "  <thead>\n",
       "    <tr style=\"text-align: right;\">\n",
       "      <th></th>\n",
       "      <th>0</th>\n",
       "      <th>1</th>\n",
       "      <th>2</th>\n",
       "      <th>3</th>\n",
       "      <th>4</th>\n",
       "      <th>5</th>\n",
       "      <th>6</th>\n",
       "      <th>7</th>\n",
       "      <th>8</th>\n",
       "      <th>9</th>\n",
       "      <th>...</th>\n",
       "      <th>11990</th>\n",
       "      <th>11991</th>\n",
       "      <th>11992</th>\n",
       "      <th>11993</th>\n",
       "      <th>11994</th>\n",
       "      <th>11995</th>\n",
       "      <th>11996</th>\n",
       "      <th>11997</th>\n",
       "      <th>11998</th>\n",
       "      <th>11999</th>\n",
       "    </tr>\n",
       "  </thead>\n",
       "  <tbody>\n",
       "    <tr>\n",
       "      <th>0</th>\n",
       "      <td>0.004172</td>\n",
       "      <td>0.081151</td>\n",
       "      <td>0.123083</td>\n",
       "      <td>0.112861</td>\n",
       "      <td>0.072598</td>\n",
       "      <td>0.070303</td>\n",
       "      <td>0.066548</td>\n",
       "      <td>0.055492</td>\n",
       "      <td>0.005215</td>\n",
       "      <td>-0.074684</td>\n",
       "      <td>...</td>\n",
       "      <td>0.008553</td>\n",
       "      <td>-0.017315</td>\n",
       "      <td>-0.050902</td>\n",
       "      <td>-0.053614</td>\n",
       "      <td>-0.022113</td>\n",
       "      <td>0.025034</td>\n",
       "      <td>0.049025</td>\n",
       "      <td>0.019610</td>\n",
       "      <td>-0.028789</td>\n",
       "      <td>-0.053197</td>\n",
       "    </tr>\n",
       "    <tr>\n",
       "      <th>1</th>\n",
       "      <td>0.025451</td>\n",
       "      <td>0.038802</td>\n",
       "      <td>0.032961</td>\n",
       "      <td>0.021905</td>\n",
       "      <td>0.046938</td>\n",
       "      <td>0.056952</td>\n",
       "      <td>0.044018</td>\n",
       "      <td>0.006258</td>\n",
       "      <td>-0.036508</td>\n",
       "      <td>-0.040263</td>\n",
       "      <td>...</td>\n",
       "      <td>0.001460</td>\n",
       "      <td>-0.051319</td>\n",
       "      <td>-0.083238</td>\n",
       "      <td>-0.047147</td>\n",
       "      <td>0.007510</td>\n",
       "      <td>0.030875</td>\n",
       "      <td>0.047564</td>\n",
       "      <td>0.049025</td>\n",
       "      <td>0.070929</td>\n",
       "      <td>0.113695</td>\n",
       "    </tr>\n",
       "    <tr>\n",
       "      <th>2</th>\n",
       "      <td>0.028998</td>\n",
       "      <td>0.036090</td>\n",
       "      <td>0.002295</td>\n",
       "      <td>-0.063419</td>\n",
       "      <td>-0.078857</td>\n",
       "      <td>-0.060916</td>\n",
       "      <td>-0.022948</td>\n",
       "      <td>0.005215</td>\n",
       "      <td>-0.017315</td>\n",
       "      <td>-0.033796</td>\n",
       "      <td>...</td>\n",
       "      <td>-0.012308</td>\n",
       "      <td>-0.020236</td>\n",
       "      <td>-0.028998</td>\n",
       "      <td>-0.009179</td>\n",
       "      <td>0.032335</td>\n",
       "      <td>0.060707</td>\n",
       "      <td>0.051111</td>\n",
       "      <td>-0.018150</td>\n",
       "      <td>-0.081777</td>\n",
       "      <td>-0.100553</td>\n",
       "    </tr>\n",
       "    <tr>\n",
       "      <th>3</th>\n",
       "      <td>-0.080108</td>\n",
       "      <td>-0.031918</td>\n",
       "      <td>-0.011682</td>\n",
       "      <td>0.007510</td>\n",
       "      <td>0.046730</td>\n",
       "      <td>0.098466</td>\n",
       "      <td>0.152081</td>\n",
       "      <td>0.134557</td>\n",
       "      <td>0.068634</td>\n",
       "      <td>0.008970</td>\n",
       "      <td>...</td>\n",
       "      <td>0.053197</td>\n",
       "      <td>0.002295</td>\n",
       "      <td>-0.033587</td>\n",
       "      <td>-0.047147</td>\n",
       "      <td>-0.035256</td>\n",
       "      <td>-0.029623</td>\n",
       "      <td>-0.042349</td>\n",
       "      <td>-0.052780</td>\n",
       "      <td>-0.061333</td>\n",
       "      <td>-0.018150</td>\n",
       "    </tr>\n",
       "    <tr>\n",
       "      <th>4</th>\n",
       "      <td>0.059873</td>\n",
       "      <td>0.039428</td>\n",
       "      <td>0.004172</td>\n",
       "      <td>-0.001669</td>\n",
       "      <td>0.025868</td>\n",
       "      <td>0.060707</td>\n",
       "      <td>0.042975</td>\n",
       "      <td>-0.008762</td>\n",
       "      <td>-0.045270</td>\n",
       "      <td>-0.047773</td>\n",
       "      <td>...</td>\n",
       "      <td>-0.003964</td>\n",
       "      <td>-0.051945</td>\n",
       "      <td>-0.054657</td>\n",
       "      <td>-0.013143</td>\n",
       "      <td>0.008345</td>\n",
       "      <td>-0.011057</td>\n",
       "      <td>-0.043392</td>\n",
       "      <td>-0.052154</td>\n",
       "      <td>-0.030458</td>\n",
       "      <td>-0.008136</td>\n",
       "    </tr>\n",
       "  </tbody>\n",
       "</table>\n",
       "<p>5 rows × 12000 columns</p>\n",
       "</div>"
      ],
      "text/plain": [
       "      0         1         2         3         4         5         6      \\\n",
       "0  0.004172  0.081151  0.123083  0.112861  0.072598  0.070303  0.066548   \n",
       "1  0.025451  0.038802  0.032961  0.021905  0.046938  0.056952  0.044018   \n",
       "2  0.028998  0.036090  0.002295 -0.063419 -0.078857 -0.060916 -0.022948   \n",
       "3 -0.080108 -0.031918 -0.011682  0.007510  0.046730  0.098466  0.152081   \n",
       "4  0.059873  0.039428  0.004172 -0.001669  0.025868  0.060707  0.042975   \n",
       "\n",
       "      7         8         9        ...        11990     11991     11992  \\\n",
       "0  0.055492  0.005215 -0.074684    ...     0.008553 -0.017315 -0.050902   \n",
       "1  0.006258 -0.036508 -0.040263    ...     0.001460 -0.051319 -0.083238   \n",
       "2  0.005215 -0.017315 -0.033796    ...    -0.012308 -0.020236 -0.028998   \n",
       "3  0.134557  0.068634  0.008970    ...     0.053197  0.002295 -0.033587   \n",
       "4 -0.008762 -0.045270 -0.047773    ...    -0.003964 -0.051945 -0.054657   \n",
       "\n",
       "      11993     11994     11995     11996     11997     11998     11999  \n",
       "0 -0.053614 -0.022113  0.025034  0.049025  0.019610 -0.028789 -0.053197  \n",
       "1 -0.047147  0.007510  0.030875  0.047564  0.049025  0.070929  0.113695  \n",
       "2 -0.009179  0.032335  0.060707  0.051111 -0.018150 -0.081777 -0.100553  \n",
       "3 -0.047147 -0.035256 -0.029623 -0.042349 -0.052780 -0.061333 -0.018150  \n",
       "4 -0.013143  0.008345 -0.011057 -0.043392 -0.052154 -0.030458 -0.008136  \n",
       "\n",
       "[5 rows x 12000 columns]"
      ]
     },
     "execution_count": 9,
     "metadata": {},
     "output_type": "execute_result"
    }
   ],
   "source": [
    "normal_x_train.head()"
   ]
  },
  {
   "cell_type": "code",
   "execution_count": 10,
   "metadata": {},
   "outputs": [],
   "source": [
    "normal_x_train.to_csv('normal_x_train.csv')"
   ]
  },
  {
   "cell_type": "code",
   "execution_count": 26,
   "metadata": {},
   "outputs": [
    {
     "data": {
      "image/png": "[encoded data removed]",
      "text/plain": [
       "<Figure size 720x360 with 1 Axes>"
      ]
     },
     "metadata": {},
     "output_type": "display_data"
    }
   ],
   "source": [
    "# Sample signal\n",
    "sample_signal = normal_x_train.iloc[0,:]\n",
    "time = np.linspace(0, 1, 12000)\n",
    "\n",
    "# plot rsa\n",
    "plt.figure(figsize = (10,5))\n",
    "plt.plot(time, sample_signal)\n",
    "#plt.title('Sample Signal')\n",
    "plt.ylabel('Amplitude (mm/s^2)')\n",
    "plt.xlabel('Time (s)')\n",
    "plt.grid()"
   ]
  },
  {
   "cell_type": "code",
   "execution_count": 27,
   "metadata": {},
   "outputs": [
    {
     "data": {
      "image/png": "[encoded data removed]",
      "text/plain": [
       "<Figure size 720x360 with 1 Axes>"
      ]
     },
     "metadata": {},
     "output_type": "display_data"
    }
   ],
   "source": [
    "# Sample signal\n",
    "sample_signal = normal_x_train.iloc[0,:]*np.hamming(12000)\n",
    "time = np.linspace(0, 1, 12000)\n",
    "\n",
    "# plot rsa\n",
    "plt.figure(figsize = (10,5))\n",
    "plt.plot(time, sample_signal)\n",
    "#plt.title('Sample Signal')\n",
    "plt.ylabel('Amplitude (mm/s^2)')\n",
    "plt.xlabel('Time (s)')\n",
    "plt.grid()"
   ]
  },
  {
   "cell_type": "code",
   "execution_count": 13,
   "metadata": {},
   "outputs": [
    {
     "data": {
      "text/plain": [
       "'\\n#No-Standardization\\nnormal_x_train_scaled = normal_x_train\\nnormal_x_test_scaled = normal_x_test\\n\\nabnormal_x_train_scaled = abnormal_x_train\\nabnormal_x_test_scaled = abnormal_x_test\\n'"
      ]
     },
     "execution_count": 13,
     "metadata": {},
     "output_type": "execute_result"
    }
   ],
   "source": [
    "#Standardization\n",
    "normal_x_train_scaled = pd.DataFrame(scale(normal_x_train, axis = 1))\n",
    "normal_x_test_scaled = pd.DataFrame(scale(normal_x_test, axis = 1))\n",
    "\n",
    "abnormal_x_train_scaled = pd.DataFrame(scale(abnormal_x_train, axis = 1))\n",
    "abnormal_x_test_scaled = pd.DataFrame(scale(abnormal_x_test, axis = 1))\n",
    "\n",
    "'''\n",
    "#No-Standardization\n",
    "normal_x_train_scaled = normal_x_train\n",
    "normal_x_test_scaled = normal_x_test\n",
    "\n",
    "abnormal_x_train_scaled = abnormal_x_train\n",
    "abnormal_x_test_scaled = abnormal_x_test\n",
    "'''"
   ]
  },
  {
   "cell_type": "code",
   "execution_count": 14,
   "metadata": {},
   "outputs": [],
   "source": [
    "normal_x_train_scaled.to_csv('normal_x_train_scaled.csv')"
   ]
  },
  {
   "cell_type": "code",
   "execution_count": 15,
   "metadata": {},
   "outputs": [],
   "source": [
    "#Hamming and FFT\n",
    "normal_x_train_fft = np.apply_along_axis(do_FFT, 1, normal_x_train_scaled)\n",
    "normal_x_test_fft = np.apply_along_axis(do_FFT, 1, normal_x_test_scaled)\n",
    "\n",
    "abnormal_x_train_fft = np.apply_along_axis(do_FFT, 1, abnormal_x_train_scaled)\n",
    "abnormal_x_test_fft = np.apply_along_axis(do_FFT, 1, abnormal_x_test_scaled)"
   ]
  },
  {
   "cell_type": "code",
   "execution_count": 16,
   "metadata": {},
   "outputs": [
    {
     "data": {
      "text/plain": [
       "Text(0,0.5,'|Y(freq)|')"
      ]
     },
     "execution_count": 16,
     "metadata": {},
     "output_type": "execute_result"
    },
    {
     "data": {
      "image/png": "[encoded data removed]",
      "text/plain": [
       "<Figure size 432x288 with 2 Axes>"
      ]
     },
     "metadata": {},
     "output_type": "display_data"
    }
   ],
   "source": [
    "Fs = 12000.0;  # sampling rate\n",
    "Ts = 1.0/Fs; # sampling interval\n",
    "t = np.arange(0,1,Ts) # time vector\n",
    "\n",
    "y = normal_x_train_scaled.iloc[0,:]\n",
    "\n",
    "n = len(y) # length of the signal\n",
    "k = np.arange(n)\n",
    "T = n/Fs\n",
    "frq = k/T # two sides frequency range\n",
    "frq = frq[range(n/2)] # one side frequency range\n",
    "\n",
    "Y = np.fft.fft(y)/n # fft computing and normalization\n",
    "Y = Y[range(n/2)]\n",
    "\n",
    "fig, ax = plt.subplots(2, 1)\n",
    "ax[0].plot(t,y)\n",
    "ax[0].set_xlabel('Time')\n",
    "ax[0].set_ylabel('Amplitude')\n",
    "ax[1].plot(frq,abs(Y),'r') # plotting the spectrum\n",
    "ax[1].set_xlabel('Freq (Hz)')\n",
    "ax[1].set_ylabel('|Y(freq)|')\n"
   ]
  },
  {
   "cell_type": "code",
   "execution_count": 17,
   "metadata": {},
   "outputs": [
    {
     "data": {
      "text/plain": [
       "[<matplotlib.lines.Line2D at 0x7fe0ce744c90>]"
      ]
     },
     "execution_count": 17,
     "metadata": {},
     "output_type": "execute_result"
    },
    {
     "data": {
      "image/png": "[encoded data removed]",
      "text/plain": [
       "<Figure size 432x288 with 1 Axes>"
      ]
     },
     "metadata": {},
     "output_type": "display_data"
    }
   ],
   "source": [
    "#Cepstrum\n",
    "normal_x_train_cep = np.apply_along_axis(do_Cepstrum, 1, normal_x_train_fft)\n",
    "normal_x_test_cep = np.apply_along_axis(do_Cepstrum, 1, normal_x_test_fft)\n",
    "\n",
    "abnormal_x_train_cep = np.apply_along_axis(do_Cepstrum, 1, abnormal_x_train_fft)\n",
    "abnormal_x_test_cep = np.apply_along_axis(do_Cepstrum, 1, abnormal_x_test_fft)\n",
    "\n",
    "plt.plot(normal_x_train_cep[0])"
   ]
  },
  {
   "cell_type": "code",
   "execution_count": 18,
   "metadata": {},
   "outputs": [],
   "source": [
    "#SI Functions\n",
    "def get_mean(x):\n",
    "    avg = np.mean(x)\n",
    "    return(avg)\n",
    "\n",
    "def get_std(x):\n",
    "    std = np.std(x)\n",
    "    return(std)\n",
    "\n",
    "def get_skewness(x):\n",
    "    skewness = sum((x - np.mean(x))**3) / ((len(x)-1)*(np.std(x)**3))\n",
    "    return(skewness)\n",
    "\n",
    "def get_kurtosis(x):\n",
    "    kurtosis = sum((x - np.mean(x))**4) / ((len(x)-1)*(np.std(x)**4))\n",
    "    return (kurtosis)\n",
    "\n",
    "def get_p2p(x):\n",
    "    p2p = (np.max(x) - np.min(x))\n",
    "    return(p2p)\n",
    "\n",
    "def get_rms(x):\n",
    "    rms = np.sqrt(sum(x**2) / len(x))\n",
    "    return(rms)\n",
    "\n",
    "def get_crestFactor(x):\n",
    "    crestFactor = get_p2p(x) / get_rms(x)\n",
    "    return(crestFactor)\n",
    "\n",
    "def get_shapeFactor(x):\n",
    "    shapeFactor = get_rms(x) / get_mean(x)\n",
    "    return(shapeFactor)\n",
    "    \n",
    "def get_marginFactor(x):\n",
    "    marginFactor = np.max(x) / (np.mean((np.sqrt(abs(x))))**2)\n",
    "    return(marginFactor)\n",
    "\n",
    "def get_impulseFactor(x):\n",
    "    impulseFactor = np.max(x) / np.mean(abs(x))\n",
    "    return(impulseFactor)\n"
   ]
  },
  {
   "cell_type": "code",
   "execution_count": 19,
   "metadata": {},
   "outputs": [],
   "source": [
    "def make_df(x):\n",
    "    mean_value = np.apply_along_axis(get_mean, 1, x)\n",
    "    std_value = np.apply_along_axis(get_std, 1, x)\n",
    "    skewness_value = np.apply_along_axis(get_skewness, 1, x)\n",
    "    kurtosis_value = np.apply_along_axis(get_kurtosis, 1, x)\n",
    "    p2p_value = np.apply_along_axis(get_p2p, 1, x)\n",
    "    rms_value = np.apply_along_axis(get_rms, 1, x)\n",
    "    crestFactor_value = np.apply_along_axis(get_crestFactor, 1, x)\n",
    "    shapeFactor_value = np.apply_along_axis(get_shapeFactor, 1, x)\n",
    "    marginFactor_value = np.apply_along_axis(get_marginFactor, 1, x)\n",
    "    impulseFactor_value = np.apply_along_axis(get_impulseFactor, 1, x)\n",
    "    \n",
    "    df = pd.DataFrame({'mean':mean_value, 'std':std_value, 'skewness':skewness_value, 'kurtosis':kurtosis_value, 'p2p':p2p_value, 'rms':rms_value,\n",
    "                       'crest':crestFactor_value, 'shape':shapeFactor_value, 'margin':marginFactor_value, 'impulse':impulseFactor_value})\n",
    "    \n",
    "    return(df)"
   ]
  },
  {
   "cell_type": "code",
   "execution_count": 20,
   "metadata": {},
   "outputs": [],
   "source": [
    "#make dataframe\n",
    "normal_x_train_SI = make_df(normal_x_train_cep)\n",
    "normal_x_test_SI = make_df(normal_x_test_cep)\n",
    "\n",
    "abnormal_x_train_SI = make_df(abnormal_x_train_cep)\n",
    "abnormal_x_test_SI = make_df(abnormal_x_test_cep)"
   ]
  },
  {
   "cell_type": "code",
   "execution_count": 25,
   "metadata": {},
   "outputs": [],
   "source": [
    "normal_x_train_SI_scaled.to_csv('normal_x_train_SI_scaled.csv')"
   ]
  },
  {
   "cell_type": "code",
   "execution_count": 21,
   "metadata": {},
   "outputs": [],
   "source": [
    "#Standardization in MTS\n",
    "def standardize(x,y):\n",
    "    mean_mean = get_mean(x['mean'])\n",
    "    std_mean = get_mean(x['std'])\n",
    "    skewness_mean = get_mean(x['skewness'])\n",
    "    kurtosis_mean = get_mean(x['kurtosis'])\n",
    "    p2p_mean = get_mean(x['p2p'])\n",
    "    rms_mean = get_mean(x['rms'])\n",
    "    crest_mean = get_mean(x['crest'])\n",
    "    shape_mean = get_mean(x['shape'])\n",
    "    margin_mean = get_mean(x['margin'])\n",
    "    impulse_mean = get_mean(x['impulse'])\n",
    "    \n",
    "    mean_std = get_std(x['mean'])\n",
    "    std_std = get_std(x['std'])\n",
    "    skewness_std = get_std(x['skewness'])\n",
    "    kurtosis_std = get_std(x['kurtosis'])\n",
    "    p2p_std = get_std(x['p2p'])\n",
    "    rms_std = get_std(x['rms'])\n",
    "    crest_std = get_std(x['crest'])\n",
    "    shape_std = get_std(x['shape'])\n",
    "    margin_std = get_std(x['margin'])\n",
    "    impulse_std = get_std(x['impulse'])\n",
    "    \n",
    "    mean_value = (y['mean'] - mean_mean) / mean_std\n",
    "    std_value = (y['std'] - std_mean) / std_std\n",
    "    skewness_value = (y['skewness'] - skewness_mean) / skewness_std\n",
    "    kurtosis_value = (y['kurtosis'] - kurtosis_mean) / kurtosis_std\n",
    "    p2p_value = (y['p2p'] - p2p_mean) / p2p_std\n",
    "    rms_value = (y['rms'] - rms_mean) / rms_std\n",
    "    crest_value = (y['crest'] - crest_mean) / crest_std\n",
    "    shape_value = (y['shape'] - shape_mean) / shape_std\n",
    "    margin_value = (y['margin'] - margin_mean) / margin_std\n",
    "    impulse_value = (y['impulse'] - impulse_mean) / impulse_std\n",
    "    \n",
    "    df = pd.DataFrame({'mean':mean_value, 'std':std_value, 'skewness':skewness_value, 'kurtosis':kurtosis_value, 'p2p':p2p_value, 'rms':rms_value,\n",
    "                       'crest':crest_value, 'shape':shape_value, 'margin':margin_value, 'impulse':impulse_value})\n",
    "    \n",
    "    return(df)"
   ]
  },
  {
   "cell_type": "code",
   "execution_count": 22,
   "metadata": {},
   "outputs": [],
   "source": [
    "normal_x_train_SI_scaled = standardize(normal_x_train_SI, normal_x_train_SI)\n",
    "normal_x_test_SI_scaled = standardize(normal_x_train_SI, normal_x_test_SI)\n",
    "\n",
    "abnormal_x_train_SI_scaled = standardize(normal_x_train_SI, abnormal_x_train_SI)\n",
    "abnormal_x_test_SI_scaled = standardize(normal_x_train_SI, abnormal_x_test_SI)"
   ]
  },
  {
   "cell_type": "code",
   "execution_count": 29,
   "metadata": {},
   "outputs": [],
   "source": [
    "def get_MD_distance(x):\n",
    "    normal_cov_mat = pd.DataFrame(normal_x_train_SI_scaled).corr()\n",
    "    dist = np.matmul(np.matmul(x, inv(normal_cov_mat)), np.transpose(x)) / len(x)\n",
    "    return(dist)"
   ]
  },
  {
   "cell_type": "code",
   "execution_count": 30,
   "metadata": {},
   "outputs": [],
   "source": [
    "#testdf[1].to_csv('normal_cov_mat.csv')"
   ]
  },
  {
   "cell_type": "code",
   "execution_count": 31,
   "metadata": {},
   "outputs": [],
   "source": [
    "normal_train_dist = np.apply_along_axis(get_MD_distance, 1, normal_x_train_SI_scaled)\n",
    "normal_test_dist = np.apply_along_axis(get_MD_distance, 1, normal_x_test_SI_scaled)\n",
    "\n",
    "abnormal_train_dist = np.apply_along_axis(get_MD_distance, 1, abnormal_x_train_SI_scaled)\n",
    "abnormal_test_dist = np.apply_along_axis(get_MD_distance, 1, abnormal_x_test_SI_scaled)\n"
   ]
  },
  {
   "cell_type": "code",
   "execution_count": 52,
   "metadata": {},
   "outputs": [
    {
     "name": "stdout",
     "output_type": "stream",
     "text": [
      "[1.99370882 0.48113691 1.89640015 1.52555421 2.00543967 1.29308915\n",
      " 0.77553797 1.00222526 0.30119463 1.26762055 1.05787534 0.56470721\n",
      " 0.60508689 0.45200172 0.80917936 0.33481299 0.64763959 1.21243245\n",
      " 0.32178836 1.86603079 0.5753051  0.43175347 0.68175933 0.34227458\n",
      " 1.70570715 0.43226766 0.72592225 2.34926966 1.86046452 0.48944318]\n",
      "\n",
      "\n",
      "[1.27581521 3.28199883 0.9004412  4.68445915 1.67557092 2.7338898\n",
      " 2.37610312 1.14581361 0.67727358 0.89394465]\n",
      "\n",
      "\n",
      "[2.74819704e+05 3.54114676e+04 4.96970052e+05 2.76724872e+04\n",
      " 3.19166934e+04 2.44613496e+04 1.98884274e+04 2.25771297e+04\n",
      " 1.14112269e+05 2.01315098e+05 1.05339203e+04 2.05898020e+04\n",
      " 9.89025958e+04 1.60807766e+05 3.48467980e+04 2.63026732e+05\n",
      " 6.80975584e+05 5.12614863e+04 1.37044738e+05 1.69354957e+03\n",
      " 1.72801889e+04 2.75297104e+04 3.14768268e+04 4.15300444e+04\n",
      " 1.72788528e+04 2.98645345e+04 7.50787483e+05 3.24467562e+04\n",
      " 3.84852583e+05 1.87557617e+05 3.44005548e+04 4.21809107e+03\n",
      " 2.47751303e+04 1.69151304e+05 1.36412607e+04 1.45493691e+05\n",
      " 6.21513892e+05 5.61977760e+03 4.96257874e+05 1.47534166e+05\n",
      " 1.31292859e+05 3.05788508e+04 5.91888630e+04 4.99372122e+05\n",
      " 9.51152574e+04 1.11073503e+05 5.89405052e+04 2.95281449e+04\n",
      " 2.93025194e+05 4.85852304e+04 2.38319807e+04 7.69202914e+04\n",
      " 3.28225964e+04 2.29205211e+05 5.07043398e+04 3.47830189e+05\n",
      " 6.37457759e+04 1.73270347e+05 1.61582424e+05 2.80748082e+05\n",
      " 2.17129832e+04 4.35607956e+05 2.56715497e+04 3.88001772e+05\n",
      " 1.78254972e+04 2.79786399e+04 1.58983124e+05 2.08083333e+04\n",
      " 1.18279800e+05 5.22808529e+05 7.15532058e+05 3.03632699e+02\n",
      " 1.17118933e+05 2.96148798e+04 2.10750826e+04 9.37450868e+04\n",
      " 1.98201811e+05 3.09410310e+04 6.62348298e+04 1.18524824e+05\n",
      " 5.81272842e+05 3.71460143e+04 2.29894541e+05 2.64038456e+04\n",
      " 8.85791130e+02 2.73545754e+04 1.22203999e+05 4.64335953e+04\n",
      " 4.72930614e+04 1.91337121e+05 4.04342355e+05 3.82692669e+04\n",
      " 1.33046268e+03 2.64746188e+05 3.76137373e+04 2.68424788e+03\n",
      " 1.55024357e+05 4.01287659e+04 2.54281696e+05 3.71479477e+05\n",
      " 3.74275204e+05 1.03560194e+05 2.27469745e+05 1.98492783e+05\n",
      " 1.57096165e+04]\n",
      "\n",
      "\n",
      "[323969.85668323  13664.25332924 377864.57187964 156719.95596261\n",
      "   1934.7224252   20153.93412653 675622.30047081  60667.97487706\n",
      "  29023.99391518  59592.88670786  24350.10317965 484208.6887534\n",
      "  56087.81871766 165607.77255035 103182.15875206  42237.80307906\n",
      "  51788.67028581  52850.7286175   46524.70689758  59464.6740127\n",
      " 506959.80847248  16732.57396405 203107.01255283 162265.52249595\n",
      "  16559.12991262  29449.00715678 243953.79883467  68832.88585107\n",
      " 246401.9266057    3254.86306777  29615.90188046   6052.0201971\n",
      "  66434.42624326 153912.3142436  688460.06789107 153888.67003651\n",
      "  27319.21269158 315616.91062571 285641.87186296  63617.73591454\n",
      " 144950.83810285 340759.98757101 319953.29366893 732754.89546183\n",
      "   5061.7180238 ]\n"
     ]
    }
   ],
   "source": [
    "print(normal_train_dist)\n",
    "print('\\n')\n",
    "print(normal_test_dist)\n",
    "print('\\n')\n",
    "print(abnormal_train_dist)\n",
    "print('\\n')\n",
    "print(abnormal_test_dist)\n"
   ]
  },
  {
   "cell_type": "code",
   "execution_count": 34,
   "metadata": {},
   "outputs": [],
   "source": [
    "pd.DataFrame(normal_train_dist).to_csv('normal_train_dist.csv')"
   ]
  },
  {
   "cell_type": "code",
   "execution_count": 35,
   "metadata": {},
   "outputs": [],
   "source": [
    "#L_12(2^11) orthogonal array\n",
    "ortho_array = np.matrix([[1, 1, 1, 1, 1, 1, 1, 1, 1, 1, 1],\n",
    "                       [1, 1, 1, 1, 1, 2, 2, 2, 2, 2, 2],\n",
    "                       [1, 1, 2, 2, 2, 1, 1, 1, 2, 2, 2],\n",
    "                       [1, 2, 1, 2, 2, 1, 2, 2, 1, 1, 2],\n",
    "                       [1, 2, 2, 1, 2, 2, 1, 2, 1, 2, 1],\n",
    "                       [1, 2, 2, 2, 1, 2, 2, 1, 2, 1, 1],\n",
    "                       [2, 1, 2, 2, 1, 1, 2, 2, 1, 2, 1],\n",
    "                       [2, 1, 2, 1, 2, 2, 2, 1, 1, 1, 2],\n",
    "                       [2, 1, 1, 2, 2, 2, 1, 2, 2, 1, 1],\n",
    "                       [2, 2, 2, 1, 1, 1, 1, 2, 2, 1, 2],\n",
    "                       [2, 2, 1, 2, 1, 2, 1, 1, 1, 2, 2],\n",
    "                       [2, 2, 1, 1, 2, 1, 2, 1, 2, 2, 1]])"
   ]
  },
  {
   "cell_type": "code",
   "execution_count": 36,
   "metadata": {},
   "outputs": [],
   "source": [
    "otho_df = pd.DataFrame(ortho_array, columns=['mean', 'std', 'skewness', 'kurtosis', 'p2p', 'rms', 'crest', 'shape', 'margin', 'impulse','DUMMY'])"
   ]
  },
  {
   "cell_type": "code",
   "execution_count": 37,
   "metadata": {},
   "outputs": [],
   "source": [
    "def get_exp_col(n):\n",
    "    condition = otho_df.iloc[n,:]==1\n",
    "    col = list(otho_df.loc[n,condition].index)\n",
    "    if('DUMMY' in col):\n",
    "        col.pop()\n",
    "    return(col)"
   ]
  },
  {
   "cell_type": "code",
   "execution_count": 38,
   "metadata": {},
   "outputs": [],
   "source": [
    "def get_MD_distance_exp(x,n):\n",
    "    col = get_exp_col(n)\n",
    "    normal_cov_mat = pd.DataFrame(normal_x_train_SI_scaled[col]).corr()\n",
    "    dist = np.matmul(np.matmul(x, inv(normal_cov_mat)), np.transpose(x)) / len(x)\n",
    "    return(dist)"
   ]
  },
  {
   "cell_type": "code",
   "execution_count": 39,
   "metadata": {},
   "outputs": [],
   "source": [
    "def get_MD_exp(n,df):\n",
    "    col = get_exp_col(n)\n",
    "    target_df = df[col]\n",
    "    dist = np.apply_along_axis(get_MD_distance_exp, 1, target_df, n)\n",
    "    return(dist)"
   ]
  },
  {
   "cell_type": "code",
   "execution_count": 40,
   "metadata": {},
   "outputs": [],
   "source": [
    "def get_MD_matrix(df):\n",
    "    arr = np.empty([12, df.shape[0]])\n",
    "    for i in range(0,12):\n",
    "        arr[i,:] = get_MD_exp(i,df)\n",
    "        \n",
    "    return(arr)"
   ]
  },
  {
   "cell_type": "code",
   "execution_count": 41,
   "metadata": {},
   "outputs": [],
   "source": [
    "normal_x_test_MD_matrix = get_MD_matrix(normal_x_test_SI_scaled)\n",
    "\n",
    "abnormal_x_train_MD_matrix = get_MD_matrix(abnormal_x_train_SI_scaled)\n",
    "abnormal_x_test_MD_matrix = get_MD_matrix(abnormal_x_test_SI_scaled)\n"
   ]
  },
  {
   "cell_type": "code",
   "execution_count": 42,
   "metadata": {},
   "outputs": [],
   "source": [
    "def cal_larger_better_SNRatio(mat):\n",
    "    SNRatio = []\n",
    "    for i in range(0,mat.shape[0]):\n",
    "        dist = mat[i]\n",
    "        SN = -10 * np.log10(np.mean(1/(dist)))\n",
    "        SNRatio.append(SN)\n",
    "        \n",
    "    return(SNRatio)"
   ]
  },
  {
   "cell_type": "code",
   "execution_count": 43,
   "metadata": {},
   "outputs": [],
   "source": [
    "def cal_smaller_better_SNRatio(mat):\n",
    "    SNRatio = []\n",
    "    for i in range(0,mat.shape[0]):\n",
    "        dist = mat[i]\n",
    "        SN = -10 * np.log10(np.mean(dist))\n",
    "        SNRatio.append(SN)\n",
    "        \n",
    "    return(SNRatio)"
   ]
  },
  {
   "cell_type": "code",
   "execution_count": 44,
   "metadata": {},
   "outputs": [],
   "source": [
    "SNRatio_normal_test = cal_smaller_better_SNRatio(normal_x_test_MD_matrix)\n",
    "\n",
    "SNRatio_abnormal_train = cal_larger_better_SNRatio(abnormal_x_train_MD_matrix)\n",
    "SNRatio_abnormal_test = cal_larger_better_SNRatio(abnormal_x_test_MD_matrix)"
   ]
  },
  {
   "cell_type": "code",
   "execution_count": 45,
   "metadata": {},
   "outputs": [],
   "source": [
    "def cal_smaller_better_gain(mat,col_name):\n",
    "    idx_1 = list(otho_df.loc[otho_df[col_name] == 1].index)\n",
    "    idx_2 = list(otho_df.loc[otho_df[col_name] == 2].index)\n",
    "    \n",
    "    SN = np.array(cal_smaller_better_SNRatio(mat))\n",
    "    values_1 = np.mean(SN[idx_1])\n",
    "    values_2 = np.mean(SN[idx_2])\n",
    "    \n",
    "    gain = values_1 - values_2\n",
    "    \n",
    "    return(gain)"
   ]
  },
  {
   "cell_type": "code",
   "execution_count": 46,
   "metadata": {},
   "outputs": [],
   "source": [
    "def cal_larger_better_gain(mat,col_name):\n",
    "    idx_1 = list(otho_df.loc[otho_df[col_name] == 1].index)\n",
    "    idx_2 = list(otho_df.loc[otho_df[col_name] == 2].index)\n",
    "    \n",
    "    SN = np.array(cal_larger_better_SNRatio(mat))\n",
    "    values_1 = np.mean(SN[idx_1])\n",
    "    values_2 = np.mean(SN[idx_2])\n",
    "    \n",
    "    gain = values_1 - values_2\n",
    "    \n",
    "    return(gain)"
   ]
  },
  {
   "cell_type": "code",
   "execution_count": 47,
   "metadata": {},
   "outputs": [],
   "source": [
    "#get gain\n",
    "column_names=['mean', 'std', 'skewness', 'kurtosis', 'p2p', 'rms', 'crest', 'shape', 'margin', 'impulse']\n",
    "\n",
    "def get_normal_test_gain(col):\n",
    "    columns = col\n",
    "    gain_values = []\n",
    "    for i in range(0,len(columns)):\n",
    "        gain_values.append(cal_smaller_better_gain(normal_x_test_MD_matrix, columns[i]))\n",
    "        \n",
    "    return(gain_values)\n",
    " \n",
    "def get_abnormal_train_gain(col):\n",
    "    columns = col\n",
    "    gain_values = []\n",
    "    for i in range(0,len(columns)):\n",
    "        gain_values.append(cal_larger_better_gain(abnormal_x_train_MD_matrix, columns[i]))\n",
    "        \n",
    "    return(gain_values)\n",
    "\n",
    "def get_abnormal_test_gain(col):\n",
    "    columns = col\n",
    "    gain_values = []\n",
    "    for i in range(0,len(columns)):\n",
    "        gain_values.append(cal_larger_better_gain(abnormal_x_test_MD_matrix, columns[i]))\n",
    "        \n",
    "    return(gain_values)"
   ]
  },
  {
   "cell_type": "code",
   "execution_count": 48,
   "metadata": {},
   "outputs": [],
   "source": [
    "normal_test_gain = get_normal_test_gain(column_names)\n",
    "\n",
    "abnormal_train_gain = get_abnormal_train_gain(column_names)\n",
    "abnormal_test_gain = get_abnormal_test_gain(column_names)"
   ]
  },
  {
   "cell_type": "code",
   "execution_count": 49,
   "metadata": {},
   "outputs": [
    {
     "name": "stdout",
     "output_type": "stream",
     "text": [
      "normal_test_gain\n",
      "                 0\n",
      "mean     -0.481293\n",
      "std      -0.311759\n",
      "skewness  0.079479\n",
      "kurtosis -0.122072\n",
      "p2p       0.008835\n",
      "rms      -0.428197\n",
      "crest    -1.009785\n",
      "shape    -0.432587\n",
      "margin   -0.308295\n",
      "impulse  -0.383280\n",
      "\n",
      "\n",
      "abnormal_train_gain\n",
      "                 0\n",
      "mean      4.281177\n",
      "std       0.085119\n",
      "skewness  2.236284\n",
      "kurtosis  2.117121\n",
      "p2p       2.144980\n",
      "rms       1.666637\n",
      "crest     3.668830\n",
      "shape     0.249173\n",
      "margin   -0.259597\n",
      "impulse   4.072467\n",
      "\n",
      "\n",
      "abnormal_test_gain\n",
      "                 0\n",
      "mean      3.798336\n",
      "std       0.372987\n",
      "skewness  3.565668\n",
      "kurtosis  2.139132\n",
      "p2p       2.783413\n",
      "rms       1.043960\n",
      "crest     4.424669\n",
      "shape     0.281101\n",
      "margin    0.469947\n",
      "impulse   4.843066\n"
     ]
    }
   ],
   "source": [
    "print('normal_test_gain')\n",
    "print(pd.DataFrame(normal_test_gain, index=column_names))\n",
    "print('\\n')\n",
    "\n",
    "print('abnormal_train_gain')\n",
    "print(pd.DataFrame(abnormal_train_gain, index=column_names))\n",
    "print('\\n')\n",
    "\n",
    "print('abnormal_test_gain')\n",
    "print(pd.DataFrame(abnormal_test_gain, index=column_names))"
   ]
  },
  {
   "cell_type": "code",
   "execution_count": 51,
   "metadata": {},
   "outputs": [
    {
     "name": "stdout",
     "output_type": "stream",
     "text": [
      "Normal Train (Mahalanobis Space)\n",
      "[0.00654796 0.0077547  0.09886609 0.15662498 0.16138751 0.18032054\n",
      " 0.20888895 0.24246398 0.25498061 0.36454925 0.38698137 0.46727654\n",
      " 0.51902982 0.66334821 0.76580009 0.88756591 0.89438347 0.95481363\n",
      " 1.03236315 1.07188036 1.18986179 1.29536843 1.47258861 1.5869728\n",
      " 1.8014643  2.17569495 2.50584956 2.50915109 2.93127543 3.20594593]\n",
      "\n",
      "\n",
      "Normal Test\n",
      "[0.05585211 0.09788478 0.37706222 0.90840727 0.91148417 0.9534677\n",
      " 1.09079742 1.37706905 2.12772026 2.60184539]\n",
      "\n",
      "\n",
      "Abnormal Train\n",
      "[  26.03609508   63.2413403    66.85390422   69.14298558   69.38256408\n",
      "   70.97867885   74.04774766   81.27232463   83.3278519    83.43449999\n",
      "   84.16565713   92.02397894   92.50844638   92.64042319   92.91222643\n",
      "   98.56390215   98.82810128  103.83173083  109.21362766  118.86425381\n",
      "  120.13356695  123.27470187  125.8828789   127.4766174   129.05239805\n",
      "  129.24512838  159.17621738  164.7829943   165.69568126  165.86534961\n",
      "  169.06530697  169.59323652  172.35159458  174.34125532  185.86952719\n",
      "  192.36229195  192.76122833  199.39704749  202.77980787  203.45292504\n",
      "  207.98035079  221.01793706  238.00689572  269.80913783  276.47695401\n",
      "  281.13091066  309.05481637  346.33067156  352.93339763  369.2171615\n",
      "  370.34074875  390.7999463   442.80673781  445.26034946  456.74724212\n",
      "  458.56069783  488.42003898  491.07548159  493.69987126  493.82159565\n",
      "  503.41818621  504.25209126  504.44855459  512.1409241   530.07712789\n",
      "  537.05591209  550.26690775  561.06891112  672.26927368  813.34698311\n",
      "  846.63342711  851.13465488  955.17192327 1077.94305535 1082.02428928\n",
      " 1092.1498121  1098.82063837 1148.75952275 1151.55223993 1161.82288228\n",
      " 1182.42621063 1232.89575377 1249.40424787 1261.75194331 1276.89345698\n",
      " 1311.29488587 1332.03394728 1341.74279634 1349.90848183 1452.142422\n",
      " 1455.45483016 1456.91580234 1531.49792081 1567.07240378 1592.69750479\n",
      " 1650.17377516 1695.09454267 1731.67800898 1770.37021381 1816.05131656\n",
      " 1845.32553202 2297.69581732 2350.78160599 2436.18426903 2501.27571875]\n",
      "\n",
      "\n",
      "Abnormal Test\n",
      "[  30.70453032   51.99365304   75.6660642    97.42215552   97.86721662\n",
      "  104.67007272  118.42736017  124.87803368  135.3397408   138.38344063\n",
      "  151.93013918  160.22577968  180.80322176  189.75778808  199.89602184\n",
      "  200.34263164  211.66037559  213.83640305  217.45837011  223.40932744\n",
      "  287.29199084  314.43673425  342.80375347  352.28292705  482.18077403\n",
      "  491.18502596  546.06943214  775.37328427  820.56891916  826.0136031\n",
      "  975.06390214 1156.39326678 1245.16701498 1284.6050134  1332.28988067\n",
      " 1345.78565616 1364.62602985 1427.86015118 1436.43542236 1601.68839721\n",
      " 1808.09719301 1985.15450438 2021.95180179 2436.52294654 2665.86652945]\n"
     ]
    }
   ],
   "source": [
    "# Select variables that show positive SN ratio in Normal test\n",
    "#'mean', 'std', 'skewness', 'kurtosis', 'p2p', 'rms', 'crest', 'shape', 'margin', 'impulse'\n",
    "\n",
    "variables = ['skewness','p2p']\n",
    "\n",
    "normal_train_taguchi = normal_x_train_SI_scaled[variables]\n",
    "normal_test_taguchi = normal_x_test_SI_scaled[variables]\n",
    "\n",
    "abnormal_train_taguchi = abnormal_x_train_SI_scaled[variables]\n",
    "abnormal_test_taguchi = abnormal_x_test_SI_scaled[variables]\n",
    "\n",
    "def get_MD_distance_taguchi(x):\n",
    "    normal_cov_mat = pd.DataFrame(normal_train_taguchi).corr()\n",
    "    dist = np.matmul(np.matmul(x, inv(normal_cov_mat)), np.transpose(x)) / len(x)\n",
    "    return(dist)\n",
    "\n",
    "normal_train_dist_taguchi = np.apply_along_axis(get_MD_distance_taguchi, 1, normal_train_taguchi)\n",
    "normal_train_dist_taguchi.sort()\n",
    "normal_test_dist_taguchi = np.apply_along_axis(get_MD_distance_taguchi, 1, normal_test_taguchi)\n",
    "normal_test_dist_taguchi.sort()\n",
    "\n",
    "abnormal_train_dist_taguchi = np.apply_along_axis(get_MD_distance_taguchi, 1, abnormal_train_taguchi)\n",
    "abnormal_train_dist_taguchi.sort()\n",
    "abnormal_test_dist_taguchi = np.apply_along_axis(get_MD_distance_taguchi, 1, abnormal_test_taguchi)\n",
    "abnormal_test_dist_taguchi.sort()\n",
    "\n",
    "# Results of Feature selection\n",
    "print('Normal Train (Mahalanobis Space)')\n",
    "print(normal_train_dist_taguchi)\n",
    "print('\\n')\n",
    "\n",
    "print('Normal Test')\n",
    "print(normal_test_dist_taguchi)\n",
    "print('\\n')\n",
    "\n",
    "print('Abnormal Train')\n",
    "print(abnormal_train_dist_taguchi)\n",
    "print('\\n')\n",
    "\n",
    "print('Abnormal Test')\n",
    "print(abnormal_test_dist_taguchi)"
   ]
  },
  {
   "cell_type": "code",
   "execution_count": null,
   "metadata": {},
   "outputs": [],
   "source": []
  }
 ],
 "metadata": {
  "kernelspec": {
   "display_name": "Python 2 (conda)",
   "language": "python",
   "name": "env_py2"
  },
  "language_info": {
   "codemirror_mode": {
    "name": "ipython",
    "version": 2
   },
   "file_extension": ".py",
   "mimetype": "text/x-python",
   "name": "python",
   "nbconvert_exporter": "python",
   "pygments_lexer": "ipython2",
   "version": "2.7.15"
  }
 },
 "nbformat": 4,
 "nbformat_minor": 2
}
