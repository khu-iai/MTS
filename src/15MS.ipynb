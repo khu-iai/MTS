{
 "cells": [
  {
   "cell_type": "markdown",
   "metadata": {},
   "source": [
    "모든 class 사용, 각 class 별로 MS 구성한 뒤 나머지 class 데이터들로 각각 MD 구해보기"
   ]
  },
  {
   "cell_type": "code",
   "execution_count": 2,
   "metadata": {},
   "outputs": [],
   "source": [
    "import cwru                      # Case Western Reserve University Bearing Data\n",
    "import pandas as pd              # dataframe\n",
    "import numpy as np               # array\n",
    "from collections import Counter  # Class 갯수 세기\n",
    "import matplotlib.pyplot as plt  # Visualization\n",
    "%matplotlib inline\n",
    "from scipy.fftpack import fft, ifft\n",
    "from acoustics.cepstrum import complex_cepstrum, real_cepstrum\n",
    "from sklearn.preprocessing import scale\n",
    "from scipy.spatial import distance\n",
    "from numpy.linalg import inv"
   ]
  },
  {
   "cell_type": "code",
   "execution_count": 175,
   "metadata": {},
   "outputs": [],
   "source": [
    "cwru_data = cwru.CWRU(\"12DriveEndFault\", \"1750\", 12000)"
   ]
  },
  {
   "cell_type": "code",
   "execution_count": 176,
   "metadata": {},
   "outputs": [],
   "source": [
    "#cwru_data.labels"
   ]
  },
  {
   "cell_type": "code",
   "execution_count": 177,
   "metadata": {},
   "outputs": [],
   "source": [
    "x_train = np.asarray(cwru_data.X_train)\n",
    "x_test = np.asarray(cwru_data.X_test)\n",
    "\n",
    "y_train = np.asarray(cwru_data.y_train)\n",
    "y_test = np.asarray(cwru_data.y_test)"
   ]
  },
  {
   "cell_type": "code",
   "execution_count": 178,
   "metadata": {},
   "outputs": [
    {
     "name": "stdout",
     "output_type": "stream",
     "text": [
      "Counter({15: 30, 0: 7, 1: 7, 2: 7, 3: 7, 4: 7, 5: 7, 6: 7, 7: 7, 8: 7, 9: 7, 10: 7, 11: 7, 12: 7, 13: 7, 14: 7})\n",
      "Counter({15: 10, 0: 3, 1: 3, 2: 3, 3: 3, 4: 3, 5: 3, 6: 3, 7: 3, 8: 3, 9: 3, 10: 3, 11: 3, 12: 3, 13: 3, 14: 3})\n"
     ]
    }
   ],
   "source": [
    "print(Counter(y_train)) # Train 데이터 클래스 분포\n",
    "print(Counter(y_test))  # Test 데이터 클래스 분포"
   ]
  },
  {
   "cell_type": "code",
   "execution_count": 179,
   "metadata": {},
   "outputs": [],
   "source": [
    "# k class is abnormal\n",
    "def make_dataset(NormalType, AbnormalType):\n",
    "    no_tp = NormalType\n",
    "    ab_tp = AbnormalType\n",
    "    \n",
    "    normal_train_idx, = np.where((y_train == no_tp))\n",
    "    normal_test_idx, = np.where((y_test == no_tp))\n",
    "\n",
    "    abnormal_train_idx, = np.where((y_train == ab_tp))\n",
    "    abnormal_test_idx, = np.where((y_test == ab_tp))\n",
    "    \n",
    "    return normal_train_idx, normal_test_idx, abnormal_train_idx, abnormal_test_idx\n",
    "    "
   ]
  },
  {
   "cell_type": "code",
   "execution_count": 182,
   "metadata": {},
   "outputs": [],
   "source": [
    "normal_train_idx, normal_test_idx, abnormal_train_idx, abnormal_test_idx = make_dataset(8,14)  "
   ]
  },
  {
   "cell_type": "code",
   "execution_count": 184,
   "metadata": {},
   "outputs": [],
   "source": [
    "def do_FFT(signal_set):\n",
    "    window = np.hamming(12000)\n",
    "    fft_rlt = np.fft.fft(window * signal_set)\n",
    "    return(fft_rlt)\n",
    "\n",
    "def do_Cepstrum(spectrum):\n",
    "    cep_result = (ifft(np.log(spectrum**2))**2).real\n",
    "    return(cep_result)\n",
    "\n",
    "    #ifft(np.log(np.abs(spectrum)))"
   ]
  },
  {
   "cell_type": "code",
   "execution_count": 186,
   "metadata": {},
   "outputs": [],
   "source": [
    "#Data split\n",
    "normal_x_train = pd.DataFrame(x_train[normal_train_idx])\n",
    "normal_x_test = pd.DataFrame(x_test[normal_test_idx])\n",
    "\n",
    "abnormal_x_train = pd.DataFrame(x_train[abnormal_train_idx])\n",
    "abnormal_x_test = pd.DataFrame(x_test[abnormal_test_idx])\n",
    "\n",
    "abnormal_test = pd.concat([abnormal_x_train.reset_index(drop=True), abnormal_x_test.reset_index(drop=True)], axis = 0, ignore_index=True)"
   ]
  },
  {
   "cell_type": "code",
   "execution_count": 204,
   "metadata": {},
   "outputs": [
    {
     "data": {
      "text/html": [
       "<div>\n",
       "<style scoped>\n",
       "    .dataframe tbody tr th:only-of-type {\n",
       "        vertical-align: middle;\n",
       "    }\n",
       "\n",
       "    .dataframe tbody tr th {\n",
       "        vertical-align: top;\n",
       "    }\n",
       "\n",
       "    .dataframe thead th {\n",
       "        text-align: right;\n",
       "    }\n",
       "</style>\n",
       "<table border=\"1\" class=\"dataframe\">\n",
       "  <thead>\n",
       "    <tr style=\"text-align: right;\">\n",
       "      <th></th>\n",
       "      <th>0</th>\n",
       "      <th>1</th>\n",
       "      <th>2</th>\n",
       "      <th>3</th>\n",
       "      <th>4</th>\n",
       "      <th>5</th>\n",
       "      <th>6</th>\n",
       "      <th>7</th>\n",
       "      <th>8</th>\n",
       "      <th>9</th>\n",
       "      <th>...</th>\n",
       "      <th>11990</th>\n",
       "      <th>11991</th>\n",
       "      <th>11992</th>\n",
       "      <th>11993</th>\n",
       "      <th>11994</th>\n",
       "      <th>11995</th>\n",
       "      <th>11996</th>\n",
       "      <th>11997</th>\n",
       "      <th>11998</th>\n",
       "      <th>11999</th>\n",
       "    </tr>\n",
       "  </thead>\n",
       "  <tbody>\n",
       "    <tr>\n",
       "      <th>0</th>\n",
       "      <td>0.033949</td>\n",
       "      <td>-0.119065</td>\n",
       "      <td>-0.057340</td>\n",
       "      <td>0.142780</td>\n",
       "      <td>0.109644</td>\n",
       "      <td>-0.136770</td>\n",
       "      <td>-0.112243</td>\n",
       "      <td>0.177379</td>\n",
       "      <td>0.019492</td>\n",
       "      <td>-0.143430</td>\n",
       "      <td>...</td>\n",
       "      <td>-0.012508</td>\n",
       "      <td>-0.015594</td>\n",
       "      <td>-0.133847</td>\n",
       "      <td>-0.154638</td>\n",
       "      <td>0.096162</td>\n",
       "      <td>0.086903</td>\n",
       "      <td>-0.037360</td>\n",
       "      <td>0.053766</td>\n",
       "      <td>0.081542</td>\n",
       "      <td>-0.028101</td>\n",
       "    </tr>\n",
       "    <tr>\n",
       "      <th>1</th>\n",
       "      <td>-0.089502</td>\n",
       "      <td>0.070984</td>\n",
       "      <td>-0.015269</td>\n",
       "      <td>-0.164059</td>\n",
       "      <td>0.044832</td>\n",
       "      <td>0.146841</td>\n",
       "      <td>-0.097461</td>\n",
       "      <td>-0.220100</td>\n",
       "      <td>0.025177</td>\n",
       "      <td>0.048568</td>\n",
       "      <td>...</td>\n",
       "      <td>-0.011370</td>\n",
       "      <td>0.016244</td>\n",
       "      <td>0.051005</td>\n",
       "      <td>-0.004061</td>\n",
       "      <td>-0.023391</td>\n",
       "      <td>-0.020304</td>\n",
       "      <td>0.132385</td>\n",
       "      <td>0.107207</td>\n",
       "      <td>-0.026477</td>\n",
       "      <td>0.031512</td>\n",
       "    </tr>\n",
       "    <tr>\n",
       "      <th>2</th>\n",
       "      <td>0.093400</td>\n",
       "      <td>0.020142</td>\n",
       "      <td>-0.040771</td>\n",
       "      <td>0.019655</td>\n",
       "      <td>-0.003411</td>\n",
       "      <td>-0.033787</td>\n",
       "      <td>0.058802</td>\n",
       "      <td>0.086903</td>\n",
       "      <td>-0.062700</td>\n",
       "      <td>-0.184689</td>\n",
       "      <td>...</td>\n",
       "      <td>-0.259571</td>\n",
       "      <td>0.087877</td>\n",
       "      <td>0.219287</td>\n",
       "      <td>-0.207755</td>\n",
       "      <td>-0.205156</td>\n",
       "      <td>0.263795</td>\n",
       "      <td>0.097948</td>\n",
       "      <td>-0.206293</td>\n",
       "      <td>0.023391</td>\n",
       "      <td>0.223023</td>\n",
       "    </tr>\n",
       "  </tbody>\n",
       "</table>\n",
       "<p>3 rows × 12000 columns</p>\n",
       "</div>"
      ],
      "text/plain": [
       "      0         1         2         3         4         5         6      \\\n",
       "0  0.033949 -0.119065 -0.057340  0.142780  0.109644 -0.136770 -0.112243   \n",
       "1 -0.089502  0.070984 -0.015269 -0.164059  0.044832  0.146841 -0.097461   \n",
       "2  0.093400  0.020142 -0.040771  0.019655 -0.003411 -0.033787  0.058802   \n",
       "\n",
       "      7         8         9        ...        11990     11991     11992  \\\n",
       "0  0.177379  0.019492 -0.143430    ...    -0.012508 -0.015594 -0.133847   \n",
       "1 -0.220100  0.025177  0.048568    ...    -0.011370  0.016244  0.051005   \n",
       "2  0.086903 -0.062700 -0.184689    ...    -0.259571  0.087877  0.219287   \n",
       "\n",
       "      11993     11994     11995     11996     11997     11998     11999  \n",
       "0 -0.154638  0.096162  0.086903 -0.037360  0.053766  0.081542 -0.028101  \n",
       "1 -0.004061 -0.023391 -0.020304  0.132385  0.107207 -0.026477  0.031512  \n",
       "2 -0.207755 -0.205156  0.263795  0.097948 -0.206293  0.023391  0.223023  \n",
       "\n",
       "[3 rows x 12000 columns]"
      ]
     },
     "execution_count": 204,
     "metadata": {},
     "output_type": "execute_result"
    }
   ],
   "source": [
    "normal_x_test"
   ]
  },
  {
   "cell_type": "code",
   "execution_count": 205,
   "metadata": {},
   "outputs": [
    {
     "data": {
      "text/plain": [
       "[<matplotlib.lines.Line2D at 0x7fbce461ef10>]"
      ]
     },
     "execution_count": 205,
     "metadata": {},
     "output_type": "execute_result"
    },
    {
     "data": {
      "image/png": "[encoded data removed]",
      "text/plain": [
       "<Figure size 432x288 with 1 Axes>"
      ]
     },
     "metadata": {},
     "output_type": "display_data"
    }
   ],
   "source": [
    "plt.plot(normal_x_test.iloc[0,:])"
   ]
  },
  {
   "cell_type": "code",
   "execution_count": 189,
   "metadata": {},
   "outputs": [
    {
     "data": {
      "text/plain": [
       "[<matplotlib.lines.Line2D at 0x7fbce48ab490>]"
      ]
     },
     "execution_count": 189,
     "metadata": {},
     "output_type": "execute_result"
    },
    {
     "data": {
      "image/png": "[encoded data removed]",
      "text/plain": [
       "<Figure size 432x288 with 1 Axes>"
      ]
     },
     "metadata": {},
     "output_type": "display_data"
    }
   ],
   "source": [
    "plt.plot(abnormal_x_test.iloc[0,:]*np.hamming(12000))"
   ]
  },
  {
   "cell_type": "code",
   "execution_count": 190,
   "metadata": {},
   "outputs": [
    {
     "data": {
      "text/plain": [
       "'\\n#No-Standardization\\nnormal_x_train_scaled = normal_x_train\\nnormal_x_test_scaled = normal_x_test\\n\\nabnormal_x_train_scaled = abnormal_x_train\\nabnormal_x_test_scaled = abnormal_x_test\\n'"
      ]
     },
     "execution_count": 190,
     "metadata": {},
     "output_type": "execute_result"
    }
   ],
   "source": [
    "#Standardization\n",
    "normal_x_train_scaled = pd.DataFrame(scale(normal_x_train, axis = 1))\n",
    "normal_x_test_scaled = pd.DataFrame(scale(normal_x_test, axis = 1))\n",
    "\n",
    "#abnormal_x_train_scaled = pd.DataFrame(scale(abnormal_x_train, axis = 1))\n",
    "abnormal_x_test_scaled = pd.DataFrame(scale(abnormal_test, axis = 1))\n",
    "\n",
    "'''\n",
    "#No-Standardization\n",
    "normal_x_train_scaled = normal_x_train\n",
    "normal_x_test_scaled = normal_x_test\n",
    "\n",
    "abnormal_x_train_scaled = abnormal_x_train\n",
    "abnormal_x_test_scaled = abnormal_x_test\n",
    "'''"
   ]
  },
  {
   "cell_type": "code",
   "execution_count": 191,
   "metadata": {},
   "outputs": [],
   "source": [
    "#Hamming and FFT\n",
    "normal_x_train_fft = np.apply_along_axis(do_FFT, 1, normal_x_train_scaled)\n",
    "normal_x_test_fft = np.apply_along_axis(do_FFT, 1, normal_x_test_scaled)\n",
    "\n",
    "#abnormal_x_train_fft = np.apply_along_axis(do_FFT, 1, abnormal_x_train_scaled)\n",
    "abnormal_x_test_fft = np.apply_along_axis(do_FFT, 1, abnormal_x_test_scaled)"
   ]
  },
  {
   "cell_type": "code",
   "execution_count": 192,
   "metadata": {},
   "outputs": [
    {
     "data": {
      "text/plain": [
       "Text(0,0.5,'|Y(freq)|')"
      ]
     },
     "execution_count": 192,
     "metadata": {},
     "output_type": "execute_result"
    },
    {
     "data": {
      "image/png": "[encoded data removed]",
      "text/plain": [
       "<Figure size 432x288 with 2 Axes>"
      ]
     },
     "metadata": {},
     "output_type": "display_data"
    }
   ],
   "source": [
    "Fs = 12000.0;  # sampling rate\n",
    "Ts = 1.0/Fs; # sampling interval\n",
    "t = np.arange(0,1,Ts) # time vector\n",
    "\n",
    "y = normal_x_train_scaled.iloc[0,:]\n",
    "\n",
    "n = len(y) # length of the signal\n",
    "k = np.arange(n)\n",
    "T = n/Fs\n",
    "frq = k/T # two sides frequency range\n",
    "frq = frq[range(n/2)] # one side frequency range\n",
    "\n",
    "Y = np.fft.fft(y)/n # fft computing and normalization\n",
    "Y = Y[range(n/2)]\n",
    "\n",
    "fig, ax = plt.subplots(2, 1)\n",
    "ax[0].plot(t,y)\n",
    "ax[0].set_xlabel('Time')\n",
    "ax[0].set_ylabel('Amplitude')\n",
    "ax[1].plot(frq,abs(Y),'r') # plotting the spectrum\n",
    "ax[1].set_xlabel('Freq (Hz)')\n",
    "ax[1].set_ylabel('|Y(freq)|')\n"
   ]
  },
  {
   "cell_type": "code",
   "execution_count": 193,
   "metadata": {},
   "outputs": [
    {
     "data": {
      "text/plain": [
       "[<matplotlib.lines.Line2D at 0x7fbce46e8650>]"
      ]
     },
     "execution_count": 193,
     "metadata": {},
     "output_type": "execute_result"
    },
    {
     "data": {
      "image/png": "[encoded data removed]",
      "text/plain": [
       "<Figure size 432x288 with 1 Axes>"
      ]
     },
     "metadata": {},
     "output_type": "display_data"
    }
   ],
   "source": [
    "#Cepstrum\n",
    "normal_x_train_cep = np.apply_along_axis(do_Cepstrum, 1, normal_x_train_fft)\n",
    "normal_x_test_cep = np.apply_along_axis(do_Cepstrum, 1, normal_x_test_fft)\n",
    "\n",
    "#abnormal_x_train_cep = np.apply_along_axis(do_Cepstrum, 1, abnormal_x_train_fft)\n",
    "abnormal_x_test_cep = np.apply_along_axis(do_Cepstrum, 1, abnormal_x_test_fft)\n",
    "\n",
    "plt.plot(abnormal_x_test_cep[0])"
   ]
  },
  {
   "cell_type": "code",
   "execution_count": 194,
   "metadata": {},
   "outputs": [],
   "source": [
    "#SI Functions\n",
    "def get_mean(x):\n",
    "    avg = np.mean(x)\n",
    "    return(avg)\n",
    "\n",
    "def get_std(x):\n",
    "    std = np.std(x)\n",
    "    return(std)\n",
    "\n",
    "def get_skewness(x):\n",
    "    skewness = sum((x - np.mean(x))**3) / ((len(x)-1)*(np.std(x)**3))\n",
    "    return(skewness)\n",
    "\n",
    "def get_kurtosis(x):\n",
    "    kurtosis = sum((x - np.mean(x))**4) / ((len(x)-1)*(np.std(x)**4))\n",
    "    return (kurtosis)\n",
    "\n",
    "def get_p2p(x):\n",
    "    p2p = (np.max(x) - np.min(x))\n",
    "    return(p2p)\n",
    "\n",
    "def get_rms(x):\n",
    "    rms = np.sqrt(sum(x**2) / len(x))\n",
    "    return(rms)\n",
    "\n",
    "def get_crestFactor(x):\n",
    "    crestFactor = get_p2p(x) / get_rms(x)\n",
    "    return(crestFactor)\n",
    "\n",
    "def get_shapeFactor(x):\n",
    "    shapeFactor = get_rms(x) / get_mean(x)\n",
    "    return(shapeFactor)\n",
    "    \n",
    "def get_marginFactor(x):\n",
    "    marginFactor = np.max(x) / (np.mean((np.sqrt(abs(x))))**2)\n",
    "    return(marginFactor)\n",
    "\n",
    "def get_impulseFactor(x):\n",
    "    impulseFactor = np.max(x) / np.mean(abs(x))\n",
    "    return(impulseFactor)\n"
   ]
  },
  {
   "cell_type": "code",
   "execution_count": 195,
   "metadata": {},
   "outputs": [],
   "source": [
    "def make_df(x):\n",
    "    mean_value = np.apply_along_axis(get_mean, 1, x)\n",
    "    std_value = np.apply_along_axis(get_std, 1, x)\n",
    "    skewness_value = np.apply_along_axis(get_skewness, 1, x)\n",
    "    kurtosis_value = np.apply_along_axis(get_kurtosis, 1, x)\n",
    "    p2p_value = np.apply_along_axis(get_p2p, 1, x)\n",
    "    rms_value = np.apply_along_axis(get_rms, 1, x)\n",
    "    crestFactor_value = np.apply_along_axis(get_crestFactor, 1, x)\n",
    "    shapeFactor_value = np.apply_along_axis(get_shapeFactor, 1, x)\n",
    "    marginFactor_value = np.apply_along_axis(get_marginFactor, 1, x)\n",
    "    impulseFactor_value = np.apply_along_axis(get_impulseFactor, 1, x)\n",
    "    \n",
    "    df = pd.DataFrame({'mean':mean_value, 'std':std_value, 'skewness':skewness_value, 'kurtosis':kurtosis_value, 'p2p':p2p_value, 'rms':rms_value,\n",
    "                       'crest':crestFactor_value, 'shape':shapeFactor_value, 'margin':marginFactor_value, 'impulse':impulseFactor_value})\n",
    "    \n",
    "    return(df)"
   ]
  },
  {
   "cell_type": "code",
   "execution_count": 196,
   "metadata": {},
   "outputs": [],
   "source": [
    "#make dataframe\n",
    "normal_x_train_SI = make_df(normal_x_train_cep)\n",
    "normal_x_test_SI = make_df(normal_x_test_cep)\n",
    "\n",
    "#abnormal_x_train_SI = make_df(abnormal_x_train_cep)\n",
    "abnormal_x_test_SI = make_df(abnormal_x_test_cep)"
   ]
  },
  {
   "cell_type": "code",
   "execution_count": 197,
   "metadata": {},
   "outputs": [
    {
     "data": {
      "text/plain": [
       "20.586016677642288"
      ]
     },
     "execution_count": 197,
     "metadata": {},
     "output_type": "execute_result"
    }
   ],
   "source": [
    "np.mean(normal_x_train_SI['p2p'])"
   ]
  },
  {
   "cell_type": "code",
   "execution_count": 198,
   "metadata": {},
   "outputs": [],
   "source": [
    "#Standardization in MTS\n",
    "def standardize(x,y):\n",
    "    mean_mean = get_mean(x['mean'])\n",
    "    std_mean = get_mean(x['std'])\n",
    "    skewness_mean = get_mean(x['skewness'])\n",
    "    kurtosis_mean = get_mean(x['kurtosis'])\n",
    "    p2p_mean = get_mean(x['p2p'])\n",
    "    rms_mean = get_mean(x['rms'])\n",
    "    crest_mean = get_mean(x['crest'])\n",
    "    shape_mean = get_mean(x['shape'])\n",
    "    margin_mean = get_mean(x['margin'])\n",
    "    impulse_mean = get_mean(x['impulse'])\n",
    "    \n",
    "    mean_std = get_std(x['mean'])\n",
    "    std_std = get_std(x['std'])\n",
    "    skewness_std = get_std(x['skewness'])\n",
    "    kurtosis_std = get_std(x['kurtosis'])\n",
    "    p2p_std = get_std(x['p2p'])\n",
    "    rms_std = get_std(x['rms'])\n",
    "    crest_std = get_std(x['crest'])\n",
    "    shape_std = get_std(x['shape'])\n",
    "    margin_std = get_std(x['margin'])\n",
    "    impulse_std = get_std(x['impulse'])\n",
    "    \n",
    "    mean_value = (y['mean'] - mean_mean) / mean_std\n",
    "    std_value = (y['std'] - std_mean) / std_std\n",
    "    skewness_value = (y['skewness'] - skewness_mean) / skewness_std\n",
    "    kurtosis_value = (y['kurtosis'] - kurtosis_mean) / kurtosis_std\n",
    "    p2p_value = (y['p2p'] - p2p_mean) / p2p_std\n",
    "    rms_value = (y['rms'] - rms_mean) / rms_std\n",
    "    crest_value = (y['crest'] - crest_mean) / crest_std\n",
    "    shape_value = (y['shape'] - shape_mean) / shape_std\n",
    "    margin_value = (y['margin'] - margin_mean) / margin_std\n",
    "    impulse_value = (y['impulse'] - impulse_mean) / impulse_std\n",
    "    \n",
    "    df = pd.DataFrame({'mean':mean_value, 'std':std_value, 'skewness':skewness_value, 'kurtosis':kurtosis_value, 'p2p':p2p_value, 'rms':rms_value,\n",
    "                       'crest':crest_value, 'shape':shape_value, 'margin':margin_value, 'impulse':impulse_value})\n",
    "    \n",
    "    return(df)"
   ]
  },
  {
   "cell_type": "code",
   "execution_count": 232,
   "metadata": {},
   "outputs": [],
   "source": [
    "normal_x_train_SI_scaled = standardize(normal_x_train_SI, normal_x_train_SI)\n",
    "normal_x_test_SI_scaled = standardize(normal_x_train_SI, normal_x_test_SI)\n",
    "\n",
    "#abnormal_x_train_SI_scaled = standardize(normal_x_train_SI, abnormal_x_train_SI)\n",
    "abnormal_x_test_SI_scaled = standardize(normal_x_train_SI, abnormal_x_test_SI)"
   ]
  },
  {
   "cell_type": "code",
   "execution_count": 236,
   "metadata": {},
   "outputs": [
    {
     "data": {
      "text/plain": [
       "(7, 10)"
      ]
     },
     "execution_count": 236,
     "metadata": {},
     "output_type": "execute_result"
    }
   ],
   "source": [
    "normal_x_train_SI_scaled.shape"
   ]
  },
  {
   "cell_type": "code",
   "execution_count": 261,
   "metadata": {},
   "outputs": [],
   "source": [
    "def get_MD_distance(x):\n",
    "    normal_cov_mat = pd.DataFrame(normal_x_train_SI_scaled).corr()\n",
    "    term = np.dot(x, inv(normal_cov_mat))\n",
    "    dist = np.dot(term, x.T) / len(x)\n",
    "    return(dist)"
   ]
  },
  {
   "cell_type": "code",
   "execution_count": 262,
   "metadata": {},
   "outputs": [
    {
     "data": {
      "text/plain": [
       "-2357054243.0423827"
      ]
     },
     "execution_count": 262,
     "metadata": {},
     "output_type": "execute_result"
    }
   ],
   "source": [
    "get_MD_distance(normal_x_test_SI_scaled.iloc[0,:])"
   ]
  },
  {
   "cell_type": "code",
   "execution_count": 271,
   "metadata": {},
   "outputs": [],
   "source": [
    "normal_train_dist = np.apply_along_axis(get_MD_distance, 1, normal_x_train_SI_scaled)\n",
    "normal_train_dist.sort()\n",
    "normal_test_dist = np.apply_along_axis(get_MD_distance, 1, normal_x_test_SI_scaled)\n",
    "normal_test_dist.sort()\n",
    "\n",
    "#abnormal_train_dist = np.apply_along_axis(get_MD_distance, 1, abnormal_x_train_SI_scaled)\n",
    "#abnormal_train_dist.sort()\n",
    "abnormal_test_dist = np.apply_along_axis(get_MD_distance, 1, abnormal_x_test_SI_scaled)\n",
    "abnormal_test_dist.sort()\n"
   ]
  },
  {
   "cell_type": "code",
   "execution_count": 272,
   "metadata": {},
   "outputs": [
    {
     "name": "stdout",
     "output_type": "stream",
     "text": [
      "[0.09401342 0.30807675 0.44993859 0.59969871 0.61298795 0.61883049\n",
      " 0.64213991]\n",
      "\n",
      "\n",
      "[-3.22258897e+09 -2.35705424e+09 -1.00782677e+09]\n",
      "\n",
      "\n",
      "[2.84018270e+14 3.14586216e+14 6.00631719e+14 8.82900854e+14\n",
      " 8.96452388e+14 1.03243416e+15 1.59331567e+15 2.52279558e+15\n",
      " 2.54764819e+15 2.98832878e+15]\n"
     ]
    }
   ],
   "source": [
    "print(normal_train_dist)\n",
    "print('\\n')\n",
    "print(normal_test_dist)\n",
    "print('\\n')\n",
    "#print(abnormal_train_dist)\n",
    "#print('\\n')\n",
    "print(abnormal_test_dist)\n"
   ]
  },
  {
   "cell_type": "code",
   "execution_count": 206,
   "metadata": {},
   "outputs": [],
   "source": [
    "#L_12(2^11) orthogonal array\n",
    "ortho_array = np.matrix([[1, 1, 1, 1, 1, 1, 1, 1, 1, 1, 1],\n",
    "                       [1, 1, 1, 1, 1, 2, 2, 2, 2, 2, 2],\n",
    "                       [1, 1, 2, 2, 2, 1, 1, 1, 2, 2, 2],\n",
    "                       [1, 2, 1, 2, 2, 1, 2, 2, 1, 1, 2],\n",
    "                       [1, 2, 2, 1, 2, 2, 1, 2, 1, 2, 1],\n",
    "                       [1, 2, 2, 2, 1, 2, 2, 1, 2, 1, 1],\n",
    "                       [2, 1, 2, 2, 1, 1, 2, 2, 1, 2, 1],\n",
    "                       [2, 1, 2, 1, 2, 2, 2, 1, 1, 1, 2],\n",
    "                       [2, 1, 1, 2, 2, 2, 1, 2, 2, 1, 1],\n",
    "                       [2, 2, 2, 1, 1, 1, 1, 2, 2, 1, 2],\n",
    "                       [2, 2, 1, 2, 1, 2, 1, 1, 1, 2, 2],\n",
    "                       [2, 2, 1, 1, 2, 1, 2, 1, 2, 2, 1]])"
   ]
  },
  {
   "cell_type": "code",
   "execution_count": 207,
   "metadata": {},
   "outputs": [],
   "source": [
    "otho_df = pd.DataFrame(ortho_array, columns=['mean', 'std', 'skewness', 'kurtosis', 'p2p', 'rms', 'crest', 'shape', 'margin', 'impulse','DUMMY'])"
   ]
  },
  {
   "cell_type": "code",
   "execution_count": 208,
   "metadata": {},
   "outputs": [],
   "source": [
    "def get_exp_col(n):\n",
    "    condition = otho_df.iloc[n,:]==1\n",
    "    col = list(otho_df.loc[n,condition].index)\n",
    "    if('DUMMY' in col):\n",
    "        col.pop()\n",
    "    return(col)"
   ]
  },
  {
   "cell_type": "code",
   "execution_count": 209,
   "metadata": {},
   "outputs": [],
   "source": [
    "def get_MD_distance_exp(x,n):\n",
    "    col = get_exp_col(n)\n",
    "    normal_cov_mat = pd.DataFrame(normal_x_train_SI_scaled[col]).corr()\n",
    "    dist = np.matmul(np.matmul(x, inv(normal_cov_mat)), np.transpose(x)) / len(x)\n",
    "    return(dist)"
   ]
  },
  {
   "cell_type": "code",
   "execution_count": 210,
   "metadata": {},
   "outputs": [],
   "source": [
    "def get_MD_exp(n,df):\n",
    "    col = get_exp_col(n)\n",
    "    target_df = df[col]\n",
    "    dist = np.apply_along_axis(get_MD_distance_exp, 1, target_df, n)\n",
    "    return(dist)"
   ]
  },
  {
   "cell_type": "code",
   "execution_count": 211,
   "metadata": {},
   "outputs": [],
   "source": [
    "def get_MD_matrix(df):\n",
    "    arr = np.empty([12, df.shape[0]])\n",
    "    for i in range(0,12):\n",
    "        arr[i,:] = get_MD_exp(i,df)\n",
    "        \n",
    "    return(arr)"
   ]
  },
  {
   "cell_type": "code",
   "execution_count": 212,
   "metadata": {},
   "outputs": [],
   "source": [
    "normal_x_test_MD_matrix = get_MD_matrix(normal_x_test_SI_scaled)\n",
    "\n",
    "#abnormal_x_train_MD_matrix = get_MD_matrix(abnormal_x_train_SI_scaled)\n",
    "abnormal_x_test_MD_matrix = get_MD_matrix(abnormal_x_test_SI_scaled)\n"
   ]
  },
  {
   "cell_type": "code",
   "execution_count": 213,
   "metadata": {},
   "outputs": [],
   "source": [
    "def cal_larger_better_SNRatio(mat):\n",
    "    SNRatio = []\n",
    "    for i in range(0,mat.shape[0]):\n",
    "        dist = mat[i]\n",
    "        SN = -10 * np.log10(np.mean(1/(dist)))\n",
    "        SNRatio.append(SN)\n",
    "        \n",
    "    return(SNRatio)"
   ]
  },
  {
   "cell_type": "code",
   "execution_count": 214,
   "metadata": {},
   "outputs": [],
   "source": [
    "def cal_smaller_better_SNRatio(mat):\n",
    "    SNRatio = []\n",
    "    for i in range(0,mat.shape[0]):\n",
    "        dist = mat[i]\n",
    "        SN = -10 * np.log10(np.mean(dist))\n",
    "        SNRatio.append(SN)\n",
    "        \n",
    "    return(SNRatio)"
   ]
  },
  {
   "cell_type": "code",
   "execution_count": 215,
   "metadata": {},
   "outputs": [
    {
     "name": "stderr",
     "output_type": "stream",
     "text": [
      "/usr/local/anaconda/envs/env_py2/lib/python2.7/site-packages/ipykernel_launcher.py:5: RuntimeWarning: invalid value encountered in log10\n",
      "  \"\"\"\n"
     ]
    }
   ],
   "source": [
    "SNRatio_normal_test = cal_smaller_better_SNRatio(normal_x_test_MD_matrix)\n",
    "\n",
    "#SNRatio_abnormal_train = cal_larger_better_SNRatio(abnormal_x_train_MD_matrix)\n",
    "SNRatio_abnormal_test = cal_larger_better_SNRatio(abnormal_x_test_MD_matrix)"
   ]
  },
  {
   "cell_type": "code",
   "execution_count": 216,
   "metadata": {},
   "outputs": [],
   "source": [
    "def cal_smaller_better_gain(mat,col_name):\n",
    "    idx_1 = list(otho_df.loc[otho_df[col_name] == 1].index)\n",
    "    idx_2 = list(otho_df.loc[otho_df[col_name] == 2].index)\n",
    "    \n",
    "    SN = np.array(cal_smaller_better_SNRatio(mat))\n",
    "    values_1 = np.mean(SN[idx_1])\n",
    "    values_2 = np.mean(SN[idx_2])\n",
    "    \n",
    "    gain = values_1 - values_2\n",
    "    \n",
    "    return(gain)"
   ]
  },
  {
   "cell_type": "code",
   "execution_count": 217,
   "metadata": {},
   "outputs": [],
   "source": [
    "def cal_larger_better_gain(mat,col_name):\n",
    "    idx_1 = list(otho_df.loc[otho_df[col_name] == 1].index)\n",
    "    idx_2 = list(otho_df.loc[otho_df[col_name] == 2].index)\n",
    "    \n",
    "    SN = np.array(cal_larger_better_SNRatio(mat))\n",
    "    values_1 = np.mean(SN[idx_1])\n",
    "    values_2 = np.mean(SN[idx_2])\n",
    "    \n",
    "    gain = values_1 - values_2\n",
    "    \n",
    "    return(gain)"
   ]
  },
  {
   "cell_type": "code",
   "execution_count": 218,
   "metadata": {},
   "outputs": [],
   "source": [
    "#get gain\n",
    "column_names=['mean', 'std', 'skewness', 'kurtosis', 'p2p', 'rms', 'crest', 'shape', 'margin', 'impulse']\n",
    "\n",
    "def get_normal_test_gain(col):\n",
    "    columns = col\n",
    "    gain_values = []\n",
    "    for i in range(0,len(columns)):\n",
    "        gain_values.append(cal_smaller_better_gain(normal_x_test_MD_matrix, columns[i]))\n",
    "        \n",
    "    return(gain_values)\n",
    " \n",
    "def get_abnormal_train_gain(col):\n",
    "    columns = col\n",
    "    gain_values = []\n",
    "    for i in range(0,len(columns)):\n",
    "        gain_values.append(cal_larger_better_gain(abnormal_x_train_MD_matrix, columns[i]))\n",
    "        \n",
    "    return(gain_values)\n",
    "\n",
    "def get_abnormal_test_gain(col):\n",
    "    columns = col\n",
    "    gain_values = []\n",
    "    for i in range(0,len(columns)):\n",
    "        gain_values.append(cal_larger_better_gain(abnormal_x_test_MD_matrix, columns[i]))\n",
    "        \n",
    "    return(gain_values)"
   ]
  },
  {
   "cell_type": "code",
   "execution_count": 219,
   "metadata": {},
   "outputs": [
    {
     "name": "stderr",
     "output_type": "stream",
     "text": [
      "/usr/local/anaconda/envs/env_py2/lib/python2.7/site-packages/ipykernel_launcher.py:5: RuntimeWarning: invalid value encountered in log10\n",
      "  \"\"\"\n"
     ]
    }
   ],
   "source": [
    "normal_test_gain = get_normal_test_gain(column_names)\n",
    "\n",
    "#abnormal_train_gain = get_abnormal_train_gain(column_names)\n",
    "abnormal_test_gain = get_abnormal_test_gain(column_names)"
   ]
  },
  {
   "cell_type": "code",
   "execution_count": 220,
   "metadata": {},
   "outputs": [
    {
     "name": "stdout",
     "output_type": "stream",
     "text": [
      "normal_test_gain\n",
      "           0\n",
      "mean     NaN\n",
      "std      NaN\n",
      "skewness NaN\n",
      "kurtosis NaN\n",
      "p2p      NaN\n",
      "rms      NaN\n",
      "crest    NaN\n",
      "shape    NaN\n",
      "margin   NaN\n",
      "impulse  NaN\n",
      "\n",
      "\n",
      "abnormal_test_gain\n",
      "           0\n",
      "mean     NaN\n",
      "std      NaN\n",
      "skewness NaN\n",
      "kurtosis NaN\n",
      "p2p      NaN\n",
      "rms      NaN\n",
      "crest    NaN\n",
      "shape    NaN\n",
      "margin   NaN\n",
      "impulse  NaN\n"
     ]
    }
   ],
   "source": [
    "print('normal_test_gain')\n",
    "print(pd.DataFrame(normal_test_gain, index=column_names))\n",
    "print('\\n')\n",
    "\n",
    "#print('abnormal_train_gain')\n",
    "#print(pd.DataFrame(abnormal_train_gain, index=column_names))\n",
    "#print('\\n')\n",
    "\n",
    "print('abnormal_test_gain')\n",
    "print(pd.DataFrame(abnormal_test_gain, index=column_names))"
   ]
  },
  {
   "cell_type": "code",
   "execution_count": 362,
   "metadata": {},
   "outputs": [
    {
     "name": "stdout",
     "output_type": "stream",
     "text": [
      "['kurtosis']\n",
      "                 0\n",
      "crest    -1.022004\n",
      "p2p      -0.631653\n",
      "impulse  -0.494045\n",
      "shape    -0.381940\n",
      "skewness -0.365115\n",
      "rms      -0.358464\n",
      "kurtosis -0.310769\n",
      "std      -0.267136\n",
      "mean     -0.112347\n",
      "margin    0.190902\n"
     ]
    }
   ],
   "source": [
    "neg_idx, = np.where((np.array(normal_test_gain) < 0) & (np.array(abnormal_test_gain) < 0))\n",
    "\n",
    "exclude_var_names = np.array(column_names)[neg_idx]\n",
    "print(exclude_var_names)    \n",
    "print(pd.DataFrame(normal_test_gain, index = column_names).sort_values(by=0))"
   ]
  },
  {
   "cell_type": "code",
   "execution_count": 366,
   "metadata": {},
   "outputs": [
    {
     "name": "stdout",
     "output_type": "stream",
     "text": [
      "Normal Train (Mahalanobis Space)\n",
      "[0.39079147 0.410807   0.41169375 0.44752636 0.4697522  0.48228136\n",
      " 0.49675981 0.54760224 0.68064912 0.68566601 0.72183211 0.73316098\n",
      " 0.73497556 0.77485714 0.78993768 0.82202745 0.88583956 0.95410033\n",
      " 0.96089915 1.00362443 1.05861486 1.10658184 1.21060688 1.4020961\n",
      " 1.99790245 2.18525843 2.80837518 2.82555761]\n",
      "\n",
      "\n",
      "Normal Test\n",
      "[0.44365891 0.50702676 0.55417315 0.79727684 1.13419851 2.07659162\n",
      " 2.08015595 2.73140761 2.82961825 4.32864333 4.90532291 5.46634591]\n",
      "\n",
      "\n",
      "Abnormal Test\n",
      "[ 3.35445557  4.22770947  5.44020827  5.59516395  8.04937588  8.4129645\n",
      "  8.69352125 10.91886843 17.43306754 24.77844786]\n"
     ]
    }
   ],
   "source": [
    "# Select variables that show positive SN ratio in Normal test\n",
    "#'mean', 'std', 'skewness', 'kurtosis', 'p2p', 'rms', 'crest', 'shape', 'margin', 'impulse'\n",
    "\n",
    "variables = ['mean', 'std', 'skewness', 'p2p', 'rms', 'crest', 'shape', 'margin', 'impulse']\n",
    "\n",
    "normal_train_taguchi = normal_x_train_SI_scaled[variables]\n",
    "normal_test_taguchi = normal_x_test_SI_scaled[variables]\n",
    "\n",
    "#abnormal_train_taguchi = abnormal_x_train_SI_scaled[variables]\n",
    "abnormal_test_taguchi = abnormal_x_test_SI_scaled[variables]\n",
    "\n",
    "def get_MD_distance_taguchi(x):\n",
    "    normal_cov_mat = pd.DataFrame(normal_train_taguchi).corr()\n",
    "    dist = np.matmul(np.matmul(x, inv(normal_cov_mat)), np.transpose(x)) / len(x)\n",
    "    return(dist)\n",
    "\n",
    "normal_train_dist_taguchi = np.apply_along_axis(get_MD_distance_taguchi, 1, normal_train_taguchi)\n",
    "normal_train_dist_taguchi.sort()\n",
    "normal_test_dist_taguchi = np.apply_along_axis(get_MD_distance_taguchi, 1, normal_test_taguchi)\n",
    "normal_test_dist_taguchi.sort()\n",
    "\n",
    "#abnormal_train_dist_taguchi = np.apply_along_axis(get_MD_distance_taguchi, 1, abnormal_train_taguchi)\n",
    "#abnormal_train_dist_taguchi.sort()\n",
    "abnormal_test_dist_taguchi = np.apply_along_axis(get_MD_distance_taguchi, 1, abnormal_test_taguchi)\n",
    "abnormal_test_dist_taguchi.sort()\n",
    "\n",
    "# Results of Feature selection\n",
    "print('Normal Train (Mahalanobis Space)')\n",
    "print(normal_train_dist_taguchi)\n",
    "print('\\n')\n",
    "\n",
    "print('Normal Test')\n",
    "print(normal_test_dist_taguchi)\n",
    "print('\\n')\n",
    "\n",
    "#print('Abnormal Train')\n",
    "#print(abnormal_train_dist_taguchi)\n",
    "#print('\\n')\n",
    "\n",
    "print('Abnormal Test')\n",
    "print(abnormal_test_dist_taguchi)"
   ]
  },
  {
   "cell_type": "code",
   "execution_count": null,
   "metadata": {},
   "outputs": [],
   "source": []
  },
  {
   "cell_type": "code",
   "execution_count": null,
   "metadata": {},
   "outputs": [],
   "source": []
  }
 ],
 "metadata": {
  "kernelspec": {
   "display_name": "Python 2",
   "language": "python",
   "name": "python2"
  },
  "language_info": {
   "codemirror_mode": {
    "name": "ipython",
    "version": 2
   },
   "file_extension": ".py",
   "mimetype": "text/x-python",
   "name": "python",
   "nbconvert_exporter": "python",
   "pygments_lexer": "ipython2",
   "version": "2.7.15"
  }
 },
 "nbformat": 4,
 "nbformat_minor": 2
}
