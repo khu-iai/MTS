{
 "cells": [
  {
   "cell_type": "markdown",
   "metadata": {},
   "source": [
    "정상으로 MS구성하고 15개 고장 각각 구별할 수 있는 모델 생성"
   ]
  },
  {
   "cell_type": "code",
   "execution_count": 35,
   "metadata": {},
   "outputs": [],
   "source": [
    "import cwru                      # Case Western Reserve University Bearing Data\n",
    "import pandas as pd              # dataframe\n",
    "import numpy as np               # array\n",
    "from collections import Counter  # Class 갯수 세기\n",
    "import matplotlib.pyplot as plt  # Visualization\n",
    "%matplotlib inline\n",
    "from scipy.fftpack import fft, ifft\n",
    "from acoustics.cepstrum import complex_cepstrum, real_cepstrum\n",
    "from sklearn.preprocessing import scale\n",
    "from scipy.spatial import distance\n",
    "from numpy.linalg import inv"
   ]
  },
  {
   "cell_type": "code",
   "execution_count": 297,
   "metadata": {},
   "outputs": [],
   "source": [
    "cwru_data = cwru.CWRU(\"12DriveEndFault\", \"1750\", 12000)"
   ]
  },
  {
   "cell_type": "code",
   "execution_count": 298,
   "metadata": {},
   "outputs": [
    {
     "data": {
      "text/plain": [
       "('0.007-Ball',\n",
       " '0.007-InnerRace',\n",
       " '0.007-OuterRace12',\n",
       " '0.007-OuterRace3',\n",
       " '0.007-OuterRace6',\n",
       " '0.014-Ball',\n",
       " '0.014-InnerRace',\n",
       " '0.014-OuterRace6',\n",
       " '0.021-Ball',\n",
       " '0.021-InnerRace',\n",
       " '0.021-OuterRace12',\n",
       " '0.021-OuterRace3',\n",
       " '0.021-OuterRace6',\n",
       " '0.028-Ball',\n",
       " '0.028-InnerRace',\n",
       " 'Normal')"
      ]
     },
     "execution_count": 298,
     "metadata": {},
     "output_type": "execute_result"
    }
   ],
   "source": [
    "cwru_data.labels"
   ]
  },
  {
   "cell_type": "code",
   "execution_count": 299,
   "metadata": {},
   "outputs": [],
   "source": [
    "x_train = np.asarray(cwru_data.X_train)\n",
    "x_test = np.asarray(cwru_data.X_test)\n",
    "\n",
    "y_train = np.asarray(cwru_data.y_train)\n",
    "y_test = np.asarray(cwru_data.y_test)"
   ]
  },
  {
   "cell_type": "code",
   "execution_count": 300,
   "metadata": {},
   "outputs": [
    {
     "data": {
      "text/plain": [
       "array([ 5,  9,  5,  6, 13, 14,  3,  1,  0,  2, 15,  0,  7,  2,  6, 11, 10,\n",
       "        2, 15,  0, 15,  9,  1, 15,  3, 14, 11,  5, 14,  1, 15,  7, 12,  8,\n",
       "       13, 10,  9, 12, 11,  3,  8, 10,  4, 15, 15, 15, 15,  4, 12,  6,  8,\n",
       "        4,  7, 13, 15])"
      ]
     },
     "execution_count": 300,
     "metadata": {},
     "output_type": "execute_result"
    }
   ],
   "source": [
    "y_test"
   ]
  },
  {
   "cell_type": "code",
   "execution_count": 301,
   "metadata": {},
   "outputs": [
    {
     "name": "stdout",
     "output_type": "stream",
     "text": [
      "Counter({15: 30, 0: 7, 1: 7, 2: 7, 3: 7, 4: 7, 5: 7, 6: 7, 7: 7, 8: 7, 9: 7, 10: 7, 11: 7, 12: 7, 13: 7, 14: 7})\n",
      "Counter({15: 10, 0: 3, 1: 3, 2: 3, 3: 3, 4: 3, 5: 3, 6: 3, 7: 3, 8: 3, 9: 3, 10: 3, 11: 3, 12: 3, 13: 3, 14: 3})\n"
     ]
    }
   ],
   "source": [
    "print(Counter(y_train)) # Train 데이터 클래스 분포\n",
    "print(Counter(y_test))  # Test 데이터 클래스 분포"
   ]
  },
  {
   "cell_type": "code",
   "execution_count": 302,
   "metadata": {},
   "outputs": [],
   "source": [
    "# k class is abnormal\n",
    "def make_dataset(k):\n",
    "    exp_train_idx, = np.where((y_train == 15) | (y_train == k))\n",
    "    exp_test_idx, = np.where((y_test == 15) | (y_test == k))\n",
    "    \n",
    "    x_train_here = x_train[exp_train_idx]\n",
    "    y_train_here = y_train[exp_train_idx]\n",
    "    x_test_here = x_test[exp_test_idx]\n",
    "    y_test_here = y_test[exp_test_idx]\n",
    "\n",
    "    normal_train_idx, = np.where(y_train_here == 15)\n",
    "    normal_test_idx, = np.where(y_test_here == 15)\n",
    "\n",
    "    abnormal_train_idx, = np.where(y_train_here == k)\n",
    "    abnormal_test_idx, = np.where(y_test_here == k)\n",
    "    \n",
    "    return x_train_here, x_test_here, y_train_here, y_test_here, normal_train_idx, normal_test_idx, abnormal_train_idx, abnormal_test_idx\n",
    "    "
   ]
  },
  {
   "cell_type": "code",
   "execution_count": 303,
   "metadata": {},
   "outputs": [],
   "source": [
    "x_train, x_test, y_train, y_test, normal_train_idx, normal_test_idx, abnormal_train_idx, abnormal_test_idx = make_dataset(4)"
   ]
  },
  {
   "cell_type": "code",
   "execution_count": 304,
   "metadata": {},
   "outputs": [],
   "source": [
    "for i in range(len(y_train)):\n",
    "    if i in normal_train_idx:\n",
    "        y_train[i] = 0 # Normal\n",
    "    else:\n",
    "        y_train[i] = 1 # Abnormal \n",
    "\n",
    "# Test 데이터 클래스 수정\n",
    "for i in range(len(y_test)):\n",
    "    if i in normal_test_idx:\n",
    "        y_test[i] = 0\n",
    "    else:\n",
    "        y_test[i] = 1 \n",
    "            "
   ]
  },
  {
   "cell_type": "code",
   "execution_count": 305,
   "metadata": {},
   "outputs": [
    {
     "data": {
      "text/plain": [
       "(37,)"
      ]
     },
     "execution_count": 305,
     "metadata": {},
     "output_type": "execute_result"
    }
   ],
   "source": [
    "y_train.shape"
   ]
  },
  {
   "cell_type": "code",
   "execution_count": 306,
   "metadata": {},
   "outputs": [],
   "source": [
    "def do_FFT(signal_set):\n",
    "    window = np.hamming(12000)\n",
    "    fft_rlt = np.fft.fft(window * signal_set)\n",
    "    return(fft_rlt)\n",
    "\n",
    "def do_Cepstrum(spectrum):\n",
    "    cep_result = (ifft(np.log(spectrum**2))**2).real\n",
    "    return(cep_result)\n",
    "\n",
    "    #ifft(np.log(np.abs(spectrum)))"
   ]
  },
  {
   "cell_type": "code",
   "execution_count": 307,
   "metadata": {},
   "outputs": [],
   "source": [
    "#Data split\n",
    "normal_x_train = pd.DataFrame(x_train[normal_train_idx])\n",
    "normal_x_test = pd.DataFrame(x_test[normal_test_idx])\n",
    "\n",
    "abnormal_x_train = pd.DataFrame(x_train[abnormal_train_idx])\n",
    "abnormal_x_test = pd.DataFrame(x_test[abnormal_test_idx])"
   ]
  },
  {
   "cell_type": "code",
   "execution_count": 308,
   "metadata": {},
   "outputs": [
    {
     "data": {
      "text/html": [
       "<div>\n",
       "<style scoped>\n",
       "    .dataframe tbody tr th:only-of-type {\n",
       "        vertical-align: middle;\n",
       "    }\n",
       "\n",
       "    .dataframe tbody tr th {\n",
       "        vertical-align: top;\n",
       "    }\n",
       "\n",
       "    .dataframe thead th {\n",
       "        text-align: right;\n",
       "    }\n",
       "</style>\n",
       "<table border=\"1\" class=\"dataframe\">\n",
       "  <thead>\n",
       "    <tr style=\"text-align: right;\">\n",
       "      <th></th>\n",
       "      <th>0</th>\n",
       "      <th>1</th>\n",
       "      <th>2</th>\n",
       "      <th>3</th>\n",
       "      <th>4</th>\n",
       "      <th>5</th>\n",
       "      <th>6</th>\n",
       "      <th>7</th>\n",
       "      <th>8</th>\n",
       "      <th>9</th>\n",
       "      <th>...</th>\n",
       "      <th>11990</th>\n",
       "      <th>11991</th>\n",
       "      <th>11992</th>\n",
       "      <th>11993</th>\n",
       "      <th>11994</th>\n",
       "      <th>11995</th>\n",
       "      <th>11996</th>\n",
       "      <th>11997</th>\n",
       "      <th>11998</th>\n",
       "      <th>11999</th>\n",
       "    </tr>\n",
       "  </thead>\n",
       "  <tbody>\n",
       "    <tr>\n",
       "      <th>0</th>\n",
       "      <td>-0.261927</td>\n",
       "      <td>0.066598</td>\n",
       "      <td>-0.015025</td>\n",
       "      <td>0.059695</td>\n",
       "      <td>0.258678</td>\n",
       "      <td>-0.045076</td>\n",
       "      <td>-1.211360</td>\n",
       "      <td>0.785780</td>\n",
       "      <td>0.845069</td>\n",
       "      <td>-0.653801</td>\n",
       "      <td>...</td>\n",
       "      <td>-0.002437</td>\n",
       "      <td>-0.060507</td>\n",
       "      <td>-0.061725</td>\n",
       "      <td>-0.087309</td>\n",
       "      <td>-0.057664</td>\n",
       "      <td>-0.394717</td>\n",
       "      <td>0.473904</td>\n",
       "      <td>0.091370</td>\n",
       "      <td>-1.066793</td>\n",
       "      <td>-0.570553</td>\n",
       "    </tr>\n",
       "    <tr>\n",
       "      <th>1</th>\n",
       "      <td>0.430859</td>\n",
       "      <td>-0.432484</td>\n",
       "      <td>-0.124669</td>\n",
       "      <td>0.375225</td>\n",
       "      <td>0.329337</td>\n",
       "      <td>-0.539285</td>\n",
       "      <td>-0.165684</td>\n",
       "      <td>0.356951</td>\n",
       "      <td>0.027208</td>\n",
       "      <td>-0.325276</td>\n",
       "      <td>...</td>\n",
       "      <td>0.764257</td>\n",
       "      <td>1.161817</td>\n",
       "      <td>-1.679173</td>\n",
       "      <td>-0.362636</td>\n",
       "      <td>1.456231</td>\n",
       "      <td>0.382941</td>\n",
       "      <td>-1.284456</td>\n",
       "      <td>-0.336647</td>\n",
       "      <td>1.711254</td>\n",
       "      <td>-0.471874</td>\n",
       "    </tr>\n",
       "    <tr>\n",
       "      <th>2</th>\n",
       "      <td>-0.029644</td>\n",
       "      <td>0.119390</td>\n",
       "      <td>0.062538</td>\n",
       "      <td>-0.148628</td>\n",
       "      <td>0.141319</td>\n",
       "      <td>0.198171</td>\n",
       "      <td>0.109238</td>\n",
       "      <td>0.027614</td>\n",
       "      <td>-0.127105</td>\n",
       "      <td>-0.051979</td>\n",
       "      <td>...</td>\n",
       "      <td>-0.041421</td>\n",
       "      <td>0.279388</td>\n",
       "      <td>-0.179897</td>\n",
       "      <td>-0.156344</td>\n",
       "      <td>0.270048</td>\n",
       "      <td>0.024771</td>\n",
       "      <td>-0.539285</td>\n",
       "      <td>-0.021117</td>\n",
       "      <td>0.425986</td>\n",
       "      <td>-0.060507</td>\n",
       "    </tr>\n",
       "    <tr>\n",
       "      <th>3</th>\n",
       "      <td>-0.513295</td>\n",
       "      <td>0.105177</td>\n",
       "      <td>0.464158</td>\n",
       "      <td>-0.183146</td>\n",
       "      <td>-0.092588</td>\n",
       "      <td>0.518980</td>\n",
       "      <td>0.043045</td>\n",
       "      <td>-0.384971</td>\n",
       "      <td>0.229034</td>\n",
       "      <td>0.282231</td>\n",
       "      <td>...</td>\n",
       "      <td>0.727709</td>\n",
       "      <td>-0.534005</td>\n",
       "      <td>-0.189237</td>\n",
       "      <td>0.235531</td>\n",
       "      <td>-0.279388</td>\n",
       "      <td>0.060101</td>\n",
       "      <td>0.184770</td>\n",
       "      <td>0.017462</td>\n",
       "      <td>-0.436544</td>\n",
       "      <td>0.446697</td>\n",
       "    </tr>\n",
       "    <tr>\n",
       "      <th>4</th>\n",
       "      <td>-0.274921</td>\n",
       "      <td>0.374413</td>\n",
       "      <td>0.514919</td>\n",
       "      <td>-0.199795</td>\n",
       "      <td>-0.245683</td>\n",
       "      <td>0.334616</td>\n",
       "      <td>0.341114</td>\n",
       "      <td>-0.411367</td>\n",
       "      <td>-0.285480</td>\n",
       "      <td>0.435732</td>\n",
       "      <td>...</td>\n",
       "      <td>-1.008316</td>\n",
       "      <td>-0.134009</td>\n",
       "      <td>0.871464</td>\n",
       "      <td>0.073096</td>\n",
       "      <td>-0.490148</td>\n",
       "      <td>-0.091776</td>\n",
       "      <td>0.352890</td>\n",
       "      <td>-0.206293</td>\n",
       "      <td>-0.029238</td>\n",
       "      <td>0.134821</td>\n",
       "    </tr>\n",
       "    <tr>\n",
       "      <th>5</th>\n",
       "      <td>-0.249744</td>\n",
       "      <td>0.124669</td>\n",
       "      <td>0.432077</td>\n",
       "      <td>0.091776</td>\n",
       "      <td>-0.445884</td>\n",
       "      <td>0.102334</td>\n",
       "      <td>0.386596</td>\n",
       "      <td>-0.252993</td>\n",
       "      <td>-0.372383</td>\n",
       "      <td>0.183552</td>\n",
       "      <td>...</td>\n",
       "      <td>1.416434</td>\n",
       "      <td>0.103552</td>\n",
       "      <td>-1.345775</td>\n",
       "      <td>-0.002437</td>\n",
       "      <td>1.180497</td>\n",
       "      <td>0.121826</td>\n",
       "      <td>-0.996540</td>\n",
       "      <td>-0.039797</td>\n",
       "      <td>0.791465</td>\n",
       "      <td>0.002030</td>\n",
       "    </tr>\n",
       "    <tr>\n",
       "      <th>6</th>\n",
       "      <td>1.551662</td>\n",
       "      <td>0.891363</td>\n",
       "      <td>-1.869628</td>\n",
       "      <td>0.463346</td>\n",
       "      <td>1.816025</td>\n",
       "      <td>-0.174618</td>\n",
       "      <td>-1.874907</td>\n",
       "      <td>0.259490</td>\n",
       "      <td>1.344151</td>\n",
       "      <td>-0.951870</td>\n",
       "      <td>...</td>\n",
       "      <td>-0.015025</td>\n",
       "      <td>-0.089339</td>\n",
       "      <td>-0.081624</td>\n",
       "      <td>-0.188425</td>\n",
       "      <td>-0.171775</td>\n",
       "      <td>0.109238</td>\n",
       "      <td>0.006497</td>\n",
       "      <td>-0.124669</td>\n",
       "      <td>-0.019898</td>\n",
       "      <td>0.203450</td>\n",
       "    </tr>\n",
       "  </tbody>\n",
       "</table>\n",
       "<p>7 rows × 12000 columns</p>\n",
       "</div>"
      ],
      "text/plain": [
       "      0         1         2         3         4         5         6      \\\n",
       "0 -0.261927  0.066598 -0.015025  0.059695  0.258678 -0.045076 -1.211360   \n",
       "1  0.430859 -0.432484 -0.124669  0.375225  0.329337 -0.539285 -0.165684   \n",
       "2 -0.029644  0.119390  0.062538 -0.148628  0.141319  0.198171  0.109238   \n",
       "3 -0.513295  0.105177  0.464158 -0.183146 -0.092588  0.518980  0.043045   \n",
       "4 -0.274921  0.374413  0.514919 -0.199795 -0.245683  0.334616  0.341114   \n",
       "5 -0.249744  0.124669  0.432077  0.091776 -0.445884  0.102334  0.386596   \n",
       "6  1.551662  0.891363 -1.869628  0.463346  1.816025 -0.174618 -1.874907   \n",
       "\n",
       "      7         8         9        ...        11990     11991     11992  \\\n",
       "0  0.785780  0.845069 -0.653801    ...    -0.002437 -0.060507 -0.061725   \n",
       "1  0.356951  0.027208 -0.325276    ...     0.764257  1.161817 -1.679173   \n",
       "2  0.027614 -0.127105 -0.051979    ...    -0.041421  0.279388 -0.179897   \n",
       "3 -0.384971  0.229034  0.282231    ...     0.727709 -0.534005 -0.189237   \n",
       "4 -0.411367 -0.285480  0.435732    ...    -1.008316 -0.134009  0.871464   \n",
       "5 -0.252993 -0.372383  0.183552    ...     1.416434  0.103552 -1.345775   \n",
       "6  0.259490  1.344151 -0.951870    ...    -0.015025 -0.089339 -0.081624   \n",
       "\n",
       "      11993     11994     11995     11996     11997     11998     11999  \n",
       "0 -0.087309 -0.057664 -0.394717  0.473904  0.091370 -1.066793 -0.570553  \n",
       "1 -0.362636  1.456231  0.382941 -1.284456 -0.336647  1.711254 -0.471874  \n",
       "2 -0.156344  0.270048  0.024771 -0.539285 -0.021117  0.425986 -0.060507  \n",
       "3  0.235531 -0.279388  0.060101  0.184770  0.017462 -0.436544  0.446697  \n",
       "4  0.073096 -0.490148 -0.091776  0.352890 -0.206293 -0.029238  0.134821  \n",
       "5 -0.002437  1.180497  0.121826 -0.996540 -0.039797  0.791465  0.002030  \n",
       "6 -0.188425 -0.171775  0.109238  0.006497 -0.124669 -0.019898  0.203450  \n",
       "\n",
       "[7 rows x 12000 columns]"
      ]
     },
     "execution_count": 308,
     "metadata": {},
     "output_type": "execute_result"
    }
   ],
   "source": [
    "abnormal_x_train"
   ]
  },
  {
   "cell_type": "code",
   "execution_count": 309,
   "metadata": {},
   "outputs": [
    {
     "data": {
      "text/plain": [
       "[<matplotlib.lines.Line2D at 0x7fa5ad50f390>]"
      ]
     },
     "execution_count": 309,
     "metadata": {},
     "output_type": "execute_result"
    },
    {
     "data": {
      "image/png": "[encoded data removed]",
      "text/plain": [
       "<Figure size 432x288 with 1 Axes>"
      ]
     },
     "metadata": {},
     "output_type": "display_data"
    }
   ],
   "source": [
    "plt.plot(normal_x_train.iloc[0,:])"
   ]
  },
  {
   "cell_type": "code",
   "execution_count": 310,
   "metadata": {},
   "outputs": [
    {
     "data": {
      "text/plain": [
       "[<matplotlib.lines.Line2D at 0x7fa5ad476a50>]"
      ]
     },
     "execution_count": 310,
     "metadata": {},
     "output_type": "execute_result"
    },
    {
     "data": {
      "image/png": "[encoded data removed]",
      "text/plain": [
       "<Figure size 432x288 with 1 Axes>"
      ]
     },
     "metadata": {},
     "output_type": "display_data"
    }
   ],
   "source": [
    "plt.plot(normal_x_train.iloc[0,:]*np.hamming(12000))"
   ]
  },
  {
   "cell_type": "code",
   "execution_count": 311,
   "metadata": {},
   "outputs": [
    {
     "data": {
      "text/plain": [
       "'\\n#No-Standardization\\nnormal_x_train_scaled = normal_x_train\\nnormal_x_test_scaled = normal_x_test\\n\\nabnormal_x_train_scaled = abnormal_x_train\\nabnormal_x_test_scaled = abnormal_x_test\\n'"
      ]
     },
     "execution_count": 311,
     "metadata": {},
     "output_type": "execute_result"
    }
   ],
   "source": [
    "#Standardization\n",
    "normal_x_train_scaled = pd.DataFrame(scale(normal_x_train, axis = 1))\n",
    "normal_x_test_scaled = pd.DataFrame(scale(normal_x_test, axis = 1))\n",
    "\n",
    "abnormal_x_train_scaled = pd.DataFrame(scale(abnormal_x_train, axis = 1))\n",
    "abnormal_x_test_scaled = pd.DataFrame(scale(abnormal_x_test, axis = 1))\n",
    "\n",
    "'''\n",
    "#No-Standardization\n",
    "normal_x_train_scaled = normal_x_train\n",
    "normal_x_test_scaled = normal_x_test\n",
    "\n",
    "abnormal_x_train_scaled = abnormal_x_train\n",
    "abnormal_x_test_scaled = abnormal_x_test\n",
    "'''"
   ]
  },
  {
   "cell_type": "code",
   "execution_count": 312,
   "metadata": {},
   "outputs": [],
   "source": [
    "#Hamming and FFT\n",
    "normal_x_train_fft = np.apply_along_axis(do_FFT, 1, normal_x_train_scaled)\n",
    "normal_x_test_fft = np.apply_along_axis(do_FFT, 1, normal_x_test_scaled)\n",
    "\n",
    "abnormal_x_train_fft = np.apply_along_axis(do_FFT, 1, abnormal_x_train_scaled)\n",
    "abnormal_x_test_fft = np.apply_along_axis(do_FFT, 1, abnormal_x_test_scaled)"
   ]
  },
  {
   "cell_type": "code",
   "execution_count": 313,
   "metadata": {},
   "outputs": [
    {
     "data": {
      "text/plain": [
       "Text(0,0.5,'|Y(freq)|')"
      ]
     },
     "execution_count": 313,
     "metadata": {},
     "output_type": "execute_result"
    },
    {
     "data": {
      "image/png": "[encoded data removed]",
      "text/plain": [
       "<Figure size 432x288 with 2 Axes>"
      ]
     },
     "metadata": {},
     "output_type": "display_data"
    }
   ],
   "source": [
    "Fs = 12000.0;  # sampling rate\n",
    "Ts = 1.0/Fs; # sampling interval\n",
    "t = np.arange(0,1,Ts) # time vector\n",
    "\n",
    "y = normal_x_train_scaled.iloc[0,:]\n",
    "\n",
    "n = len(y) # length of the signal\n",
    "k = np.arange(n)\n",
    "T = n/Fs\n",
    "frq = k/T # two sides frequency range\n",
    "frq = frq[range(n/2)] # one side frequency range\n",
    "\n",
    "Y = np.fft.fft(y)/n # fft computing and normalization\n",
    "Y = Y[range(n/2)]\n",
    "\n",
    "fig, ax = plt.subplots(2, 1)\n",
    "ax[0].plot(t,y)\n",
    "ax[0].set_xlabel('Time')\n",
    "ax[0].set_ylabel('Amplitude')\n",
    "ax[1].plot(frq,abs(Y),'r') # plotting the spectrum\n",
    "ax[1].set_xlabel('Freq (Hz)')\n",
    "ax[1].set_ylabel('|Y(freq)|')\n"
   ]
  },
  {
   "cell_type": "code",
   "execution_count": 314,
   "metadata": {},
   "outputs": [
    {
     "data": {
      "text/plain": [
       "[<matplotlib.lines.Line2D at 0x7fa5ad343dd0>]"
      ]
     },
     "execution_count": 314,
     "metadata": {},
     "output_type": "execute_result"
    },
    {
     "data": {
      "image/png": "[encoded data removed]",
      "text/plain": [
       "<Figure size 432x288 with 1 Axes>"
      ]
     },
     "metadata": {},
     "output_type": "display_data"
    }
   ],
   "source": [
    "#Cepstrum\n",
    "normal_x_train_cep = np.apply_along_axis(do_Cepstrum, 1, normal_x_train_fft)\n",
    "normal_x_test_cep = np.apply_along_axis(do_Cepstrum, 1, normal_x_test_fft)\n",
    "\n",
    "abnormal_x_train_cep = np.apply_along_axis(do_Cepstrum, 1, abnormal_x_train_fft)\n",
    "abnormal_x_test_cep = np.apply_along_axis(do_Cepstrum, 1, abnormal_x_test_fft)\n",
    "\n",
    "plt.plot(normal_x_train_cep[0])"
   ]
  },
  {
   "cell_type": "code",
   "execution_count": 315,
   "metadata": {},
   "outputs": [],
   "source": [
    "#SI Functions\n",
    "def get_mean(x):\n",
    "    avg = np.mean(x)\n",
    "    return(avg)\n",
    "\n",
    "def get_std(x):\n",
    "    std = np.std(x)\n",
    "    return(std)\n",
    "\n",
    "def get_skewness(x):\n",
    "    skewness = sum((x - np.mean(x))**3) / ((len(x)-1)*(np.std(x)**3))\n",
    "    return(skewness)\n",
    "\n",
    "def get_kurtosis(x):\n",
    "    kurtosis = sum((x - np.mean(x))**4) / ((len(x)-1)*(np.std(x)**4))\n",
    "    return (kurtosis)\n",
    "\n",
    "def get_p2p(x):\n",
    "    p2p = (np.max(x) - np.min(x))\n",
    "    return(p2p)\n",
    "\n",
    "def get_rms(x):\n",
    "    rms = np.sqrt(sum(x**2) / len(x))\n",
    "    return(rms)\n",
    "\n",
    "def get_crestFactor(x):\n",
    "    crestFactor = get_p2p(x) / get_rms(x)\n",
    "    return(crestFactor)\n",
    "\n",
    "def get_shapeFactor(x):\n",
    "    shapeFactor = get_rms(x) / get_mean(x)\n",
    "    return(shapeFactor)\n",
    "    \n",
    "def get_marginFactor(x):\n",
    "    marginFactor = np.max(x) / (np.mean((np.sqrt(abs(x))))**2)\n",
    "    return(marginFactor)\n",
    "\n",
    "def get_impulseFactor(x):\n",
    "    impulseFactor = np.max(x) / np.mean(abs(x))\n",
    "    return(impulseFactor)\n"
   ]
  },
  {
   "cell_type": "code",
   "execution_count": 316,
   "metadata": {},
   "outputs": [],
   "source": [
    "def make_df(x):\n",
    "    mean_value = np.apply_along_axis(get_mean, 1, x)\n",
    "    std_value = np.apply_along_axis(get_std, 1, x)\n",
    "    skewness_value = np.apply_along_axis(get_skewness, 1, x)\n",
    "    kurtosis_value = np.apply_along_axis(get_kurtosis, 1, x)\n",
    "    p2p_value = np.apply_along_axis(get_p2p, 1, x)\n",
    "    rms_value = np.apply_along_axis(get_rms, 1, x)\n",
    "    crestFactor_value = np.apply_along_axis(get_crestFactor, 1, x)\n",
    "    shapeFactor_value = np.apply_along_axis(get_shapeFactor, 1, x)\n",
    "    marginFactor_value = np.apply_along_axis(get_marginFactor, 1, x)\n",
    "    impulseFactor_value = np.apply_along_axis(get_impulseFactor, 1, x)\n",
    "    \n",
    "    df = pd.DataFrame({'mean':mean_value, 'std':std_value, 'skewness':skewness_value, 'kurtosis':kurtosis_value, 'p2p':p2p_value, 'rms':rms_value,\n",
    "                       'crest':crestFactor_value, 'shape':shapeFactor_value, 'margin':marginFactor_value, 'impulse':impulseFactor_value})\n",
    "    \n",
    "    return(df)"
   ]
  },
  {
   "cell_type": "code",
   "execution_count": 317,
   "metadata": {},
   "outputs": [],
   "source": [
    "#make dataframe\n",
    "normal_x_train_SI = make_df(normal_x_train_cep)\n",
    "normal_x_test_SI = make_df(normal_x_test_cep)\n",
    "\n",
    "abnormal_x_train_SI = make_df(abnormal_x_train_cep)\n",
    "abnormal_x_test_SI = make_df(abnormal_x_test_cep)"
   ]
  },
  {
   "cell_type": "code",
   "execution_count": 318,
   "metadata": {},
   "outputs": [],
   "source": [
    "#Standardization in MTS\n",
    "def standardize(x,y):\n",
    "    mean_mean = get_mean(x['mean'])\n",
    "    std_mean = get_mean(x['std'])\n",
    "    skewness_mean = get_mean(x['skewness'])\n",
    "    kurtosis_mean = get_mean(x['kurtosis'])\n",
    "    p2p_mean = get_mean(x['p2p'])\n",
    "    rms_mean = get_mean(x['rms'])\n",
    "    crest_mean = get_mean(x['crest'])\n",
    "    shape_mean = get_mean(x['shape'])\n",
    "    margin_mean = get_mean(x['margin'])\n",
    "    impulse_mean = get_mean(x['impulse'])\n",
    "    \n",
    "    mean_std = get_std(x['mean'])\n",
    "    std_std = get_std(x['std'])\n",
    "    skewness_std = get_std(x['skewness'])\n",
    "    kurtosis_std = get_std(x['kurtosis'])\n",
    "    p2p_std = get_std(x['p2p'])\n",
    "    rms_std = get_std(x['rms'])\n",
    "    crest_std = get_std(x['crest'])\n",
    "    shape_std = get_std(x['shape'])\n",
    "    margin_std = get_std(x['margin'])\n",
    "    impulse_std = get_std(x['impulse'])\n",
    "    \n",
    "    mean_value = (y['mean'] - mean_mean) / mean_std\n",
    "    std_value = (y['std'] - std_mean) / std_std\n",
    "    skewness_value = (y['skewness'] - skewness_mean) / skewness_std\n",
    "    kurtosis_value = (y['kurtosis'] - kurtosis_mean) / kurtosis_std\n",
    "    p2p_value = (y['p2p'] - p2p_mean) / p2p_std\n",
    "    rms_value = (y['rms'] - rms_mean) / rms_std\n",
    "    crest_value = (y['crest'] - crest_mean) / crest_std\n",
    "    shape_value = (y['shape'] - shape_mean) / shape_std\n",
    "    margin_value = (y['margin'] - margin_mean) / margin_std\n",
    "    impulse_value = (y['impulse'] - impulse_mean) / impulse_std\n",
    "    \n",
    "    df = pd.DataFrame({'mean':mean_value, 'std':std_value, 'skewness':skewness_value, 'kurtosis':kurtosis_value, 'p2p':p2p_value, 'rms':rms_value,\n",
    "                       'crest':crest_value, 'shape':shape_value, 'margin':margin_value, 'impulse':impulse_value})\n",
    "    \n",
    "    return(df)"
   ]
  },
  {
   "cell_type": "code",
   "execution_count": 319,
   "metadata": {},
   "outputs": [],
   "source": [
    "normal_x_train_SI_scaled = standardize(normal_x_train_SI, normal_x_train_SI)\n",
    "normal_x_test_SI_scaled = standardize(normal_x_train_SI, normal_x_test_SI)\n",
    "\n",
    "abnormal_x_train_SI_scaled = standardize(normal_x_train_SI, abnormal_x_train_SI)\n",
    "abnormal_x_test_SI_scaled = standardize(normal_x_train_SI, abnormal_x_test_SI)"
   ]
  },
  {
   "cell_type": "code",
   "execution_count": 320,
   "metadata": {},
   "outputs": [],
   "source": [
    "def get_MD_distance(x):\n",
    "    normal_cov_mat = pd.DataFrame(normal_x_train_SI_scaled).corr()\n",
    "    dist = np.matmul(np.matmul(x, inv(normal_cov_mat)), np.transpose(x)) / len(x)\n",
    "    return(dist)"
   ]
  },
  {
   "cell_type": "code",
   "execution_count": 321,
   "metadata": {},
   "outputs": [],
   "source": [
    "normal_train_dist = np.apply_along_axis(get_MD_distance, 1, normal_x_train_SI_scaled)\n",
    "normal_train_dist.sort()\n",
    "normal_test_dist = np.apply_along_axis(get_MD_distance, 1, normal_x_test_SI_scaled)\n",
    "normal_test_dist.sort()\n",
    "\n",
    "abnormal_train_dist = np.apply_along_axis(get_MD_distance, 1, abnormal_x_train_SI_scaled)\n",
    "abnormal_train_dist.sort()\n",
    "abnormal_test_dist = np.apply_along_axis(get_MD_distance, 1, abnormal_x_test_SI_scaled)\n",
    "abnormal_test_dist.sort()\n"
   ]
  },
  {
   "cell_type": "code",
   "execution_count": 322,
   "metadata": {},
   "outputs": [
    {
     "name": "stdout",
     "output_type": "stream",
     "text": [
      "[0.30119463 0.32178836 0.33481299 0.34227458 0.43175347 0.43226766\n",
      " 0.45200172 0.48113691 0.48944318 0.56470721 0.5753051  0.60508689\n",
      " 0.64763959 0.68175933 0.72592225 0.77553797 0.80917936 1.00222526\n",
      " 1.05787534 1.21243245 1.26762055 1.29308915 1.52555421 1.70570715\n",
      " 1.86046452 1.86603079 1.89640015 1.99370882 2.00543967 2.34926966]\n",
      "\n",
      "\n",
      "[0.67727358 0.89394465 0.9004412  1.14581361 1.27581521 1.67557092\n",
      " 2.37610312 2.7338898  3.28199883 4.68445915]\n",
      "\n",
      "\n",
      "[114112.26873476 160807.76587699 227469.74547743 229205.21115023\n",
      " 264746.18767562 499372.12217045 522808.52889907]\n",
      "\n",
      "\n",
      "[285641.87186296 315616.91062571 319953.29366893]\n"
     ]
    }
   ],
   "source": [
    "print(normal_train_dist)\n",
    "print('\\n')\n",
    "print(normal_test_dist)\n",
    "print('\\n')\n",
    "print(abnormal_train_dist)\n",
    "print('\\n')\n",
    "print(abnormal_test_dist)\n"
   ]
  },
  {
   "cell_type": "code",
   "execution_count": 323,
   "metadata": {},
   "outputs": [],
   "source": [
    "#L_12(2^11) orthogonal array\n",
    "ortho_array = np.matrix([[1, 1, 1, 1, 1, 1, 1, 1, 1, 1, 1],\n",
    "                       [1, 1, 1, 1, 1, 2, 2, 2, 2, 2, 2],\n",
    "                       [1, 1, 2, 2, 2, 1, 1, 1, 2, 2, 2],\n",
    "                       [1, 2, 1, 2, 2, 1, 2, 2, 1, 1, 2],\n",
    "                       [1, 2, 2, 1, 2, 2, 1, 2, 1, 2, 1],\n",
    "                       [1, 2, 2, 2, 1, 2, 2, 1, 2, 1, 1],\n",
    "                       [2, 1, 2, 2, 1, 1, 2, 2, 1, 2, 1],\n",
    "                       [2, 1, 2, 1, 2, 2, 2, 1, 1, 1, 2],\n",
    "                       [2, 1, 1, 2, 2, 2, 1, 2, 2, 1, 1],\n",
    "                       [2, 2, 2, 1, 1, 1, 1, 2, 2, 1, 2],\n",
    "                       [2, 2, 1, 2, 1, 2, 1, 1, 1, 2, 2],\n",
    "                       [2, 2, 1, 1, 2, 1, 2, 1, 2, 2, 1]])"
   ]
  },
  {
   "cell_type": "code",
   "execution_count": 324,
   "metadata": {},
   "outputs": [],
   "source": [
    "otho_df = pd.DataFrame(ortho_array, columns=['mean', 'std', 'skewness', 'kurtosis', 'p2p', 'rms', 'crest', 'shape', 'margin', 'impulse','DUMMY'])"
   ]
  },
  {
   "cell_type": "code",
   "execution_count": 325,
   "metadata": {},
   "outputs": [],
   "source": [
    "def get_exp_col(n):\n",
    "    condition = otho_df.iloc[n,:]==1\n",
    "    col = list(otho_df.loc[n,condition].index)\n",
    "    if('DUMMY' in col):\n",
    "        col.pop()\n",
    "    return(col)"
   ]
  },
  {
   "cell_type": "code",
   "execution_count": 326,
   "metadata": {},
   "outputs": [],
   "source": [
    "def get_MD_distance_exp(x,n):\n",
    "    col = get_exp_col(n)\n",
    "    normal_cov_mat = pd.DataFrame(normal_x_train_SI_scaled[col]).corr()\n",
    "    dist = np.matmul(np.matmul(x, inv(normal_cov_mat)), np.transpose(x)) / len(x)\n",
    "    return(dist)"
   ]
  },
  {
   "cell_type": "code",
   "execution_count": 327,
   "metadata": {},
   "outputs": [],
   "source": [
    "def get_MD_exp(n,df):\n",
    "    col = get_exp_col(n)\n",
    "    target_df = df[col]\n",
    "    dist = np.apply_along_axis(get_MD_distance_exp, 1, target_df, n)\n",
    "    return(dist)"
   ]
  },
  {
   "cell_type": "code",
   "execution_count": 328,
   "metadata": {},
   "outputs": [],
   "source": [
    "def get_MD_matrix(df):\n",
    "    arr = np.empty([12, df.shape[0]])\n",
    "    for i in range(0,12):\n",
    "        arr[i,:] = get_MD_exp(i,df)\n",
    "        \n",
    "    return(arr)"
   ]
  },
  {
   "cell_type": "code",
   "execution_count": 329,
   "metadata": {},
   "outputs": [],
   "source": [
    "normal_x_test_MD_matrix = get_MD_matrix(normal_x_test_SI_scaled)\n",
    "\n",
    "abnormal_x_train_MD_matrix = get_MD_matrix(abnormal_x_train_SI_scaled)\n",
    "abnormal_x_test_MD_matrix = get_MD_matrix(abnormal_x_test_SI_scaled)\n"
   ]
  },
  {
   "cell_type": "code",
   "execution_count": 330,
   "metadata": {},
   "outputs": [],
   "source": [
    "def cal_larger_better_SNRatio(mat):\n",
    "    SNRatio = []\n",
    "    for i in range(0,mat.shape[0]):\n",
    "        dist = mat[i]\n",
    "        SN = -10 * np.log10(np.mean(1/(dist)))\n",
    "        SNRatio.append(SN)\n",
    "        \n",
    "    return(SNRatio)"
   ]
  },
  {
   "cell_type": "code",
   "execution_count": 331,
   "metadata": {},
   "outputs": [],
   "source": [
    "def cal_smaller_better_SNRatio(mat):\n",
    "    SNRatio = []\n",
    "    for i in range(0,mat.shape[0]):\n",
    "        dist = mat[i]\n",
    "        SN = -10 * np.log10(np.mean(dist))\n",
    "        SNRatio.append(SN)\n",
    "        \n",
    "    return(SNRatio)"
   ]
  },
  {
   "cell_type": "code",
   "execution_count": 332,
   "metadata": {},
   "outputs": [],
   "source": [
    "SNRatio_normal_test = cal_smaller_better_SNRatio(normal_x_test_MD_matrix)\n",
    "\n",
    "SNRatio_abnormal_train = cal_larger_better_SNRatio(abnormal_x_train_MD_matrix)\n",
    "SNRatio_abnormal_test = cal_larger_better_SNRatio(abnormal_x_test_MD_matrix)"
   ]
  },
  {
   "cell_type": "code",
   "execution_count": 333,
   "metadata": {},
   "outputs": [],
   "source": [
    "def cal_smaller_better_gain(mat,col_name):\n",
    "    idx_1 = list(otho_df.loc[otho_df[col_name] == 1].index)\n",
    "    idx_2 = list(otho_df.loc[otho_df[col_name] == 2].index)\n",
    "    \n",
    "    SN = np.array(cal_smaller_better_SNRatio(mat))\n",
    "    values_1 = np.mean(SN[idx_1])\n",
    "    values_2 = np.mean(SN[idx_2])\n",
    "    \n",
    "    gain = values_1 - values_2\n",
    "    \n",
    "    return(gain)"
   ]
  },
  {
   "cell_type": "code",
   "execution_count": 334,
   "metadata": {},
   "outputs": [],
   "source": [
    "def cal_larger_better_gain(mat,col_name):\n",
    "    idx_1 = list(otho_df.loc[otho_df[col_name] == 1].index)\n",
    "    idx_2 = list(otho_df.loc[otho_df[col_name] == 2].index)\n",
    "    \n",
    "    SN = np.array(cal_larger_better_SNRatio(mat))\n",
    "    values_1 = np.mean(SN[idx_1])\n",
    "    values_2 = np.mean(SN[idx_2])\n",
    "    \n",
    "    gain = values_1 - values_2\n",
    "    \n",
    "    return(gain)"
   ]
  },
  {
   "cell_type": "code",
   "execution_count": 335,
   "metadata": {},
   "outputs": [],
   "source": [
    "#get gain\n",
    "column_names=['mean', 'std', 'skewness', 'kurtosis', 'p2p', 'rms', 'crest', 'shape', 'margin', 'impulse']\n",
    "\n",
    "def get_normal_test_gain(col):\n",
    "    columns = col\n",
    "    gain_values = []\n",
    "    for i in range(0,len(columns)):\n",
    "        gain_values.append(cal_smaller_better_gain(normal_x_test_MD_matrix, columns[i]))\n",
    "        \n",
    "    return(gain_values)\n",
    " \n",
    "def get_abnormal_train_gain(col):\n",
    "    columns = col\n",
    "    gain_values = []\n",
    "    for i in range(0,len(columns)):\n",
    "        gain_values.append(cal_larger_better_gain(abnormal_x_train_MD_matrix, columns[i]))\n",
    "        \n",
    "    return(gain_values)\n",
    "\n",
    "def get_abnormal_test_gain(col):\n",
    "    columns = col\n",
    "    gain_values = []\n",
    "    for i in range(0,len(columns)):\n",
    "        gain_values.append(cal_larger_better_gain(abnormal_x_test_MD_matrix, columns[i]))\n",
    "        \n",
    "    return(gain_values)"
   ]
  },
  {
   "cell_type": "code",
   "execution_count": 336,
   "metadata": {},
   "outputs": [],
   "source": [
    "normal_test_gain = get_normal_test_gain(column_names)\n",
    "\n",
    "abnormal_train_gain = get_abnormal_train_gain(column_names)\n",
    "abnormal_test_gain = get_abnormal_test_gain(column_names)"
   ]
  },
  {
   "cell_type": "code",
   "execution_count": 337,
   "metadata": {},
   "outputs": [
    {
     "name": "stdout",
     "output_type": "stream",
     "text": [
      "Normal Test Gain\n",
      "                 0\n",
      "mean     -0.481293\n",
      "std      -0.311759\n",
      "skewness  0.079479\n",
      "kurtosis -0.122072\n",
      "p2p       0.008835\n",
      "rms      -0.428197\n",
      "crest    -1.009785\n",
      "shape    -0.432587\n",
      "margin   -0.308295\n",
      "impulse  -0.383280\n",
      "\n",
      "\n",
      "abnormal_train_gain\n",
      "                 0\n",
      "mean      1.704851\n",
      "std       3.416720\n",
      "skewness  5.699394\n",
      "kurtosis  8.750298\n",
      "p2p       0.218581\n",
      "rms      -0.276214\n",
      "crest     3.766276\n",
      "shape    -0.399114\n",
      "margin    5.163728\n",
      "impulse   7.395757\n",
      "\n",
      "\n",
      "abnormal_test_gain\n",
      "                 0\n",
      "mean      3.693837\n",
      "std       6.104494\n",
      "skewness  3.442882\n",
      "kurtosis  7.053698\n",
      "p2p       0.137564\n",
      "rms       1.813322\n",
      "crest     4.987908\n",
      "shape     1.671218\n",
      "margin    4.314257\n",
      "impulse   6.352643\n"
     ]
    }
   ],
   "source": [
    "print('Normal Test Gain')\n",
    "print(pd.DataFrame(normal_test_gain, index=column_names))\n",
    "print('\\n')\n",
    "\n",
    "print('abnormal_train_gain')\n",
    "print(pd.DataFrame(abnormal_train_gain, index=column_names))\n",
    "print('\\n')\n",
    "\n",
    "print('abnormal_test_gain')\n",
    "print(pd.DataFrame(abnormal_test_gain, index=column_names))"
   ]
  },
  {
   "cell_type": "code",
   "execution_count": 338,
   "metadata": {},
   "outputs": [],
   "source": [
    "# Select variables that show positive SN ratio in Normal test\n",
    "normal_train_taguchi = normal_x_train_SI_scaled[['skewness','p2p']]\n",
    "normal_test_taguchi = normal_x_test_SI_scaled[['skewness','p2p']]\n",
    "\n",
    "abnormal_train_taguchi = abnormal_x_train_SI_scaled[['skewness','p2p']]\n",
    "abnormal_test_taguchi = abnormal_x_test_SI_scaled[['skewness','p2p']]\n"
   ]
  },
  {
   "cell_type": "code",
   "execution_count": 339,
   "metadata": {},
   "outputs": [],
   "source": [
    "def get_MD_distance_taguchi(x):\n",
    "    normal_cov_mat = pd.DataFrame(normal_train_taguchi).corr()\n",
    "    dist = np.matmul(np.matmul(x, inv(normal_cov_mat)), np.transpose(x)) / len(x)\n",
    "    return(dist)"
   ]
  },
  {
   "cell_type": "code",
   "execution_count": 340,
   "metadata": {},
   "outputs": [],
   "source": [
    "normal_train_dist_taguchi = np.apply_along_axis(get_MD_distance_taguchi, 1, normal_train_taguchi)\n",
    "normal_train_dist_taguchi.sort()\n",
    "normal_test_dist_taguchi = np.apply_along_axis(get_MD_distance_taguchi, 1, normal_test_taguchi)\n",
    "normal_test_dist_taguchi.sort()\n",
    "\n",
    "abnormal_train_dist_taguchi = np.apply_along_axis(get_MD_distance_taguchi, 1, abnormal_train_taguchi)\n",
    "abnormal_train_dist_taguchi.sort()\n",
    "abnormal_test_dist_taguchi = np.apply_along_axis(get_MD_distance_taguchi, 1, abnormal_test_taguchi)\n",
    "abnormal_test_dist_taguchi.sort()"
   ]
  },
  {
   "cell_type": "code",
   "execution_count": 341,
   "metadata": {},
   "outputs": [
    {
     "name": "stdout",
     "output_type": "stream",
     "text": [
      "Normal Train (Mahalanobis Space)\n",
      "[0.00654796 0.0077547  0.09886609 0.15662498 0.16138751 0.18032054\n",
      " 0.20888895 0.24246398 0.25498061 0.36454925 0.38698137 0.46727654\n",
      " 0.51902982 0.66334821 0.76580009 0.88756591 0.89438347 0.95481363\n",
      " 1.03236315 1.07188036 1.18986179 1.29536843 1.47258861 1.5869728\n",
      " 1.8014643  2.17569495 2.50584956 2.50915109 2.93127543 3.20594593]\n",
      "\n",
      "\n",
      "Normal Test\n",
      "[0.05585211 0.09788478 0.37706222 0.90840727 0.91148417 0.9534677\n",
      " 1.09079742 1.37706905 2.12772026 2.60184539]\n",
      "\n",
      "\n",
      "Abnormal Train\n",
      "[346.33067156 352.93339763 369.2171615  445.26034946 512.1409241\n",
      " 537.05591209 550.26690775]\n",
      "\n",
      "\n",
      "Abnormal Test\n",
      "[314.43673425 342.80375347 352.28292705]\n"
     ]
    }
   ],
   "source": [
    "# Results of Feature selection\n",
    "print('Normal Train (Mahalanobis Space)')\n",
    "print(normal_train_dist_taguchi)\n",
    "print('\\n')\n",
    "\n",
    "print('Normal Test')\n",
    "print(normal_test_dist_taguchi)\n",
    "print('\\n')\n",
    "\n",
    "print('Abnormal Train')\n",
    "print(abnormal_train_dist_taguchi)\n",
    "print('\\n')\n",
    "\n",
    "print('Abnormal Test')\n",
    "print(abnormal_test_dist_taguchi)"
   ]
  },
  {
   "cell_type": "code",
   "execution_count": null,
   "metadata": {},
   "outputs": [],
   "source": []
  },
  {
   "cell_type": "code",
   "execution_count": null,
   "metadata": {},
   "outputs": [],
   "source": []
  },
  {
   "cell_type": "code",
   "execution_count": null,
   "metadata": {},
   "outputs": [],
   "source": []
  }
 ],
 "metadata": {
  "kernelspec": {
   "display_name": "Python 2",
   "language": "python",
   "name": "python2"
  },
  "language_info": {
   "codemirror_mode": {
    "name": "ipython",
    "version": 2
   },
   "file_extension": ".py",
   "mimetype": "text/x-python",
   "name": "python",
   "nbconvert_exporter": "python",
   "pygments_lexer": "ipython2",
   "version": "2.7.15"
  }
 },
 "nbformat": 4,
 "nbformat_minor": 2
}
