{
 "cells": [
  {
   "cell_type": "markdown",
   "metadata": {},
   "source": [
    "고장을 7mils, 14mils, 21mils, 28mils 4가지 경우로 묶어서 나누고, 하나의 고장 그룹을 고장, 나머지를 정상으로 하여 MTS"
   ]
  },
  {
   "cell_type": "code",
   "execution_count": 3,
   "metadata": {},
   "outputs": [],
   "source": [
    "import cwru                      # Case Western Reserve University Bearing Data\n",
    "import pandas as pd              # dataframe\n",
    "import numpy as np               # array\n",
    "from collections import Counter  # Class 갯수 세기\n",
    "import matplotlib.pyplot as plt  # Visualization\n",
    "%matplotlib inline\n",
    "from scipy.fftpack import fft, ifft\n",
    "from acoustics.cepstrum import complex_cepstrum, real_cepstrum\n",
    "from sklearn.preprocessing import scale\n",
    "from scipy.spatial import distance\n",
    "from numpy.linalg import inv"
   ]
  },
  {
   "cell_type": "code",
   "execution_count": 4,
   "metadata": {},
   "outputs": [],
   "source": [
    "cwru_data = cwru.CWRU(\"12DriveEndFault\", \"1750\", 12000)"
   ]
  },
  {
   "cell_type": "code",
   "execution_count": 5,
   "metadata": {},
   "outputs": [
    {
     "data": {
      "text/plain": [
       "('0.007-Ball',\n",
       " '0.007-InnerRace',\n",
       " '0.007-OuterRace12',\n",
       " '0.007-OuterRace3',\n",
       " '0.007-OuterRace6',\n",
       " '0.014-Ball',\n",
       " '0.014-InnerRace',\n",
       " '0.014-OuterRace6',\n",
       " '0.021-Ball',\n",
       " '0.021-InnerRace',\n",
       " '0.021-OuterRace12',\n",
       " '0.021-OuterRace3',\n",
       " '0.021-OuterRace6',\n",
       " '0.028-Ball',\n",
       " '0.028-InnerRace',\n",
       " 'Normal')"
      ]
     },
     "execution_count": 5,
     "metadata": {},
     "output_type": "execute_result"
    }
   ],
   "source": [
    "cwru_data.labels"
   ]
  },
  {
   "cell_type": "code",
   "execution_count": 6,
   "metadata": {},
   "outputs": [],
   "source": [
    "x_train = np.asarray(cwru_data.X_train)\n",
    "x_test = np.asarray(cwru_data.X_test)\n",
    "\n",
    "y_train = np.asarray(cwru_data.y_train)\n",
    "y_test = np.asarray(cwru_data.y_test)"
   ]
  },
  {
   "cell_type": "code",
   "execution_count": 7,
   "metadata": {},
   "outputs": [
    {
     "name": "stdout",
     "output_type": "stream",
     "text": [
      "Counter({15: 30, 0: 7, 1: 7, 2: 7, 3: 7, 4: 7, 5: 7, 6: 7, 7: 7, 8: 7, 9: 7, 10: 7, 11: 7, 12: 7, 13: 7, 14: 7})\n",
      "Counter({15: 10, 0: 3, 1: 3, 2: 3, 3: 3, 4: 3, 5: 3, 6: 3, 7: 3, 8: 3, 9: 3, 10: 3, 11: 3, 12: 3, 13: 3, 14: 3})\n"
     ]
    }
   ],
   "source": [
    "print(Counter(y_train)) # Train 데이터 클래스 분포\n",
    "print(Counter(y_test))  # Test 데이터 클래스 분포"
   ]
  },
  {
   "cell_type": "code",
   "execution_count": 8,
   "metadata": {},
   "outputs": [
    {
     "data": {
      "text/plain": [
       "(55, 12000)"
      ]
     },
     "execution_count": 8,
     "metadata": {},
     "output_type": "execute_result"
    }
   ],
   "source": [
    "x_test.shape"
   ]
  },
  {
   "cell_type": "code",
   "execution_count": 9,
   "metadata": {},
   "outputs": [],
   "source": [
    "class_15_train_idx, = np.where(y_train == 15)\n",
    "class_15_test_idx, = np.where(y_test == 15)"
   ]
  },
  {
   "cell_type": "code",
   "execution_count": 10,
   "metadata": {},
   "outputs": [],
   "source": [
    "# remove class 15\n",
    "x_train = np.delete(x_train, class_15_train_idx, axis = 0)\n",
    "x_test = np.delete(x_test, class_15_test_idx, axis = 0)\n",
    "\n",
    "y_train = np.delete(y_train, class_15_train_idx, axis = 0)\n",
    "y_test = np.delete(y_test, class_15_test_idx, axis = 0)"
   ]
  },
  {
   "cell_type": "code",
   "execution_count": 11,
   "metadata": {},
   "outputs": [],
   "source": [
    "# k class is abnormal\n",
    "def make_dataset(d):\n",
    "    \n",
    "    if d == 7:\n",
    "        normal_train_idx, = np.where((y_train != 0) & (y_train != 1) & (y_train != 2) & (y_train != 3) & (y_train != 4))\n",
    "        normal_test_idx, = np.where((y_test != 0) & (y_test != 1) & (y_test != 2) & (y_test != 3) & (y_test != 4))\n",
    "\n",
    "        abnormal_train_idx, = np.where((y_train == 0) | (y_train == 1) | (y_train == 2) | (y_train == 3) | (y_train == 4))\n",
    "        abnormal_test_idx, = np.where((y_test == 0) | (y_test == 1) | (y_test == 2) | (y_test == 3) | (y_test == 4))\n",
    "        \n",
    "    elif d == 14:\n",
    "        normal_train_idx, = np.where((y_train != 5) & (y_train != 6) & (y_train != 7))\n",
    "        normal_test_idx, = np.where((y_test != 5) & (y_test != 6) & (y_test != 7))\n",
    "\n",
    "        abnormal_train_idx, = np.where((y_train == 5) | (y_train == 6) | (y_train == 7))\n",
    "        abnormal_test_idx, = np.where((y_test == 5) | (y_test == 6) | (y_test == 7))\n",
    "        \n",
    "    elif d == 21:\n",
    "        normal_train_idx, = np.where((y_train != 8) & (y_train != 9) & (y_train != 10) & (y_train != 11) & (y_train != 12))\n",
    "        normal_test_idx, = np.where((y_test != 8) & (y_test != 9) & (y_test != 10) & (y_test != 11) & (y_test != 12))\n",
    "\n",
    "        abnormal_train_idx, = np.where((y_train == 8) | (y_train == 9) | (y_train == 10) | (y_train == 11) | (y_train == 12))\n",
    "        abnormal_test_idx, = np.where((y_test == 8) | (y_test == 9) | (y_test == 10) | (y_test == 11) | (y_test == 12))\n",
    "        \n",
    "    elif d == 28:\n",
    "        normal_train_idx, = np.where((y_train != 13) & (y_train != 14))\n",
    "        normal_test_idx, = np.where((y_test != 13) & (y_test != 14))\n",
    "\n",
    "        abnormal_train_idx, = np.where((y_train == 13) | (y_train == 14))\n",
    "        abnormal_test_idx, = np.where((y_test == 13) | (y_test == 14))\n",
    "        \n",
    "    else:\n",
    "        print('Typing Error')\n",
    "    \n",
    "    return normal_train_idx, normal_test_idx, abnormal_train_idx, abnormal_test_idx\n",
    "    "
   ]
  },
  {
   "cell_type": "code",
   "execution_count": 12,
   "metadata": {},
   "outputs": [],
   "source": [
    "normal_train_idx, normal_test_idx, abnormal_train_idx, abnormal_test_idx = make_dataset(7)\n",
    "\n",
    "for i in range(len(y_train)):\n",
    "    if i in normal_train_idx:\n",
    "        y_train[i] = 0 # Normal\n",
    "    else:\n",
    "        y_train[i] = 1 # Abnormal \n",
    "\n",
    "# Test 데이터 클래스 수정\n",
    "for i in range(len(y_test)):\n",
    "    if i in normal_test_idx:\n",
    "        y_test[i] = 0\n",
    "    else:\n",
    "        y_test[i] = 1 \n",
    "            "
   ]
  },
  {
   "cell_type": "code",
   "execution_count": 13,
   "metadata": {},
   "outputs": [
    {
     "data": {
      "text/plain": [
       "array([0, 0, 0, 0, 0, 0, 1, 1, 1, 1, 1, 0, 1, 0, 0, 0, 1, 1, 0, 1, 1, 0,\n",
       "       0, 0, 0, 1, 0, 0, 0, 0, 0, 0, 0, 0, 1, 0, 0, 1, 1, 0, 0, 0, 1, 0,\n",
       "       0])"
      ]
     },
     "execution_count": 13,
     "metadata": {},
     "output_type": "execute_result"
    }
   ],
   "source": [
    "y_test"
   ]
  },
  {
   "cell_type": "code",
   "execution_count": 14,
   "metadata": {},
   "outputs": [
    {
     "data": {
      "text/plain": [
       "35"
      ]
     },
     "execution_count": 14,
     "metadata": {},
     "output_type": "execute_result"
    }
   ],
   "source": [
    "sum(y_train)"
   ]
  },
  {
   "cell_type": "code",
   "execution_count": 15,
   "metadata": {},
   "outputs": [],
   "source": [
    "def do_FFT(signal_set):\n",
    "    window = np.hamming(12000)\n",
    "    fft_rlt = np.fft.fft(window * signal_set)\n",
    "    return(fft_rlt)\n",
    "\n",
    "def do_Cepstrum(spectrum):\n",
    "    cep_result = (ifft(np.log(spectrum**2))**2).real\n",
    "    return(cep_result)\n",
    "\n",
    "    #ifft(np.log(np.abs(spectrum)))"
   ]
  },
  {
   "cell_type": "code",
   "execution_count": 16,
   "metadata": {},
   "outputs": [],
   "source": [
    "#Data split\n",
    "normal_x_train = pd.DataFrame(x_train[normal_train_idx])\n",
    "normal_x_test = pd.DataFrame(x_test[normal_test_idx])\n",
    "\n",
    "abnormal_x_train = pd.DataFrame(x_train[abnormal_train_idx])\n",
    "abnormal_x_test = pd.DataFrame(x_test[abnormal_test_idx])"
   ]
  },
  {
   "cell_type": "code",
   "execution_count": 17,
   "metadata": {},
   "outputs": [
    {
     "data": {
      "text/plain": [
       "(35, 12000)"
      ]
     },
     "execution_count": 17,
     "metadata": {},
     "output_type": "execute_result"
    }
   ],
   "source": [
    "abnormal_x_train.shape"
   ]
  },
  {
   "cell_type": "code",
   "execution_count": 18,
   "metadata": {},
   "outputs": [
    {
     "data": {
      "text/plain": [
       "[<matplotlib.lines.Line2D at 0x7f09b9f8d8d0>]"
      ]
     },
     "execution_count": 18,
     "metadata": {},
     "output_type": "execute_result"
    },
    {
     "data": {
      "image/png": "[encoded data removed]",
      "text/plain": [
       "<Figure size 432x288 with 1 Axes>"
      ]
     },
     "metadata": {},
     "output_type": "display_data"
    }
   ],
   "source": [
    "plt.plot(normal_x_train.iloc[0,:])"
   ]
  },
  {
   "cell_type": "code",
   "execution_count": 19,
   "metadata": {},
   "outputs": [
    {
     "data": {
      "text/plain": [
       "[<matplotlib.lines.Line2D at 0x7f09b9f2cfd0>]"
      ]
     },
     "execution_count": 19,
     "metadata": {},
     "output_type": "execute_result"
    },
    {
     "data": {
      "image/png": "[encoded data removed]",
      "text/plain": [
       "<Figure size 432x288 with 1 Axes>"
      ]
     },
     "metadata": {},
     "output_type": "display_data"
    }
   ],
   "source": [
    "plt.plot(normal_x_train.iloc[0,:]*np.hamming(12000))"
   ]
  },
  {
   "cell_type": "code",
   "execution_count": 20,
   "metadata": {},
   "outputs": [
    {
     "data": {
      "text/plain": [
       "'\\n#No-Standardization\\nnormal_x_train_scaled = normal_x_train\\nnormal_x_test_scaled = normal_x_test\\n\\nabnormal_x_train_scaled = abnormal_x_train\\nabnormal_x_test_scaled = abnormal_x_test\\n'"
      ]
     },
     "execution_count": 20,
     "metadata": {},
     "output_type": "execute_result"
    }
   ],
   "source": [
    "#Standardization\n",
    "normal_x_train_scaled = pd.DataFrame(scale(normal_x_train, axis = 1))\n",
    "normal_x_test_scaled = pd.DataFrame(scale(normal_x_test, axis = 1))\n",
    "\n",
    "abnormal_x_train_scaled = pd.DataFrame(scale(abnormal_x_train, axis = 1))\n",
    "abnormal_x_test_scaled = pd.DataFrame(scale(abnormal_x_test, axis = 1))\n",
    "\n",
    "'''\n",
    "#No-Standardization\n",
    "normal_x_train_scaled = normal_x_train\n",
    "normal_x_test_scaled = normal_x_test\n",
    "\n",
    "abnormal_x_train_scaled = abnormal_x_train\n",
    "abnormal_x_test_scaled = abnormal_x_test\n",
    "'''"
   ]
  },
  {
   "cell_type": "code",
   "execution_count": 21,
   "metadata": {},
   "outputs": [],
   "source": [
    "#Hamming and FFT\n",
    "normal_x_train_fft = np.apply_along_axis(do_FFT, 1, normal_x_train_scaled)\n",
    "normal_x_test_fft = np.apply_along_axis(do_FFT, 1, normal_x_test_scaled)\n",
    "\n",
    "abnormal_x_train_fft = np.apply_along_axis(do_FFT, 1, abnormal_x_train_scaled)\n",
    "abnormal_x_test_fft = np.apply_along_axis(do_FFT, 1, abnormal_x_test_scaled)"
   ]
  },
  {
   "cell_type": "code",
   "execution_count": 22,
   "metadata": {},
   "outputs": [
    {
     "data": {
      "text/plain": [
       "Text(0,0.5,'|Y(freq)|')"
      ]
     },
     "execution_count": 22,
     "metadata": {},
     "output_type": "execute_result"
    },
    {
     "data": {
      "image/png": "[encoded data removed]",
      "text/plain": [
       "<Figure size 432x288 with 2 Axes>"
      ]
     },
     "metadata": {},
     "output_type": "display_data"
    }
   ],
   "source": [
    "Fs = 12000.0;  # sampling rate\n",
    "Ts = 1.0/Fs; # sampling interval\n",
    "t = np.arange(0,1,Ts) # time vector\n",
    "\n",
    "y = normal_x_train_scaled.iloc[0,:]\n",
    "\n",
    "n = len(y) # length of the signal\n",
    "k = np.arange(n)\n",
    "T = n/Fs\n",
    "frq = k/T # two sides frequency range\n",
    "frq = frq[range(n/2)] # one side frequency range\n",
    "\n",
    "Y = np.fft.fft(y)/n # fft computing and normalization\n",
    "Y = Y[range(n/2)]\n",
    "\n",
    "fig, ax = plt.subplots(2, 1)\n",
    "ax[0].plot(t,y)\n",
    "ax[0].set_xlabel('Time')\n",
    "ax[0].set_ylabel('Amplitude')\n",
    "ax[1].plot(frq,abs(Y),'r') # plotting the spectrum\n",
    "ax[1].set_xlabel('Freq (Hz)')\n",
    "ax[1].set_ylabel('|Y(freq)|')\n"
   ]
  },
  {
   "cell_type": "code",
   "execution_count": 23,
   "metadata": {},
   "outputs": [
    {
     "data": {
      "text/plain": [
       "[<matplotlib.lines.Line2D at 0x7f09b90c9f50>]"
      ]
     },
     "execution_count": 23,
     "metadata": {},
     "output_type": "execute_result"
    },
    {
     "data": {
      "image/png": "[encoded data removed]",
      "text/plain": [
       "<Figure size 432x288 with 1 Axes>"
      ]
     },
     "metadata": {},
     "output_type": "display_data"
    }
   ],
   "source": [
    "#Cepstrum\n",
    "normal_x_train_cep = np.apply_along_axis(do_Cepstrum, 1, normal_x_train_fft)\n",
    "normal_x_test_cep = np.apply_along_axis(do_Cepstrum, 1, normal_x_test_fft)\n",
    "\n",
    "abnormal_x_train_cep = np.apply_along_axis(do_Cepstrum, 1, abnormal_x_train_fft)\n",
    "abnormal_x_test_cep = np.apply_along_axis(do_Cepstrum, 1, abnormal_x_test_fft)\n",
    "\n",
    "plt.plot(normal_x_train_cep[0])"
   ]
  },
  {
   "cell_type": "code",
   "execution_count": 24,
   "metadata": {},
   "outputs": [],
   "source": [
    "#SI Functions\n",
    "def get_mean(x):\n",
    "    avg = np.mean(x)\n",
    "    return(avg)\n",
    "\n",
    "def get_std(x):\n",
    "    std = np.std(x)\n",
    "    return(std)\n",
    "\n",
    "def get_skewness(x):\n",
    "    skewness = sum((x - np.mean(x))**3) / ((len(x)-1)*(np.std(x)**3))\n",
    "    return(skewness)\n",
    "\n",
    "def get_kurtosis(x):\n",
    "    kurtosis = sum((x - np.mean(x))**4) / ((len(x)-1)*(np.std(x)**4))\n",
    "    return (kurtosis)\n",
    "\n",
    "def get_p2p(x):\n",
    "    p2p = (np.max(x) - np.min(x))\n",
    "    return(p2p)\n",
    "\n",
    "def get_rms(x):\n",
    "    rms = np.sqrt(sum(x**2) / len(x))\n",
    "    return(rms)\n",
    "\n",
    "def get_crestFactor(x):\n",
    "    crestFactor = get_p2p(x) / get_rms(x)\n",
    "    return(crestFactor)\n",
    "\n",
    "def get_shapeFactor(x):\n",
    "    shapeFactor = get_rms(x) / get_mean(x)\n",
    "    return(shapeFactor)\n",
    "    \n",
    "def get_marginFactor(x):\n",
    "    marginFactor = np.max(x) / (np.mean((np.sqrt(abs(x))))**2)\n",
    "    return(marginFactor)\n",
    "\n",
    "def get_impulseFactor(x):\n",
    "    impulseFactor = np.max(x) / np.mean(abs(x))\n",
    "    return(impulseFactor)\n"
   ]
  },
  {
   "cell_type": "code",
   "execution_count": 25,
   "metadata": {},
   "outputs": [],
   "source": [
    "def make_df(x):\n",
    "    mean_value = np.apply_along_axis(get_mean, 1, x)\n",
    "    std_value = np.apply_along_axis(get_std, 1, x)\n",
    "    skewness_value = np.apply_along_axis(get_skewness, 1, x)\n",
    "    kurtosis_value = np.apply_along_axis(get_kurtosis, 1, x)\n",
    "    p2p_value = np.apply_along_axis(get_p2p, 1, x)\n",
    "    rms_value = np.apply_along_axis(get_rms, 1, x)\n",
    "    crestFactor_value = np.apply_along_axis(get_crestFactor, 1, x)\n",
    "    shapeFactor_value = np.apply_along_axis(get_shapeFactor, 1, x)\n",
    "    marginFactor_value = np.apply_along_axis(get_marginFactor, 1, x)\n",
    "    impulseFactor_value = np.apply_along_axis(get_impulseFactor, 1, x)\n",
    "    \n",
    "    df = pd.DataFrame({'mean':mean_value, 'std':std_value, 'skewness':skewness_value, 'kurtosis':kurtosis_value, 'p2p':p2p_value, 'rms':rms_value,\n",
    "                       'crest':crestFactor_value, 'shape':shapeFactor_value, 'margin':marginFactor_value, 'impulse':impulseFactor_value})\n",
    "    \n",
    "    return(df)"
   ]
  },
  {
   "cell_type": "code",
   "execution_count": 26,
   "metadata": {},
   "outputs": [],
   "source": [
    "#make dataframe\n",
    "normal_x_train_SI = make_df(normal_x_train_cep)\n",
    "normal_x_test_SI = make_df(normal_x_test_cep)\n",
    "\n",
    "abnormal_x_train_SI = make_df(abnormal_x_train_cep)\n",
    "abnormal_x_test_SI = make_df(abnormal_x_test_cep)"
   ]
  },
  {
   "cell_type": "code",
   "execution_count": 27,
   "metadata": {},
   "outputs": [],
   "source": [
    "#Standardization in MTS\n",
    "def standardize(x,y):\n",
    "    mean_mean = get_mean(x['mean'])\n",
    "    std_mean = get_mean(x['std'])\n",
    "    skewness_mean = get_mean(x['skewness'])\n",
    "    kurtosis_mean = get_mean(x['kurtosis'])\n",
    "    p2p_mean = get_mean(x['p2p'])\n",
    "    rms_mean = get_mean(x['rms'])\n",
    "    crest_mean = get_mean(x['crest'])\n",
    "    shape_mean = get_mean(x['shape'])\n",
    "    margin_mean = get_mean(x['margin'])\n",
    "    impulse_mean = get_mean(x['impulse'])\n",
    "    \n",
    "    mean_std = get_std(x['mean'])\n",
    "    std_std = get_std(x['std'])\n",
    "    skewness_std = get_std(x['skewness'])\n",
    "    kurtosis_std = get_std(x['kurtosis'])\n",
    "    p2p_std = get_std(x['p2p'])\n",
    "    rms_std = get_std(x['rms'])\n",
    "    crest_std = get_std(x['crest'])\n",
    "    shape_std = get_std(x['shape'])\n",
    "    margin_std = get_std(x['margin'])\n",
    "    impulse_std = get_std(x['impulse'])\n",
    "    \n",
    "    mean_value = (y['mean'] - mean_mean) / mean_std\n",
    "    std_value = (y['std'] - std_mean) / std_std\n",
    "    skewness_value = (y['skewness'] - skewness_mean) / skewness_std\n",
    "    kurtosis_value = (y['kurtosis'] - kurtosis_mean) / kurtosis_std\n",
    "    p2p_value = (y['p2p'] - p2p_mean) / p2p_std\n",
    "    rms_value = (y['rms'] - rms_mean) / rms_std\n",
    "    crest_value = (y['crest'] - crest_mean) / crest_std\n",
    "    shape_value = (y['shape'] - shape_mean) / shape_std\n",
    "    margin_value = (y['margin'] - margin_mean) / margin_std\n",
    "    impulse_value = (y['impulse'] - impulse_mean) / impulse_std\n",
    "    \n",
    "    df = pd.DataFrame({'mean':mean_value, 'std':std_value, 'skewness':skewness_value, 'kurtosis':kurtosis_value, 'p2p':p2p_value, 'rms':rms_value,\n",
    "                       'crest':crest_value, 'shape':shape_value, 'margin':margin_value, 'impulse':impulse_value})\n",
    "    \n",
    "    return(df)"
   ]
  },
  {
   "cell_type": "code",
   "execution_count": 28,
   "metadata": {},
   "outputs": [],
   "source": [
    "normal_x_train_SI_scaled = standardize(normal_x_train_SI, normal_x_train_SI)\n",
    "normal_x_test_SI_scaled = standardize(normal_x_train_SI, normal_x_test_SI)\n",
    "\n",
    "abnormal_x_train_SI_scaled = standardize(normal_x_train_SI, abnormal_x_train_SI)\n",
    "abnormal_x_test_SI_scaled = standardize(normal_x_train_SI, abnormal_x_test_SI)"
   ]
  },
  {
   "cell_type": "code",
   "execution_count": 29,
   "metadata": {},
   "outputs": [],
   "source": [
    "def get_MD_distance(x):\n",
    "    normal_cov_mat = pd.DataFrame(normal_x_train_SI_scaled).corr()\n",
    "    dist = np.matmul(np.matmul(x, inv(normal_cov_mat)), np.transpose(x)) / len(x)\n",
    "    return(dist)"
   ]
  },
  {
   "cell_type": "code",
   "execution_count": 48,
   "metadata": {},
   "outputs": [],
   "source": [
    "normal_train_dist = np.apply_along_axis(get_MD_distance, 1, normal_x_train_SI_scaled)\n",
    "normal_train_dist.sort()\n",
    "normal_test_dist = np.apply_along_axis(get_MD_distance, 1, normal_x_test_SI_scaled)\n",
    "normal_test_dist.sort()\n",
    "\n",
    "abnormal_train_dist = np.apply_along_axis(get_MD_distance, 1, abnormal_x_train_SI_scaled)\n",
    "abnormal_train_dist.sort()\n",
    "abnormal_test_dist = np.apply_along_axis(get_MD_distance, 1, abnormal_x_test_SI_scaled)\n",
    "abnormal_test_dist.sort()\n"
   ]
  },
  {
   "cell_type": "code",
   "execution_count": 49,
   "metadata": {},
   "outputs": [
    {
     "name": "stdout",
     "output_type": "stream",
     "text": [
      "[0.18189632 0.18956656 0.2709112  0.29622778 0.29731657 0.33382721\n",
      " 0.33660353 0.37493525 0.37854181 0.43255883 0.43999428 0.44824793\n",
      " 0.4536098  0.49568207 0.5084434  0.52477205 0.53663425 0.54448752\n",
      " 0.57115061 0.5861581  0.60363901 0.6174275  0.61847004 0.62064916\n",
      " 0.62095345 0.65075072 0.65808914 0.65846866 0.6764518  0.78951351\n",
      " 0.79158967 0.79736551 0.80530782 0.81776035 0.81855816 0.85417676\n",
      " 0.86977008 0.87855121 0.87991948 0.92142188 0.92710281 0.95630152\n",
      " 0.9654924  0.9879401  0.99952971 1.01698331 1.01988043 1.02713551\n",
      " 1.07254013 1.07584441 1.10799358 1.12771371 1.16199105 1.17765008\n",
      " 1.21017452 1.23768251 1.27442843 1.31405044 1.32398921 1.37649719\n",
      " 1.50340947 1.75547441 1.89866843 2.05371204 2.22111054 2.24420346\n",
      " 2.43682364 2.81362553 3.54226587 4.01700872]\n",
      "\n",
      "\n",
      "[0.12162338 0.15774301 0.16131956 0.37163426 0.40867163 0.41557085\n",
      " 0.42325495 0.45323279 0.4752287  0.47856023 0.50084562 0.50664155\n",
      " 0.55497081 0.61196064 0.66413357 0.69838194 0.70203152 0.82263103\n",
      " 0.86568526 1.00316793 1.18308377 1.22993981 1.31518774 1.43812193\n",
      " 1.70030484 1.95927223 2.80992311 2.81851688 4.83352925 4.98478881]\n",
      "\n",
      "\n",
      "[5.32102897e-01 5.51151097e-01 8.04253706e-01 9.03503902e-01\n",
      " 1.01300537e+00 1.01920992e+00 1.24076953e+00 1.50984329e+00\n",
      " 1.53051364e+00 1.67277349e+00 2.97388388e+00 3.13901244e+00\n",
      " 3.58453547e+00 3.80406437e+00 3.89587053e+00 4.17058496e+00\n",
      " 4.28226745e+00 4.66358691e+00 4.96621961e+00 4.97764595e+00\n",
      " 5.08983690e+00 1.04016722e+02 1.12477097e+02 1.12626008e+02\n",
      " 1.68770409e+02 1.74074214e+02 1.82990267e+02 2.17221226e+02\n",
      " 3.05687212e+02 7.18344704e+02 9.32633201e+02 1.95546198e+03\n",
      " 2.35844783e+03 3.22338525e+03 3.94036172e+03]\n",
      "\n",
      "\n",
      "[1.02222493e+00 1.39905154e+00 1.80755440e+00 3.12328444e+00\n",
      " 3.16032321e+00 3.43085378e+00 3.43770257e+00 4.08743241e+00\n",
      " 8.29250506e+00 1.03322001e+02 1.04489216e+02 1.07927701e+02\n",
      " 1.17439296e+02 6.49726584e+02 3.61425730e+03]\n"
     ]
    }
   ],
   "source": [
    "print(normal_train_dist)\n",
    "print('\\n')\n",
    "print(normal_test_dist)\n",
    "print('\\n')\n",
    "print(abnormal_train_dist)\n",
    "print('\\n')\n",
    "print(abnormal_test_dist)\n"
   ]
  },
  {
   "cell_type": "code",
   "execution_count": 33,
   "metadata": {},
   "outputs": [],
   "source": [
    "#L_12(2^11) orthogonal array\n",
    "ortho_array = np.matrix([[1, 1, 1, 1, 1, 1, 1, 1, 1, 1, 1],\n",
    "                       [1, 1, 1, 1, 1, 2, 2, 2, 2, 2, 2],\n",
    "                       [1, 1, 2, 2, 2, 1, 1, 1, 2, 2, 2],\n",
    "                       [1, 2, 1, 2, 2, 1, 2, 2, 1, 1, 2],\n",
    "                       [1, 2, 2, 1, 2, 2, 1, 2, 1, 2, 1],\n",
    "                       [1, 2, 2, 2, 1, 2, 2, 1, 2, 1, 1],\n",
    "                       [2, 1, 2, 2, 1, 1, 2, 2, 1, 2, 1],\n",
    "                       [2, 1, 2, 1, 2, 2, 2, 1, 1, 1, 2],\n",
    "                       [2, 1, 1, 2, 2, 2, 1, 2, 2, 1, 1],\n",
    "                       [2, 2, 2, 1, 1, 1, 1, 2, 2, 1, 2],\n",
    "                       [2, 2, 1, 2, 1, 2, 1, 1, 1, 2, 2],\n",
    "                       [2, 2, 1, 1, 2, 1, 2, 1, 2, 2, 1]])"
   ]
  },
  {
   "cell_type": "code",
   "execution_count": 34,
   "metadata": {},
   "outputs": [],
   "source": [
    "otho_df = pd.DataFrame(ortho_array, columns=['mean', 'std', 'skewness', 'kurtosis', 'p2p', 'rms', 'crest', 'shape', 'margin', 'impulse','DUMMY'])"
   ]
  },
  {
   "cell_type": "code",
   "execution_count": 35,
   "metadata": {},
   "outputs": [],
   "source": [
    "def get_exp_col(n):\n",
    "    condition = otho_df.iloc[n,:]==1\n",
    "    col = list(otho_df.loc[n,condition].index)\n",
    "    if('DUMMY' in col):\n",
    "        col.pop()\n",
    "    return(col)"
   ]
  },
  {
   "cell_type": "code",
   "execution_count": 36,
   "metadata": {},
   "outputs": [],
   "source": [
    "def get_MD_distance_exp(x,n):\n",
    "    col = get_exp_col(n)\n",
    "    normal_cov_mat = pd.DataFrame(normal_x_train_SI_scaled[col]).corr()\n",
    "    dist = np.matmul(np.matmul(x, inv(normal_cov_mat)), np.transpose(x)) / len(x)\n",
    "    return(dist)"
   ]
  },
  {
   "cell_type": "code",
   "execution_count": 37,
   "metadata": {},
   "outputs": [],
   "source": [
    "def get_MD_exp(n,df):\n",
    "    col = get_exp_col(n)\n",
    "    target_df = df[col]\n",
    "    dist = np.apply_along_axis(get_MD_distance_exp, 1, target_df, n)\n",
    "    return(dist)"
   ]
  },
  {
   "cell_type": "code",
   "execution_count": 38,
   "metadata": {},
   "outputs": [],
   "source": [
    "def get_MD_matrix(df):\n",
    "    arr = np.empty([12, df.shape[0]])\n",
    "    for i in range(0,12):\n",
    "        arr[i,:] = get_MD_exp(i,df)\n",
    "        \n",
    "    return(arr)"
   ]
  },
  {
   "cell_type": "code",
   "execution_count": 39,
   "metadata": {},
   "outputs": [],
   "source": [
    "normal_x_test_MD_matrix = get_MD_matrix(normal_x_test_SI_scaled)\n",
    "\n",
    "abnormal_x_train_MD_matrix = get_MD_matrix(abnormal_x_train_SI_scaled)\n",
    "abnormal_x_test_MD_matrix = get_MD_matrix(abnormal_x_test_SI_scaled)\n"
   ]
  },
  {
   "cell_type": "code",
   "execution_count": 40,
   "metadata": {},
   "outputs": [],
   "source": [
    "def cal_larger_better_SNRatio(mat):\n",
    "    SNRatio = []\n",
    "    for i in range(0,mat.shape[0]):\n",
    "        dist = mat[i]\n",
    "        SN = -10 * np.log10(np.mean(1/(dist)))\n",
    "        SNRatio.append(SN)\n",
    "        \n",
    "    return(SNRatio)"
   ]
  },
  {
   "cell_type": "code",
   "execution_count": 41,
   "metadata": {},
   "outputs": [],
   "source": [
    "def cal_smaller_better_SNRatio(mat):\n",
    "    SNRatio = []\n",
    "    for i in range(0,mat.shape[0]):\n",
    "        dist = mat[i]\n",
    "        SN = -10 * np.log10(np.mean(dist))\n",
    "        SNRatio.append(SN)\n",
    "        \n",
    "    return(SNRatio)"
   ]
  },
  {
   "cell_type": "code",
   "execution_count": 42,
   "metadata": {},
   "outputs": [],
   "source": [
    "SNRatio_normal_test = cal_smaller_better_SNRatio(normal_x_test_MD_matrix)\n",
    "\n",
    "SNRatio_abnormal_train = cal_larger_better_SNRatio(abnormal_x_train_MD_matrix)\n",
    "SNRatio_abnormal_test = cal_larger_better_SNRatio(abnormal_x_test_MD_matrix)"
   ]
  },
  {
   "cell_type": "code",
   "execution_count": 43,
   "metadata": {},
   "outputs": [],
   "source": [
    "def cal_smaller_better_gain(mat,col_name):\n",
    "    idx_1 = list(otho_df.loc[otho_df[col_name] == 1].index)\n",
    "    idx_2 = list(otho_df.loc[otho_df[col_name] == 2].index)\n",
    "    \n",
    "    SN = np.array(cal_smaller_better_SNRatio(mat))\n",
    "    values_1 = np.mean(SN[idx_1])\n",
    "    values_2 = np.mean(SN[idx_2])\n",
    "    \n",
    "    gain = values_1 - values_2\n",
    "    \n",
    "    return(gain)"
   ]
  },
  {
   "cell_type": "code",
   "execution_count": 44,
   "metadata": {},
   "outputs": [],
   "source": [
    "def cal_larger_better_gain(mat,col_name):\n",
    "    idx_1 = list(otho_df.loc[otho_df[col_name] == 1].index)\n",
    "    idx_2 = list(otho_df.loc[otho_df[col_name] == 2].index)\n",
    "    \n",
    "    SN = np.array(cal_larger_better_SNRatio(mat))\n",
    "    values_1 = np.mean(SN[idx_1])\n",
    "    values_2 = np.mean(SN[idx_2])\n",
    "    \n",
    "    gain = values_1 - values_2\n",
    "    \n",
    "    return(gain)"
   ]
  },
  {
   "cell_type": "code",
   "execution_count": 45,
   "metadata": {},
   "outputs": [],
   "source": [
    "#get gain\n",
    "column_names=['mean', 'std', 'skewness', 'kurtosis', 'p2p', 'rms', 'crest', 'shape', 'margin', 'impulse']\n",
    "\n",
    "def get_normal_test_gain(col):\n",
    "    columns = col\n",
    "    gain_values = []\n",
    "    for i in range(0,len(columns)):\n",
    "        gain_values.append(cal_smaller_better_gain(normal_x_test_MD_matrix, columns[i]))\n",
    "        \n",
    "    return(gain_values)\n",
    " \n",
    "def get_abnormal_train_gain(col):\n",
    "    columns = col\n",
    "    gain_values = []\n",
    "    for i in range(0,len(columns)):\n",
    "        gain_values.append(cal_larger_better_gain(abnormal_x_train_MD_matrix, columns[i]))\n",
    "        \n",
    "    return(gain_values)\n",
    "\n",
    "def get_abnormal_test_gain(col):\n",
    "    columns = col\n",
    "    gain_values = []\n",
    "    for i in range(0,len(columns)):\n",
    "        gain_values.append(cal_larger_better_gain(abnormal_x_test_MD_matrix, columns[i]))\n",
    "        \n",
    "    return(gain_values)"
   ]
  },
  {
   "cell_type": "code",
   "execution_count": 46,
   "metadata": {},
   "outputs": [],
   "source": [
    "normal_test_gain = get_normal_test_gain(column_names)\n",
    "\n",
    "abnormal_train_gain = get_abnormal_train_gain(column_names)\n",
    "abnormal_test_gain = get_abnormal_test_gain(column_names)"
   ]
  },
  {
   "cell_type": "code",
   "execution_count": 47,
   "metadata": {},
   "outputs": [
    {
     "name": "stdout",
     "output_type": "stream",
     "text": [
      "normal_test_gain\n",
      "                 0\n",
      "mean     -0.087163\n",
      "std      -0.245096\n",
      "skewness -0.338387\n",
      "kurtosis -0.169534\n",
      "p2p      -0.513902\n",
      "rms       0.070994\n",
      "crest    -0.604182\n",
      "shape    -0.078958\n",
      "margin   -0.188266\n",
      "impulse  -0.342787\n",
      "\n",
      "\n",
      "abnormal_train_gain\n",
      "                 0\n",
      "mean      0.908326\n",
      "std       0.271777\n",
      "skewness  0.597191\n",
      "kurtosis  1.517881\n",
      "p2p       0.080504\n",
      "rms      -0.404488\n",
      "crest     1.188416\n",
      "shape     0.598218\n",
      "margin   -0.244234\n",
      "impulse   0.784020\n",
      "\n",
      "\n",
      "abnormal_test_gain\n",
      "                 0\n",
      "mean      1.160796\n",
      "std       0.355466\n",
      "skewness  0.583809\n",
      "kurtosis  0.786943\n",
      "p2p       0.419935\n",
      "rms       0.108798\n",
      "crest     1.031831\n",
      "shape     0.613063\n",
      "margin    0.470708\n",
      "impulse   0.582435\n"
     ]
    }
   ],
   "source": [
    "print('normal_test_gain')\n",
    "print(pd.DataFrame(normal_test_gain, index=column_names))\n",
    "print('\\n')\n",
    "\n",
    "print('abnormal_train_gain')\n",
    "print(pd.DataFrame(abnormal_train_gain, index=column_names))\n",
    "print('\\n')\n",
    "\n",
    "print('abnormal_test_gain')\n",
    "print(pd.DataFrame(abnormal_test_gain, index=column_names))"
   ]
  },
  {
   "cell_type": "code",
   "execution_count": 50,
   "metadata": {},
   "outputs": [
    {
     "name": "stdout",
     "output_type": "stream",
     "text": [
      "Normal Train (Mahalanobis Space)\n",
      "[1.19303944e-03 6.75869906e-03 9.13622029e-03 2.21844389e-02\n",
      " 2.30924070e-02 6.87215586e-02 8.89045402e-02 1.04799727e-01\n",
      " 1.28545605e-01 1.29265320e-01 2.26050603e-01 3.09852387e-01\n",
      " 3.49517049e-01 3.53780548e-01 3.54008402e-01 3.74971783e-01\n",
      " 4.08606751e-01 4.36628553e-01 4.41464051e-01 4.45030743e-01\n",
      " 4.48922325e-01 4.57768893e-01 5.17035816e-01 5.36409162e-01\n",
      " 5.58156950e-01 5.66255147e-01 5.78175554e-01 6.01426501e-01\n",
      " 6.28366370e-01 6.39969348e-01 6.58693638e-01 6.83733772e-01\n",
      " 7.02117005e-01 7.07464029e-01 7.30950507e-01 8.00620549e-01\n",
      " 8.43277270e-01 8.43867375e-01 8.66461815e-01 9.06460628e-01\n",
      " 9.11043716e-01 9.44606387e-01 9.46086965e-01 9.79588366e-01\n",
      " 1.00386488e+00 1.00708363e+00 1.04936071e+00 1.07857034e+00\n",
      " 1.10456094e+00 1.10761513e+00 1.12961813e+00 1.14009195e+00\n",
      " 1.15161438e+00 1.15632624e+00 1.21739684e+00 1.23188951e+00\n",
      " 1.33050823e+00 1.37474505e+00 1.37896679e+00 2.10142731e+00\n",
      " 2.17231924e+00 2.20240912e+00 2.32216881e+00 2.46611406e+00\n",
      " 2.83565512e+00 3.03036029e+00 3.12901755e+00 3.30036044e+00\n",
      " 3.46819357e+00 4.16979124e+00]\n",
      "\n",
      "\n",
      "Normal Test\n",
      "[0.06765568 0.0951548  0.09641155 0.20821051 0.24214239 0.34849265\n",
      " 0.37415611 0.37507808 0.44813369 0.48497895 0.52796696 0.54719688\n",
      " 0.60087808 0.64141837 0.65506927 0.67091744 0.68035515 0.72096646\n",
      " 0.75756627 0.80447071 0.81190262 1.05822027 1.37145576 1.59315844\n",
      " 1.74312046 1.97026846 2.32510739 2.54313023 2.87352617 3.95266634]\n",
      "\n",
      "\n",
      "Abnormal Train\n",
      "[ 0.03022538  0.18269654  0.23755812  0.25119986  0.25308916  0.41645954\n",
      "  0.42658467  0.45801879  0.46398951  0.48315732  0.52212335  0.59499778\n",
      "  0.64581904  0.72164295  0.73300472  0.75301423  0.76705255  0.87148377\n",
      "  0.9348347   1.02497813  1.11957736  3.34129106  4.2276842   4.27103407\n",
      "  4.27757246  4.76867476  5.44522848  5.65946754 11.25957208 11.54394318\n",
      " 11.60937141 11.64203842 11.72300946 11.96286877 12.0240057 ]\n",
      "\n",
      "\n",
      "Abnormal Test\n",
      "[ 0.38270882  0.51767314  0.54105122  0.55507617  0.59688498  0.76988088\n",
      "  0.85530952  0.99973292  1.46157836  4.25782033  4.58016866  4.72024896\n",
      " 10.89896652 11.43432865 11.63208184]\n"
     ]
    }
   ],
   "source": [
    "# Select variables that show positive SN ratio in Normal test\n",
    "normal_train_taguchi = normal_x_train_SI_scaled[['rms']]\n",
    "normal_test_taguchi = normal_x_test_SI_scaled[['rms']]\n",
    "\n",
    "abnormal_train_taguchi = abnormal_x_train_SI_scaled[['rms']]\n",
    "abnormal_test_taguchi = abnormal_x_test_SI_scaled[['rms']]\n",
    "\n",
    "def get_MD_distance_taguchi(x):\n",
    "    normal_cov_mat = pd.DataFrame(normal_train_taguchi).corr()\n",
    "    dist = np.matmul(np.matmul(x, inv(normal_cov_mat)), np.transpose(x)) / len(x)\n",
    "    return(dist)\n",
    "\n",
    "normal_train_dist_taguchi = np.apply_along_axis(get_MD_distance_taguchi, 1, normal_train_taguchi)\n",
    "normal_train_dist_taguchi.sort()\n",
    "normal_test_dist_taguchi = np.apply_along_axis(get_MD_distance_taguchi, 1, normal_test_taguchi)\n",
    "normal_test_dist_taguchi.sort()\n",
    "\n",
    "abnormal_train_dist_taguchi = np.apply_along_axis(get_MD_distance_taguchi, 1, abnormal_train_taguchi)\n",
    "abnormal_train_dist_taguchi.sort()\n",
    "abnormal_test_dist_taguchi = np.apply_along_axis(get_MD_distance_taguchi, 1, abnormal_test_taguchi)\n",
    "abnormal_test_dist_taguchi.sort()\n",
    "\n",
    "# Results of Feature selection\n",
    "print('Normal Train (Mahalanobis Space)')\n",
    "print(normal_train_dist_taguchi)\n",
    "print('\\n')\n",
    "\n",
    "print('Normal Test')\n",
    "print(normal_test_dist_taguchi)\n",
    "print('\\n')\n",
    "\n",
    "print('Abnormal Train')\n",
    "print(abnormal_train_dist_taguchi)\n",
    "print('\\n')\n",
    "\n",
    "print('Abnormal Test')\n",
    "print(abnormal_test_dist_taguchi)"
   ]
  },
  {
   "cell_type": "code",
   "execution_count": null,
   "metadata": {},
   "outputs": [],
   "source": []
  }
 ],
 "metadata": {
  "kernelspec": {
   "display_name": "Python 2",
   "language": "python",
   "name": "python2"
  },
  "language_info": {
   "codemirror_mode": {
    "name": "ipython",
    "version": 2
   },
   "file_extension": ".py",
   "mimetype": "text/x-python",
   "name": "python",
   "nbconvert_exporter": "python",
   "pygments_lexer": "ipython2",
   "version": "2.7.15"
  }
 },
 "nbformat": 4,
 "nbformat_minor": 2
}
